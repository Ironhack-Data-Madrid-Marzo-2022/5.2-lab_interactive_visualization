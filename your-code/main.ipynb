{
 "cells": [
  {
   "cell_type": "markdown",
   "metadata": {},
   "source": [
    "# Interactive Visualization Lab\n",
    "\n",
    "Complete the following set of exercises to solidify your knowledge of interactive visualization using Plotly, Cufflinks, and IPyWidgets."
   ]
  },
  {
   "cell_type": "code",
   "execution_count": 9,
   "metadata": {},
   "outputs": [
    {
     "name": "stdout",
     "output_type": "stream",
     "text": [
      "Requirement already satisfied: chart-studio in c:\\users\\alberto\\anaconda3\\envs\\clase\\lib\\site-packages (1.1.0)Note: you may need to restart the kernel to use updated packages.\n",
      "\n",
      "Requirement already satisfied: six in c:\\users\\alberto\\anaconda3\\envs\\clase\\lib\\site-packages (from chart-studio) (1.16.0)\n",
      "Requirement already satisfied: retrying>=1.3.3 in c:\\users\\alberto\\anaconda3\\envs\\clase\\lib\\site-packages (from chart-studio) (1.3.3)\n",
      "Requirement already satisfied: requests in c:\\users\\alberto\\anaconda3\\envs\\clase\\lib\\site-packages (from chart-studio) (2.27.1)\n",
      "Requirement already satisfied: plotly in c:\\users\\alberto\\anaconda3\\envs\\clase\\lib\\site-packages (from chart-studio) (5.7.0)\n",
      "Requirement already satisfied: tenacity>=6.2.0 in c:\\users\\alberto\\anaconda3\\envs\\clase\\lib\\site-packages (from plotly->chart-studio) (8.0.1)\n",
      "Requirement already satisfied: urllib3<1.27,>=1.21.1 in c:\\users\\alberto\\anaconda3\\envs\\clase\\lib\\site-packages (from requests->chart-studio) (1.26.9)\n",
      "Requirement already satisfied: idna<4,>=2.5 in c:\\users\\alberto\\anaconda3\\envs\\clase\\lib\\site-packages (from requests->chart-studio) (3.3)\n",
      "Requirement already satisfied: certifi>=2017.4.17 in c:\\users\\alberto\\anaconda3\\envs\\clase\\lib\\site-packages (from requests->chart-studio) (2021.10.8)\n",
      "Requirement already satisfied: charset-normalizer~=2.0.0 in c:\\users\\alberto\\anaconda3\\envs\\clase\\lib\\site-packages (from requests->chart-studio) (2.0.12)\n",
      "Collecting cufflinks\n",
      "  Downloading cufflinks-0.17.3.tar.gz (81 kB)\n",
      "Requirement already satisfied: numpy>=1.9.2 in c:\\users\\alberto\\anaconda3\\envs\\clase\\lib\\site-packages (from cufflinks) (1.22.3)\n",
      "Requirement already satisfied: pandas>=0.19.2 in c:\\users\\alberto\\anaconda3\\envs\\clase\\lib\\site-packages (from cufflinks) (1.4.1)\n",
      "Requirement already satisfied: plotly>=4.1.1 in c:\\users\\alberto\\anaconda3\\envs\\clase\\lib\\site-packages (from cufflinks) (5.7.0)\n",
      "Requirement already satisfied: six>=1.9.0 in c:\\users\\alberto\\anaconda3\\envs\\clase\\lib\\site-packages (from cufflinks) (1.16.0)\n",
      "Collecting colorlover>=0.2.1\n",
      "  Downloading colorlover-0.3.0-py3-none-any.whl (8.9 kB)\n",
      "Requirement already satisfied: setuptools>=34.4.1 in c:\\users\\alberto\\anaconda3\\envs\\clase\\lib\\site-packages (from cufflinks) (58.0.4)\n",
      "Requirement already satisfied: ipython>=5.3.0 in c:\\users\\alberto\\anaconda3\\envs\\clase\\lib\\site-packages (from cufflinks) (8.1.1)\n",
      "Requirement already satisfied: ipywidgets>=7.0.0 in c:\\users\\alberto\\anaconda3\\envs\\clase\\lib\\site-packages (from cufflinks) (7.7.0)\n",
      "Requirement already satisfied: stack-data in c:\\users\\alberto\\anaconda3\\envs\\clase\\lib\\site-packages (from ipython>=5.3.0->cufflinks) (0.2.0)\n",
      "Requirement already satisfied: prompt-toolkit!=3.0.0,!=3.0.1,<3.1.0,>=2.0.0 in c:\\users\\alberto\\anaconda3\\envs\\clase\\lib\\site-packages (from ipython>=5.3.0->cufflinks) (3.0.28)\n",
      "Requirement already satisfied: jedi>=0.16 in c:\\users\\alberto\\anaconda3\\envs\\clase\\lib\\site-packages (from ipython>=5.3.0->cufflinks) (0.18.1)\n",
      "Requirement already satisfied: colorama in c:\\users\\alberto\\anaconda3\\envs\\clase\\lib\\site-packages (from ipython>=5.3.0->cufflinks) (0.4.4)\n",
      "Requirement already satisfied: decorator in c:\\users\\alberto\\anaconda3\\envs\\clase\\lib\\site-packages (from ipython>=5.3.0->cufflinks) (5.1.1)\n",
      "Requirement already satisfied: matplotlib-inline in c:\\users\\alberto\\anaconda3\\envs\\clase\\lib\\site-packages (from ipython>=5.3.0->cufflinks) (0.1.3)\n",
      "Requirement already satisfied: traitlets>=5 in c:\\users\\alberto\\anaconda3\\envs\\clase\\lib\\site-packages (from ipython>=5.3.0->cufflinks) (5.1.1)\n",
      "Requirement already satisfied: backcall in c:\\users\\alberto\\anaconda3\\envs\\clase\\lib\\site-packages (from ipython>=5.3.0->cufflinks) (0.2.0)\n",
      "Requirement already satisfied: pickleshare in c:\\users\\alberto\\anaconda3\\envs\\clase\\lib\\site-packages (from ipython>=5.3.0->cufflinks) (0.7.5)\n",
      "Requirement already satisfied: pygments>=2.4.0 in c:\\users\\alberto\\anaconda3\\envs\\clase\\lib\\site-packages (from ipython>=5.3.0->cufflinks) (2.11.2)\n",
      "Requirement already satisfied: ipykernel>=4.5.1 in c:\\users\\alberto\\anaconda3\\envs\\clase\\lib\\site-packages (from ipywidgets>=7.0.0->cufflinks) (6.9.2)\n",
      "Requirement already satisfied: nbformat>=4.2.0 in c:\\users\\alberto\\anaconda3\\envs\\clase\\lib\\site-packages (from ipywidgets>=7.0.0->cufflinks) (5.2.0)\n",
      "Requirement already satisfied: widgetsnbextension~=3.6.0 in c:\\users\\alberto\\anaconda3\\envs\\clase\\lib\\site-packages (from ipywidgets>=7.0.0->cufflinks) (3.6.0)\n",
      "Requirement already satisfied: jupyterlab-widgets>=1.0.0 in c:\\users\\alberto\\anaconda3\\envs\\clase\\lib\\site-packages (from ipywidgets>=7.0.0->cufflinks) (1.1.0)\n",
      "Requirement already satisfied: ipython-genutils~=0.2.0 in c:\\users\\alberto\\anaconda3\\envs\\clase\\lib\\site-packages (from ipywidgets>=7.0.0->cufflinks) (0.2.0)\n",
      "Requirement already satisfied: tornado<7.0,>=4.2 in c:\\users\\alberto\\anaconda3\\envs\\clase\\lib\\site-packages (from ipykernel>=4.5.1->ipywidgets>=7.0.0->cufflinks) (6.1)\n",
      "Requirement already satisfied: psutil in c:\\users\\alberto\\anaconda3\\envs\\clase\\lib\\site-packages (from ipykernel>=4.5.1->ipywidgets>=7.0.0->cufflinks) (5.9.0)\n",
      "Requirement already satisfied: jupyter-client<8.0 in c:\\users\\alberto\\anaconda3\\envs\\clase\\lib\\site-packages (from ipykernel>=4.5.1->ipywidgets>=7.0.0->cufflinks) (7.1.2)\n",
      "Requirement already satisfied: debugpy<2.0,>=1.0.0 in c:\\users\\alberto\\anaconda3\\envs\\clase\\lib\\site-packages (from ipykernel>=4.5.1->ipywidgets>=7.0.0->cufflinks) (1.5.1)\n",
      "Requirement already satisfied: nest-asyncio in c:\\users\\alberto\\anaconda3\\envs\\clase\\lib\\site-packages (from ipykernel>=4.5.1->ipywidgets>=7.0.0->cufflinks) (1.5.4)\n",
      "Requirement already satisfied: parso<0.9.0,>=0.8.0 in c:\\users\\alberto\\anaconda3\\envs\\clase\\lib\\site-packages (from jedi>=0.16->ipython>=5.3.0->cufflinks) (0.8.3)\n",
      "Requirement already satisfied: pyzmq>=13 in c:\\users\\alberto\\anaconda3\\envs\\clase\\lib\\site-packages (from jupyter-client<8.0->ipykernel>=4.5.1->ipywidgets>=7.0.0->cufflinks) (22.3.0)\n",
      "Requirement already satisfied: jupyter-core>=4.6.0 in c:\\users\\alberto\\anaconda3\\envs\\clase\\lib\\site-packages (from jupyter-client<8.0->ipykernel>=4.5.1->ipywidgets>=7.0.0->cufflinks) (4.9.2)\n",
      "Requirement already satisfied: entrypoints in c:\\users\\alberto\\anaconda3\\envs\\clase\\lib\\site-packages (from jupyter-client<8.0->ipykernel>=4.5.1->ipywidgets>=7.0.0->cufflinks) (0.4)\n",
      "Requirement already satisfied: python-dateutil>=2.1 in c:\\users\\alberto\\anaconda3\\envs\\clase\\lib\\site-packages (from jupyter-client<8.0->ipykernel>=4.5.1->ipywidgets>=7.0.0->cufflinks) (2.8.2)\n",
      "Requirement already satisfied: pywin32>=1.0 in c:\\users\\alberto\\anaconda3\\envs\\clase\\lib\\site-packages (from jupyter-core>=4.6.0->jupyter-client<8.0->ipykernel>=4.5.1->ipywidgets>=7.0.0->cufflinks) (303)\n",
      "Requirement already satisfied: jsonschema!=2.5.0,>=2.4 in c:\\users\\alberto\\anaconda3\\envs\\clase\\lib\\site-packages (from nbformat>=4.2.0->ipywidgets>=7.0.0->cufflinks) (4.4.0)\n",
      "Requirement already satisfied: pyrsistent!=0.17.0,!=0.17.1,!=0.17.2,>=0.14.0 in c:\\users\\alberto\\anaconda3\\envs\\clase\\lib\\site-packages (from jsonschema!=2.5.0,>=2.4->nbformat>=4.2.0->ipywidgets>=7.0.0->cufflinks) (0.18.1)\n",
      "Requirement already satisfied: attrs>=17.4.0 in c:\\users\\alberto\\anaconda3\\envs\\clase\\lib\\site-packages (from jsonschema!=2.5.0,>=2.4->nbformat>=4.2.0->ipywidgets>=7.0.0->cufflinks) (21.4.0)\n",
      "Requirement already satisfied: pytz>=2020.1 in c:\\users\\alberto\\anaconda3\\envs\\clase\\lib\\site-packages (from pandas>=0.19.2->cufflinks) (2022.1)\n",
      "Requirement already satisfied: tenacity>=6.2.0 in c:\\users\\alberto\\anaconda3\\envs\\clase\\lib\\site-packages (from plotly>=4.1.1->cufflinks) (8.0.1)\n",
      "Requirement already satisfied: wcwidth in c:\\users\\alberto\\anaconda3\\envs\\clase\\lib\\site-packages (from prompt-toolkit!=3.0.0,!=3.0.1,<3.1.0,>=2.0.0->ipython>=5.3.0->cufflinks) (0.2.5)\n",
      "Requirement already satisfied: notebook>=4.4.1 in c:\\users\\alberto\\anaconda3\\envs\\clase\\lib\\site-packages (from widgetsnbextension~=3.6.0->ipywidgets>=7.0.0->cufflinks) (6.4.10)\n",
      "Requirement already satisfied: jinja2 in c:\\users\\alberto\\anaconda3\\envs\\clase\\lib\\site-packages (from notebook>=4.4.1->widgetsnbextension~=3.6.0->ipywidgets>=7.0.0->cufflinks) (3.0.3)\n",
      "Requirement already satisfied: terminado>=0.8.3 in c:\\users\\alberto\\anaconda3\\envs\\clase\\lib\\site-packages (from notebook>=4.4.1->widgetsnbextension~=3.6.0->ipywidgets>=7.0.0->cufflinks) (0.13.3)\n",
      "Requirement already satisfied: prometheus-client in c:\\users\\alberto\\anaconda3\\envs\\clase\\lib\\site-packages (from notebook>=4.4.1->widgetsnbextension~=3.6.0->ipywidgets>=7.0.0->cufflinks) (0.13.1)\n",
      "Requirement already satisfied: Send2Trash>=1.8.0 in c:\\users\\alberto\\anaconda3\\envs\\clase\\lib\\site-packages (from notebook>=4.4.1->widgetsnbextension~=3.6.0->ipywidgets>=7.0.0->cufflinks) (1.8.0)\n",
      "Requirement already satisfied: argon2-cffi in c:\\users\\alberto\\anaconda3\\envs\\clase\\lib\\site-packages (from notebook>=4.4.1->widgetsnbextension~=3.6.0->ipywidgets>=7.0.0->cufflinks) (21.3.0)\n",
      "Requirement already satisfied: nbconvert>=5 in c:\\users\\alberto\\anaconda3\\envs\\clase\\lib\\site-packages (from notebook>=4.4.1->widgetsnbextension~=3.6.0->ipywidgets>=7.0.0->cufflinks) (6.4.4)\n",
      "Requirement already satisfied: mistune<2,>=0.8.1 in c:\\users\\alberto\\anaconda3\\envs\\clase\\lib\\site-packages (from nbconvert>=5->notebook>=4.4.1->widgetsnbextension~=3.6.0->ipywidgets>=7.0.0->cufflinks) (0.8.4)\n",
      "Requirement already satisfied: testpath in c:\\users\\alberto\\anaconda3\\envs\\clase\\lib\\site-packages (from nbconvert>=5->notebook>=4.4.1->widgetsnbextension~=3.6.0->ipywidgets>=7.0.0->cufflinks) (0.6.0)\n",
      "Requirement already satisfied: defusedxml in c:\\users\\alberto\\anaconda3\\envs\\clase\\lib\\site-packages (from nbconvert>=5->notebook>=4.4.1->widgetsnbextension~=3.6.0->ipywidgets>=7.0.0->cufflinks) (0.7.1)\n",
      "Requirement already satisfied: bleach in c:\\users\\alberto\\anaconda3\\envs\\clase\\lib\\site-packages (from nbconvert>=5->notebook>=4.4.1->widgetsnbextension~=3.6.0->ipywidgets>=7.0.0->cufflinks) (4.1.0)\n",
      "Requirement already satisfied: pandocfilters>=1.4.1 in c:\\users\\alberto\\anaconda3\\envs\\clase\\lib\\site-packages (from nbconvert>=5->notebook>=4.4.1->widgetsnbextension~=3.6.0->ipywidgets>=7.0.0->cufflinks) (1.5.0)\n",
      "Requirement already satisfied: nbclient<0.6.0,>=0.5.0 in c:\\users\\alberto\\anaconda3\\envs\\clase\\lib\\site-packages (from nbconvert>=5->notebook>=4.4.1->widgetsnbextension~=3.6.0->ipywidgets>=7.0.0->cufflinks) (0.5.13)\n",
      "Requirement already satisfied: beautifulsoup4 in c:\\users\\alberto\\anaconda3\\envs\\clase\\lib\\site-packages (from nbconvert>=5->notebook>=4.4.1->widgetsnbextension~=3.6.0->ipywidgets>=7.0.0->cufflinks) (4.10.0)\n",
      "Requirement already satisfied: jupyterlab-pygments in c:\\users\\alberto\\anaconda3\\envs\\clase\\lib\\site-packages (from nbconvert>=5->notebook>=4.4.1->widgetsnbextension~=3.6.0->ipywidgets>=7.0.0->cufflinks) (0.1.2)\n",
      "Requirement already satisfied: MarkupSafe>=2.0 in c:\\users\\alberto\\anaconda3\\envs\\clase\\lib\\site-packages (from jinja2->notebook>=4.4.1->widgetsnbextension~=3.6.0->ipywidgets>=7.0.0->cufflinks) (2.1.1)\n",
      "Requirement already satisfied: pywinpty>=1.1.0 in c:\\users\\alberto\\anaconda3\\envs\\clase\\lib\\site-packages (from terminado>=0.8.3->notebook>=4.4.1->widgetsnbextension~=3.6.0->ipywidgets>=7.0.0->cufflinks) (2.0.5)\n",
      "Requirement already satisfied: argon2-cffi-bindings in c:\\users\\alberto\\anaconda3\\envs\\clase\\lib\\site-packages (from argon2-cffi->notebook>=4.4.1->widgetsnbextension~=3.6.0->ipywidgets>=7.0.0->cufflinks) (21.2.0)\n",
      "Requirement already satisfied: cffi>=1.0.1 in c:\\users\\alberto\\anaconda3\\envs\\clase\\lib\\site-packages (from argon2-cffi-bindings->argon2-cffi->notebook>=4.4.1->widgetsnbextension~=3.6.0->ipywidgets>=7.0.0->cufflinks) (1.15.0)\n",
      "Requirement already satisfied: pycparser in c:\\users\\alberto\\anaconda3\\envs\\clase\\lib\\site-packages (from cffi>=1.0.1->argon2-cffi-bindings->argon2-cffi->notebook>=4.4.1->widgetsnbextension~=3.6.0->ipywidgets>=7.0.0->cufflinks) (2.21)\n",
      "Requirement already satisfied: soupsieve>1.2 in c:\\users\\alberto\\anaconda3\\envs\\clase\\lib\\site-packages (from beautifulsoup4->nbconvert>=5->notebook>=4.4.1->widgetsnbextension~=3.6.0->ipywidgets>=7.0.0->cufflinks) (2.3.1)\n",
      "Requirement already satisfied: webencodings in c:\\users\\alberto\\anaconda3\\envs\\clase\\lib\\site-packages (from bleach->nbconvert>=5->notebook>=4.4.1->widgetsnbextension~=3.6.0->ipywidgets>=7.0.0->cufflinks) (0.5.1)\n",
      "Requirement already satisfied: packaging in c:\\users\\alberto\\anaconda3\\envs\\clase\\lib\\site-packages (from bleach->nbconvert>=5->notebook>=4.4.1->widgetsnbextension~=3.6.0->ipywidgets>=7.0.0->cufflinks) (21.3)\n",
      "Requirement already satisfied: pyparsing!=3.0.5,>=2.0.2 in c:\\users\\alberto\\anaconda3\\envs\\clase\\lib\\site-packages (from packaging->bleach->nbconvert>=5->notebook>=4.4.1->widgetsnbextension~=3.6.0->ipywidgets>=7.0.0->cufflinks) (3.0.7)\n",
      "Requirement already satisfied: executing in c:\\users\\alberto\\anaconda3\\envs\\clase\\lib\\site-packages (from stack-data->ipython>=5.3.0->cufflinks) (0.8.3)\n",
      "Requirement already satisfied: asttokens in c:\\users\\alberto\\anaconda3\\envs\\clase\\lib\\site-packages (from stack-data->ipython>=5.3.0->cufflinks) (2.0.5)\n",
      "Requirement already satisfied: pure-eval in c:\\users\\alberto\\anaconda3\\envs\\clase\\lib\\site-packages (from stack-data->ipython>=5.3.0->cufflinks) (0.2.2)\n",
      "Building wheels for collected packages: cufflinks\n",
      "  Building wheel for cufflinks (setup.py): started\n",
      "  Building wheel for cufflinks (setup.py): finished with status 'done'\n",
      "  Created wheel for cufflinks: filename=cufflinks-0.17.3-py3-none-any.whl size=68736 sha256=05dc508593d9dca5914202674d9e71edaebe815c3968ae80e718a0ab36703654\n",
      "  Stored in directory: c:\\users\\alberto\\appdata\\local\\pip\\cache\\wheels\\29\\b4\\f8\\2fd2206eeeba6ccad8167e4e8894b8c4ec27bf1342037fd136\n",
      "Successfully built cufflinks\n",
      "Installing collected packages: colorlover, cufflinks\n",
      "Successfully installed colorlover-0.3.0 cufflinks-0.17.3\n",
      "Note: you may need to restart the kernel to use updated packages.\n"
     ]
    }
   ],
   "source": [
    "%pip install chart-studio\n",
    "%pip install cufflinks"
   ]
  },
  {
   "cell_type": "code",
   "execution_count": 11,
   "metadata": {},
   "outputs": [
    {
     "data": {
      "text/html": [
       "        <script type=\"text/javascript\">\n",
       "        window.PlotlyConfig = {MathJaxConfig: 'local'};\n",
       "        if (window.MathJax) {MathJax.Hub.Config({SVG: {font: \"STIX-Web\"}});}\n",
       "        if (typeof require !== 'undefined') {\n",
       "        require.undef(\"plotly\");\n",
       "        requirejs.config({\n",
       "            paths: {\n",
       "                'plotly': ['https://cdn.plot.ly/plotly-2.11.1.min']\n",
       "            }\n",
       "        });\n",
       "        require(['plotly'], function(Plotly) {\n",
       "            window._Plotly = Plotly;\n",
       "        });\n",
       "        }\n",
       "        </script>\n",
       "        "
      ]
     },
     "metadata": {},
     "output_type": "display_data"
    }
   ],
   "source": [
    "\n",
    "\n",
    "import pandas as pd\n",
    "from chart_studio import plotly as py\n",
    "#import plotly.plotly as py\n",
    "import cufflinks as cf\n",
    "from ipywidgets import interact\n",
    "\n",
    "cf.go_offline()"
   ]
  },
  {
   "cell_type": "code",
   "execution_count": 19,
   "metadata": {},
   "outputs": [],
   "source": [
    "data = pd.read_excel(r'..\\data\\Online Retail.xlsx')"
   ]
  },
  {
   "cell_type": "markdown",
   "metadata": {},
   "source": [
    "## 1. Create an interactive bar chart showing total quantity and revenue by country (excluding United Kingdom) for the month of April 2011."
   ]
  },
  {
   "cell_type": "code",
   "execution_count": null,
   "metadata": {},
   "outputs": [],
   "source": [
    "#pd.options.plotting.backend = \"matplotlib\"\n",
    "pd.options.plotting.backend = \"plotly\""
   ]
  },
  {
   "cell_type": "code",
   "execution_count": 44,
   "metadata": {},
   "outputs": [
    {
     "name": "stdout",
     "output_type": "stream",
     "text": [
      "<class 'pandas.core.frame.DataFrame'>\n",
      "RangeIndex: 396034 entries, 0 to 396033\n",
      "Data columns (total 9 columns):\n",
      " #   Column       Non-Null Count   Dtype         \n",
      "---  ------       --------------   -----         \n",
      " 0   InvoiceNo    396034 non-null  int64         \n",
      " 1   InvoiceDate  396034 non-null  datetime64[ns]\n",
      " 2   StockCode    396034 non-null  object        \n",
      " 3   Description  396034 non-null  object        \n",
      " 4   Quantity     396034 non-null  int64         \n",
      " 5   UnitPrice    396034 non-null  float64       \n",
      " 6   Revenue      396034 non-null  float64       \n",
      " 7   CustomerID   396034 non-null  int64         \n",
      " 8   Country      396034 non-null  object        \n",
      "dtypes: datetime64[ns](1), float64(2), int64(3), object(3)\n",
      "memory usage: 27.2+ MB\n"
     ]
    },
    {
     "data": {
      "application/vnd.plotly.v1+json": {
       "config": {
        "plotlyServerURL": "https://plot.ly"
       },
       "data": [
        {
         "alignmentgroup": "True",
         "hovertemplate": "Revenue=%{x}<br>Country=%{y}<extra></extra>",
         "legendgroup": "",
         "marker": {
          "color": "#636efa",
          "pattern": {
           "shape": ""
          }
         },
         "name": "",
         "offsetgroup": "",
         "orientation": "h",
         "showlegend": false,
         "textposition": "auto",
         "type": "bar",
         "x": [
          138171.31,
          8742.68,
          548.4,
          36927.34,
          1143.6,
          3115.44,
          20007.44,
          13254.69,
          786.74,
          18211.34,
          257296.56,
          18344.88,
          183891.68,
          205569.89,
          4425.52,
          4310,
          7221.69,
          15820.24,
          37416.37,
          1693.88,
          1661.06,
          2070.59,
          283889.34,
          32454.64,
          6974.65,
          26707.95,
          145.92,
          9120.39,
          1002.31,
          55725.11,
          36839.33,
          52441.95,
          3580.39,
          1864.78
         ],
         "xaxis": "x",
         "y": [
          "Australia",
          "Austria",
          "Bahrain",
          "Belgium",
          "Brazil",
          "Canada",
          "Channel Islands",
          "Cyprus",
          "Czech Republic",
          "Denmark",
          "EIRE",
          "Finland",
          "France",
          "Germany",
          "Greece",
          "Iceland",
          "Israel",
          "Italy",
          "Japan",
          "Lebanon",
          "Lithuania",
          "Malta",
          "Netherlands",
          "Norway",
          "Poland",
          "Portugal",
          "Saudi Arabia",
          "Singapore",
          "South Africa",
          "Spain",
          "Sweden",
          "Switzerland",
          "USA",
          "United Arab Emirates"
         ],
         "yaxis": "y"
        }
       ],
       "layout": {
        "barmode": "relative",
        "legend": {
         "tracegroupgap": 0
        },
        "margin": {
         "t": 60
        },
        "template": {
         "data": {
          "bar": [
           {
            "error_x": {
             "color": "#2a3f5f"
            },
            "error_y": {
             "color": "#2a3f5f"
            },
            "marker": {
             "line": {
              "color": "#E5ECF6",
              "width": 0.5
             },
             "pattern": {
              "fillmode": "overlay",
              "size": 10,
              "solidity": 0.2
             }
            },
            "type": "bar"
           }
          ],
          "barpolar": [
           {
            "marker": {
             "line": {
              "color": "#E5ECF6",
              "width": 0.5
             },
             "pattern": {
              "fillmode": "overlay",
              "size": 10,
              "solidity": 0.2
             }
            },
            "type": "barpolar"
           }
          ],
          "carpet": [
           {
            "aaxis": {
             "endlinecolor": "#2a3f5f",
             "gridcolor": "white",
             "linecolor": "white",
             "minorgridcolor": "white",
             "startlinecolor": "#2a3f5f"
            },
            "baxis": {
             "endlinecolor": "#2a3f5f",
             "gridcolor": "white",
             "linecolor": "white",
             "minorgridcolor": "white",
             "startlinecolor": "#2a3f5f"
            },
            "type": "carpet"
           }
          ],
          "choropleth": [
           {
            "colorbar": {
             "outlinewidth": 0,
             "ticks": ""
            },
            "type": "choropleth"
           }
          ],
          "contour": [
           {
            "colorbar": {
             "outlinewidth": 0,
             "ticks": ""
            },
            "colorscale": [
             [
              0,
              "#0d0887"
             ],
             [
              0.1111111111111111,
              "#46039f"
             ],
             [
              0.2222222222222222,
              "#7201a8"
             ],
             [
              0.3333333333333333,
              "#9c179e"
             ],
             [
              0.4444444444444444,
              "#bd3786"
             ],
             [
              0.5555555555555556,
              "#d8576b"
             ],
             [
              0.6666666666666666,
              "#ed7953"
             ],
             [
              0.7777777777777778,
              "#fb9f3a"
             ],
             [
              0.8888888888888888,
              "#fdca26"
             ],
             [
              1,
              "#f0f921"
             ]
            ],
            "type": "contour"
           }
          ],
          "contourcarpet": [
           {
            "colorbar": {
             "outlinewidth": 0,
             "ticks": ""
            },
            "type": "contourcarpet"
           }
          ],
          "heatmap": [
           {
            "colorbar": {
             "outlinewidth": 0,
             "ticks": ""
            },
            "colorscale": [
             [
              0,
              "#0d0887"
             ],
             [
              0.1111111111111111,
              "#46039f"
             ],
             [
              0.2222222222222222,
              "#7201a8"
             ],
             [
              0.3333333333333333,
              "#9c179e"
             ],
             [
              0.4444444444444444,
              "#bd3786"
             ],
             [
              0.5555555555555556,
              "#d8576b"
             ],
             [
              0.6666666666666666,
              "#ed7953"
             ],
             [
              0.7777777777777778,
              "#fb9f3a"
             ],
             [
              0.8888888888888888,
              "#fdca26"
             ],
             [
              1,
              "#f0f921"
             ]
            ],
            "type": "heatmap"
           }
          ],
          "heatmapgl": [
           {
            "colorbar": {
             "outlinewidth": 0,
             "ticks": ""
            },
            "colorscale": [
             [
              0,
              "#0d0887"
             ],
             [
              0.1111111111111111,
              "#46039f"
             ],
             [
              0.2222222222222222,
              "#7201a8"
             ],
             [
              0.3333333333333333,
              "#9c179e"
             ],
             [
              0.4444444444444444,
              "#bd3786"
             ],
             [
              0.5555555555555556,
              "#d8576b"
             ],
             [
              0.6666666666666666,
              "#ed7953"
             ],
             [
              0.7777777777777778,
              "#fb9f3a"
             ],
             [
              0.8888888888888888,
              "#fdca26"
             ],
             [
              1,
              "#f0f921"
             ]
            ],
            "type": "heatmapgl"
           }
          ],
          "histogram": [
           {
            "marker": {
             "pattern": {
              "fillmode": "overlay",
              "size": 10,
              "solidity": 0.2
             }
            },
            "type": "histogram"
           }
          ],
          "histogram2d": [
           {
            "colorbar": {
             "outlinewidth": 0,
             "ticks": ""
            },
            "colorscale": [
             [
              0,
              "#0d0887"
             ],
             [
              0.1111111111111111,
              "#46039f"
             ],
             [
              0.2222222222222222,
              "#7201a8"
             ],
             [
              0.3333333333333333,
              "#9c179e"
             ],
             [
              0.4444444444444444,
              "#bd3786"
             ],
             [
              0.5555555555555556,
              "#d8576b"
             ],
             [
              0.6666666666666666,
              "#ed7953"
             ],
             [
              0.7777777777777778,
              "#fb9f3a"
             ],
             [
              0.8888888888888888,
              "#fdca26"
             ],
             [
              1,
              "#f0f921"
             ]
            ],
            "type": "histogram2d"
           }
          ],
          "histogram2dcontour": [
           {
            "colorbar": {
             "outlinewidth": 0,
             "ticks": ""
            },
            "colorscale": [
             [
              0,
              "#0d0887"
             ],
             [
              0.1111111111111111,
              "#46039f"
             ],
             [
              0.2222222222222222,
              "#7201a8"
             ],
             [
              0.3333333333333333,
              "#9c179e"
             ],
             [
              0.4444444444444444,
              "#bd3786"
             ],
             [
              0.5555555555555556,
              "#d8576b"
             ],
             [
              0.6666666666666666,
              "#ed7953"
             ],
             [
              0.7777777777777778,
              "#fb9f3a"
             ],
             [
              0.8888888888888888,
              "#fdca26"
             ],
             [
              1,
              "#f0f921"
             ]
            ],
            "type": "histogram2dcontour"
           }
          ],
          "mesh3d": [
           {
            "colorbar": {
             "outlinewidth": 0,
             "ticks": ""
            },
            "type": "mesh3d"
           }
          ],
          "parcoords": [
           {
            "line": {
             "colorbar": {
              "outlinewidth": 0,
              "ticks": ""
             }
            },
            "type": "parcoords"
           }
          ],
          "pie": [
           {
            "automargin": true,
            "type": "pie"
           }
          ],
          "scatter": [
           {
            "fillpattern": {
             "fillmode": "overlay",
             "size": 10,
             "solidity": 0.2
            },
            "type": "scatter"
           }
          ],
          "scatter3d": [
           {
            "line": {
             "colorbar": {
              "outlinewidth": 0,
              "ticks": ""
             }
            },
            "marker": {
             "colorbar": {
              "outlinewidth": 0,
              "ticks": ""
             }
            },
            "type": "scatter3d"
           }
          ],
          "scattercarpet": [
           {
            "marker": {
             "colorbar": {
              "outlinewidth": 0,
              "ticks": ""
             }
            },
            "type": "scattercarpet"
           }
          ],
          "scattergeo": [
           {
            "marker": {
             "colorbar": {
              "outlinewidth": 0,
              "ticks": ""
             }
            },
            "type": "scattergeo"
           }
          ],
          "scattergl": [
           {
            "marker": {
             "colorbar": {
              "outlinewidth": 0,
              "ticks": ""
             }
            },
            "type": "scattergl"
           }
          ],
          "scattermapbox": [
           {
            "marker": {
             "colorbar": {
              "outlinewidth": 0,
              "ticks": ""
             }
            },
            "type": "scattermapbox"
           }
          ],
          "scatterpolar": [
           {
            "marker": {
             "colorbar": {
              "outlinewidth": 0,
              "ticks": ""
             }
            },
            "type": "scatterpolar"
           }
          ],
          "scatterpolargl": [
           {
            "marker": {
             "colorbar": {
              "outlinewidth": 0,
              "ticks": ""
             }
            },
            "type": "scatterpolargl"
           }
          ],
          "scatterternary": [
           {
            "marker": {
             "colorbar": {
              "outlinewidth": 0,
              "ticks": ""
             }
            },
            "type": "scatterternary"
           }
          ],
          "surface": [
           {
            "colorbar": {
             "outlinewidth": 0,
             "ticks": ""
            },
            "colorscale": [
             [
              0,
              "#0d0887"
             ],
             [
              0.1111111111111111,
              "#46039f"
             ],
             [
              0.2222222222222222,
              "#7201a8"
             ],
             [
              0.3333333333333333,
              "#9c179e"
             ],
             [
              0.4444444444444444,
              "#bd3786"
             ],
             [
              0.5555555555555556,
              "#d8576b"
             ],
             [
              0.6666666666666666,
              "#ed7953"
             ],
             [
              0.7777777777777778,
              "#fb9f3a"
             ],
             [
              0.8888888888888888,
              "#fdca26"
             ],
             [
              1,
              "#f0f921"
             ]
            ],
            "type": "surface"
           }
          ],
          "table": [
           {
            "cells": {
             "fill": {
              "color": "#EBF0F8"
             },
             "line": {
              "color": "white"
             }
            },
            "header": {
             "fill": {
              "color": "#C8D4E3"
             },
             "line": {
              "color": "white"
             }
            },
            "type": "table"
           }
          ]
         },
         "layout": {
          "annotationdefaults": {
           "arrowcolor": "#2a3f5f",
           "arrowhead": 0,
           "arrowwidth": 1
          },
          "autotypenumbers": "strict",
          "coloraxis": {
           "colorbar": {
            "outlinewidth": 0,
            "ticks": ""
           }
          },
          "colorscale": {
           "diverging": [
            [
             0,
             "#8e0152"
            ],
            [
             0.1,
             "#c51b7d"
            ],
            [
             0.2,
             "#de77ae"
            ],
            [
             0.3,
             "#f1b6da"
            ],
            [
             0.4,
             "#fde0ef"
            ],
            [
             0.5,
             "#f7f7f7"
            ],
            [
             0.6,
             "#e6f5d0"
            ],
            [
             0.7,
             "#b8e186"
            ],
            [
             0.8,
             "#7fbc41"
            ],
            [
             0.9,
             "#4d9221"
            ],
            [
             1,
             "#276419"
            ]
           ],
           "sequential": [
            [
             0,
             "#0d0887"
            ],
            [
             0.1111111111111111,
             "#46039f"
            ],
            [
             0.2222222222222222,
             "#7201a8"
            ],
            [
             0.3333333333333333,
             "#9c179e"
            ],
            [
             0.4444444444444444,
             "#bd3786"
            ],
            [
             0.5555555555555556,
             "#d8576b"
            ],
            [
             0.6666666666666666,
             "#ed7953"
            ],
            [
             0.7777777777777778,
             "#fb9f3a"
            ],
            [
             0.8888888888888888,
             "#fdca26"
            ],
            [
             1,
             "#f0f921"
            ]
           ],
           "sequentialminus": [
            [
             0,
             "#0d0887"
            ],
            [
             0.1111111111111111,
             "#46039f"
            ],
            [
             0.2222222222222222,
             "#7201a8"
            ],
            [
             0.3333333333333333,
             "#9c179e"
            ],
            [
             0.4444444444444444,
             "#bd3786"
            ],
            [
             0.5555555555555556,
             "#d8576b"
            ],
            [
             0.6666666666666666,
             "#ed7953"
            ],
            [
             0.7777777777777778,
             "#fb9f3a"
            ],
            [
             0.8888888888888888,
             "#fdca26"
            ],
            [
             1,
             "#f0f921"
            ]
           ]
          },
          "colorway": [
           "#636efa",
           "#EF553B",
           "#00cc96",
           "#ab63fa",
           "#FFA15A",
           "#19d3f3",
           "#FF6692",
           "#B6E880",
           "#FF97FF",
           "#FECB52"
          ],
          "font": {
           "color": "#2a3f5f"
          },
          "geo": {
           "bgcolor": "white",
           "lakecolor": "white",
           "landcolor": "#E5ECF6",
           "showlakes": true,
           "showland": true,
           "subunitcolor": "white"
          },
          "hoverlabel": {
           "align": "left"
          },
          "hovermode": "closest",
          "mapbox": {
           "style": "light"
          },
          "paper_bgcolor": "white",
          "plot_bgcolor": "#E5ECF6",
          "polar": {
           "angularaxis": {
            "gridcolor": "white",
            "linecolor": "white",
            "ticks": ""
           },
           "bgcolor": "#E5ECF6",
           "radialaxis": {
            "gridcolor": "white",
            "linecolor": "white",
            "ticks": ""
           }
          },
          "scene": {
           "xaxis": {
            "backgroundcolor": "#E5ECF6",
            "gridcolor": "white",
            "gridwidth": 2,
            "linecolor": "white",
            "showbackground": true,
            "ticks": "",
            "zerolinecolor": "white"
           },
           "yaxis": {
            "backgroundcolor": "#E5ECF6",
            "gridcolor": "white",
            "gridwidth": 2,
            "linecolor": "white",
            "showbackground": true,
            "ticks": "",
            "zerolinecolor": "white"
           },
           "zaxis": {
            "backgroundcolor": "#E5ECF6",
            "gridcolor": "white",
            "gridwidth": 2,
            "linecolor": "white",
            "showbackground": true,
            "ticks": "",
            "zerolinecolor": "white"
           }
          },
          "shapedefaults": {
           "line": {
            "color": "#2a3f5f"
           }
          },
          "ternary": {
           "aaxis": {
            "gridcolor": "white",
            "linecolor": "white",
            "ticks": ""
           },
           "baxis": {
            "gridcolor": "white",
            "linecolor": "white",
            "ticks": ""
           },
           "bgcolor": "#E5ECF6",
           "caxis": {
            "gridcolor": "white",
            "linecolor": "white",
            "ticks": ""
           }
          },
          "title": {
           "x": 0.05
          },
          "xaxis": {
           "automargin": true,
           "gridcolor": "white",
           "linecolor": "white",
           "ticks": "",
           "title": {
            "standoff": 15
           },
           "zerolinecolor": "white",
           "zerolinewidth": 2
          },
          "yaxis": {
           "automargin": true,
           "gridcolor": "white",
           "linecolor": "white",
           "ticks": "",
           "title": {
            "standoff": 15
           },
           "zerolinecolor": "white",
           "zerolinewidth": 2
          }
         }
        },
        "xaxis": {
         "anchor": "y",
         "domain": [
          0,
          1
         ],
         "title": {
          "text": "Revenue"
         }
        },
        "yaxis": {
         "anchor": "x",
         "domain": [
          0,
          1
         ],
         "title": {
          "text": "Country"
         }
        }
       }
      },
      "text/html": [
       "<div>                            <div id=\"7312273a-7f71-4e61-84f1-e6a639f97272\" class=\"plotly-graph-div\" style=\"height:525px; width:100%;\"></div>            <script type=\"text/javascript\">                require([\"plotly\"], function(Plotly) {                    window.PLOTLYENV=window.PLOTLYENV || {};                                    if (document.getElementById(\"7312273a-7f71-4e61-84f1-e6a639f97272\")) {                    Plotly.newPlot(                        \"7312273a-7f71-4e61-84f1-e6a639f97272\",                        [{\"alignmentgroup\":\"True\",\"hovertemplate\":\"Revenue=%{x}<br>Country=%{y}<extra></extra>\",\"legendgroup\":\"\",\"marker\":{\"color\":\"#636efa\",\"pattern\":{\"shape\":\"\"}},\"name\":\"\",\"offsetgroup\":\"\",\"orientation\":\"h\",\"showlegend\":false,\"textposition\":\"auto\",\"x\":[138171.31,8742.68,548.4,36927.34,1143.6,3115.44,20007.44,13254.69,786.74,18211.34,257296.56,18344.88,183891.68,205569.89,4425.52,4310.0,7221.69,15820.24,37416.37,1693.88,1661.06,2070.59,283889.34,32454.64,6974.65,26707.95,145.92,9120.39,1002.31,55725.11,36839.33,52441.95,3580.39,1864.78],\"xaxis\":\"x\",\"y\":[\"Australia\",\"Austria\",\"Bahrain\",\"Belgium\",\"Brazil\",\"Canada\",\"Channel Islands\",\"Cyprus\",\"Czech Republic\",\"Denmark\",\"EIRE\",\"Finland\",\"France\",\"Germany\",\"Greece\",\"Iceland\",\"Israel\",\"Italy\",\"Japan\",\"Lebanon\",\"Lithuania\",\"Malta\",\"Netherlands\",\"Norway\",\"Poland\",\"Portugal\",\"Saudi Arabia\",\"Singapore\",\"South Africa\",\"Spain\",\"Sweden\",\"Switzerland\",\"USA\",\"United Arab Emirates\"],\"yaxis\":\"y\",\"type\":\"bar\"}],                        {\"template\":{\"data\":{\"histogram2dcontour\":[{\"type\":\"histogram2dcontour\",\"colorbar\":{\"outlinewidth\":0,\"ticks\":\"\"},\"colorscale\":[[0.0,\"#0d0887\"],[0.1111111111111111,\"#46039f\"],[0.2222222222222222,\"#7201a8\"],[0.3333333333333333,\"#9c179e\"],[0.4444444444444444,\"#bd3786\"],[0.5555555555555556,\"#d8576b\"],[0.6666666666666666,\"#ed7953\"],[0.7777777777777778,\"#fb9f3a\"],[0.8888888888888888,\"#fdca26\"],[1.0,\"#f0f921\"]]}],\"choropleth\":[{\"type\":\"choropleth\",\"colorbar\":{\"outlinewidth\":0,\"ticks\":\"\"}}],\"histogram2d\":[{\"type\":\"histogram2d\",\"colorbar\":{\"outlinewidth\":0,\"ticks\":\"\"},\"colorscale\":[[0.0,\"#0d0887\"],[0.1111111111111111,\"#46039f\"],[0.2222222222222222,\"#7201a8\"],[0.3333333333333333,\"#9c179e\"],[0.4444444444444444,\"#bd3786\"],[0.5555555555555556,\"#d8576b\"],[0.6666666666666666,\"#ed7953\"],[0.7777777777777778,\"#fb9f3a\"],[0.8888888888888888,\"#fdca26\"],[1.0,\"#f0f921\"]]}],\"heatmap\":[{\"type\":\"heatmap\",\"colorbar\":{\"outlinewidth\":0,\"ticks\":\"\"},\"colorscale\":[[0.0,\"#0d0887\"],[0.1111111111111111,\"#46039f\"],[0.2222222222222222,\"#7201a8\"],[0.3333333333333333,\"#9c179e\"],[0.4444444444444444,\"#bd3786\"],[0.5555555555555556,\"#d8576b\"],[0.6666666666666666,\"#ed7953\"],[0.7777777777777778,\"#fb9f3a\"],[0.8888888888888888,\"#fdca26\"],[1.0,\"#f0f921\"]]}],\"heatmapgl\":[{\"type\":\"heatmapgl\",\"colorbar\":{\"outlinewidth\":0,\"ticks\":\"\"},\"colorscale\":[[0.0,\"#0d0887\"],[0.1111111111111111,\"#46039f\"],[0.2222222222222222,\"#7201a8\"],[0.3333333333333333,\"#9c179e\"],[0.4444444444444444,\"#bd3786\"],[0.5555555555555556,\"#d8576b\"],[0.6666666666666666,\"#ed7953\"],[0.7777777777777778,\"#fb9f3a\"],[0.8888888888888888,\"#fdca26\"],[1.0,\"#f0f921\"]]}],\"contourcarpet\":[{\"type\":\"contourcarpet\",\"colorbar\":{\"outlinewidth\":0,\"ticks\":\"\"}}],\"contour\":[{\"type\":\"contour\",\"colorbar\":{\"outlinewidth\":0,\"ticks\":\"\"},\"colorscale\":[[0.0,\"#0d0887\"],[0.1111111111111111,\"#46039f\"],[0.2222222222222222,\"#7201a8\"],[0.3333333333333333,\"#9c179e\"],[0.4444444444444444,\"#bd3786\"],[0.5555555555555556,\"#d8576b\"],[0.6666666666666666,\"#ed7953\"],[0.7777777777777778,\"#fb9f3a\"],[0.8888888888888888,\"#fdca26\"],[1.0,\"#f0f921\"]]}],\"surface\":[{\"type\":\"surface\",\"colorbar\":{\"outlinewidth\":0,\"ticks\":\"\"},\"colorscale\":[[0.0,\"#0d0887\"],[0.1111111111111111,\"#46039f\"],[0.2222222222222222,\"#7201a8\"],[0.3333333333333333,\"#9c179e\"],[0.4444444444444444,\"#bd3786\"],[0.5555555555555556,\"#d8576b\"],[0.6666666666666666,\"#ed7953\"],[0.7777777777777778,\"#fb9f3a\"],[0.8888888888888888,\"#fdca26\"],[1.0,\"#f0f921\"]]}],\"mesh3d\":[{\"type\":\"mesh3d\",\"colorbar\":{\"outlinewidth\":0,\"ticks\":\"\"}}],\"scatter\":[{\"fillpattern\":{\"fillmode\":\"overlay\",\"size\":10,\"solidity\":0.2},\"type\":\"scatter\"}],\"parcoords\":[{\"type\":\"parcoords\",\"line\":{\"colorbar\":{\"outlinewidth\":0,\"ticks\":\"\"}}}],\"scatterpolargl\":[{\"type\":\"scatterpolargl\",\"marker\":{\"colorbar\":{\"outlinewidth\":0,\"ticks\":\"\"}}}],\"bar\":[{\"error_x\":{\"color\":\"#2a3f5f\"},\"error_y\":{\"color\":\"#2a3f5f\"},\"marker\":{\"line\":{\"color\":\"#E5ECF6\",\"width\":0.5},\"pattern\":{\"fillmode\":\"overlay\",\"size\":10,\"solidity\":0.2}},\"type\":\"bar\"}],\"scattergeo\":[{\"type\":\"scattergeo\",\"marker\":{\"colorbar\":{\"outlinewidth\":0,\"ticks\":\"\"}}}],\"scatterpolar\":[{\"type\":\"scatterpolar\",\"marker\":{\"colorbar\":{\"outlinewidth\":0,\"ticks\":\"\"}}}],\"histogram\":[{\"marker\":{\"pattern\":{\"fillmode\":\"overlay\",\"size\":10,\"solidity\":0.2}},\"type\":\"histogram\"}],\"scattergl\":[{\"type\":\"scattergl\",\"marker\":{\"colorbar\":{\"outlinewidth\":0,\"ticks\":\"\"}}}],\"scatter3d\":[{\"type\":\"scatter3d\",\"line\":{\"colorbar\":{\"outlinewidth\":0,\"ticks\":\"\"}},\"marker\":{\"colorbar\":{\"outlinewidth\":0,\"ticks\":\"\"}}}],\"scattermapbox\":[{\"type\":\"scattermapbox\",\"marker\":{\"colorbar\":{\"outlinewidth\":0,\"ticks\":\"\"}}}],\"scatterternary\":[{\"type\":\"scatterternary\",\"marker\":{\"colorbar\":{\"outlinewidth\":0,\"ticks\":\"\"}}}],\"scattercarpet\":[{\"type\":\"scattercarpet\",\"marker\":{\"colorbar\":{\"outlinewidth\":0,\"ticks\":\"\"}}}],\"carpet\":[{\"aaxis\":{\"endlinecolor\":\"#2a3f5f\",\"gridcolor\":\"white\",\"linecolor\":\"white\",\"minorgridcolor\":\"white\",\"startlinecolor\":\"#2a3f5f\"},\"baxis\":{\"endlinecolor\":\"#2a3f5f\",\"gridcolor\":\"white\",\"linecolor\":\"white\",\"minorgridcolor\":\"white\",\"startlinecolor\":\"#2a3f5f\"},\"type\":\"carpet\"}],\"table\":[{\"cells\":{\"fill\":{\"color\":\"#EBF0F8\"},\"line\":{\"color\":\"white\"}},\"header\":{\"fill\":{\"color\":\"#C8D4E3\"},\"line\":{\"color\":\"white\"}},\"type\":\"table\"}],\"barpolar\":[{\"marker\":{\"line\":{\"color\":\"#E5ECF6\",\"width\":0.5},\"pattern\":{\"fillmode\":\"overlay\",\"size\":10,\"solidity\":0.2}},\"type\":\"barpolar\"}],\"pie\":[{\"automargin\":true,\"type\":\"pie\"}]},\"layout\":{\"autotypenumbers\":\"strict\",\"colorway\":[\"#636efa\",\"#EF553B\",\"#00cc96\",\"#ab63fa\",\"#FFA15A\",\"#19d3f3\",\"#FF6692\",\"#B6E880\",\"#FF97FF\",\"#FECB52\"],\"font\":{\"color\":\"#2a3f5f\"},\"hovermode\":\"closest\",\"hoverlabel\":{\"align\":\"left\"},\"paper_bgcolor\":\"white\",\"plot_bgcolor\":\"#E5ECF6\",\"polar\":{\"bgcolor\":\"#E5ECF6\",\"angularaxis\":{\"gridcolor\":\"white\",\"linecolor\":\"white\",\"ticks\":\"\"},\"radialaxis\":{\"gridcolor\":\"white\",\"linecolor\":\"white\",\"ticks\":\"\"}},\"ternary\":{\"bgcolor\":\"#E5ECF6\",\"aaxis\":{\"gridcolor\":\"white\",\"linecolor\":\"white\",\"ticks\":\"\"},\"baxis\":{\"gridcolor\":\"white\",\"linecolor\":\"white\",\"ticks\":\"\"},\"caxis\":{\"gridcolor\":\"white\",\"linecolor\":\"white\",\"ticks\":\"\"}},\"coloraxis\":{\"colorbar\":{\"outlinewidth\":0,\"ticks\":\"\"}},\"colorscale\":{\"sequential\":[[0.0,\"#0d0887\"],[0.1111111111111111,\"#46039f\"],[0.2222222222222222,\"#7201a8\"],[0.3333333333333333,\"#9c179e\"],[0.4444444444444444,\"#bd3786\"],[0.5555555555555556,\"#d8576b\"],[0.6666666666666666,\"#ed7953\"],[0.7777777777777778,\"#fb9f3a\"],[0.8888888888888888,\"#fdca26\"],[1.0,\"#f0f921\"]],\"sequentialminus\":[[0.0,\"#0d0887\"],[0.1111111111111111,\"#46039f\"],[0.2222222222222222,\"#7201a8\"],[0.3333333333333333,\"#9c179e\"],[0.4444444444444444,\"#bd3786\"],[0.5555555555555556,\"#d8576b\"],[0.6666666666666666,\"#ed7953\"],[0.7777777777777778,\"#fb9f3a\"],[0.8888888888888888,\"#fdca26\"],[1.0,\"#f0f921\"]],\"diverging\":[[0,\"#8e0152\"],[0.1,\"#c51b7d\"],[0.2,\"#de77ae\"],[0.3,\"#f1b6da\"],[0.4,\"#fde0ef\"],[0.5,\"#f7f7f7\"],[0.6,\"#e6f5d0\"],[0.7,\"#b8e186\"],[0.8,\"#7fbc41\"],[0.9,\"#4d9221\"],[1,\"#276419\"]]},\"xaxis\":{\"gridcolor\":\"white\",\"linecolor\":\"white\",\"ticks\":\"\",\"title\":{\"standoff\":15},\"zerolinecolor\":\"white\",\"automargin\":true,\"zerolinewidth\":2},\"yaxis\":{\"gridcolor\":\"white\",\"linecolor\":\"white\",\"ticks\":\"\",\"title\":{\"standoff\":15},\"zerolinecolor\":\"white\",\"automargin\":true,\"zerolinewidth\":2},\"scene\":{\"xaxis\":{\"backgroundcolor\":\"#E5ECF6\",\"gridcolor\":\"white\",\"linecolor\":\"white\",\"showbackground\":true,\"ticks\":\"\",\"zerolinecolor\":\"white\",\"gridwidth\":2},\"yaxis\":{\"backgroundcolor\":\"#E5ECF6\",\"gridcolor\":\"white\",\"linecolor\":\"white\",\"showbackground\":true,\"ticks\":\"\",\"zerolinecolor\":\"white\",\"gridwidth\":2},\"zaxis\":{\"backgroundcolor\":\"#E5ECF6\",\"gridcolor\":\"white\",\"linecolor\":\"white\",\"showbackground\":true,\"ticks\":\"\",\"zerolinecolor\":\"white\",\"gridwidth\":2}},\"shapedefaults\":{\"line\":{\"color\":\"#2a3f5f\"}},\"annotationdefaults\":{\"arrowcolor\":\"#2a3f5f\",\"arrowhead\":0,\"arrowwidth\":1},\"geo\":{\"bgcolor\":\"white\",\"landcolor\":\"#E5ECF6\",\"subunitcolor\":\"white\",\"showland\":true,\"showlakes\":true,\"lakecolor\":\"white\"},\"title\":{\"x\":0.05},\"mapbox\":{\"style\":\"light\"}}},\"xaxis\":{\"anchor\":\"y\",\"domain\":[0.0,1.0],\"title\":{\"text\":\"Revenue\"}},\"yaxis\":{\"anchor\":\"x\",\"domain\":[0.0,1.0],\"title\":{\"text\":\"Country\"}},\"legend\":{\"tracegroupgap\":0},\"margin\":{\"t\":60},\"barmode\":\"relative\"},                        {\"responsive\": true}                    ).then(function(){\n",
       "                            \n",
       "var gd = document.getElementById('7312273a-7f71-4e61-84f1-e6a639f97272');\n",
       "var x = new MutationObserver(function (mutations, observer) {{\n",
       "        var display = window.getComputedStyle(gd).display;\n",
       "        if (!display || display === 'none') {{\n",
       "            console.log([gd, 'removed!']);\n",
       "            Plotly.purge(gd);\n",
       "            observer.disconnect();\n",
       "        }}\n",
       "}});\n",
       "\n",
       "// Listen for the removal of the full notebook cells\n",
       "var notebookContainer = gd.closest('#notebook-container');\n",
       "if (notebookContainer) {{\n",
       "    x.observe(notebookContainer, {childList: true});\n",
       "}}\n",
       "\n",
       "// Listen for the clearing of the current output cell\n",
       "var outputEl = gd.closest('.output');\n",
       "if (outputEl) {{\n",
       "    x.observe(outputEl, {childList: true});\n",
       "}}\n",
       "\n",
       "                        })                };                });            </script>        </div>"
      ]
     },
     "metadata": {},
     "output_type": "display_data"
    },
    {
     "data": {
      "application/vnd.plotly.v1+json": {
       "config": {
        "plotlyServerURL": "https://plot.ly"
       },
       "data": [
        {
         "alignmentgroup": "True",
         "hovertemplate": "Quantity=%{x}<br>Country=%{y}<extra></extra>",
         "legendgroup": "",
         "marker": {
          "color": "#636efa",
          "pattern": {
           "shape": ""
          }
         },
         "name": "",
         "offsetgroup": "",
         "orientation": "h",
         "showlegend": false,
         "textposition": "auto",
         "type": "bar",
         "x": [
          83900,
          4844,
          260,
          22962,
          356,
          2762,
          9487,
          6359,
          670,
          8193,
          140175,
          10608,
          110637,
          118139,
          1550,
          2458,
          4046,
          8067,
          26016,
          386,
          652,
          958,
          200258,
          19276,
          3675,
          16017,
          80,
          5234,
          351,
          27731,
          36042,
          29980,
          2458,
          981
         ],
         "xaxis": "x",
         "y": [
          "Australia",
          "Austria",
          "Bahrain",
          "Belgium",
          "Brazil",
          "Canada",
          "Channel Islands",
          "Cyprus",
          "Czech Republic",
          "Denmark",
          "EIRE",
          "Finland",
          "France",
          "Germany",
          "Greece",
          "Iceland",
          "Israel",
          "Italy",
          "Japan",
          "Lebanon",
          "Lithuania",
          "Malta",
          "Netherlands",
          "Norway",
          "Poland",
          "Portugal",
          "Saudi Arabia",
          "Singapore",
          "South Africa",
          "Spain",
          "Sweden",
          "Switzerland",
          "USA",
          "United Arab Emirates"
         ],
         "yaxis": "y"
        }
       ],
       "layout": {
        "barmode": "relative",
        "legend": {
         "tracegroupgap": 0
        },
        "margin": {
         "t": 60
        },
        "template": {
         "data": {
          "bar": [
           {
            "error_x": {
             "color": "#2a3f5f"
            },
            "error_y": {
             "color": "#2a3f5f"
            },
            "marker": {
             "line": {
              "color": "#E5ECF6",
              "width": 0.5
             },
             "pattern": {
              "fillmode": "overlay",
              "size": 10,
              "solidity": 0.2
             }
            },
            "type": "bar"
           }
          ],
          "barpolar": [
           {
            "marker": {
             "line": {
              "color": "#E5ECF6",
              "width": 0.5
             },
             "pattern": {
              "fillmode": "overlay",
              "size": 10,
              "solidity": 0.2
             }
            },
            "type": "barpolar"
           }
          ],
          "carpet": [
           {
            "aaxis": {
             "endlinecolor": "#2a3f5f",
             "gridcolor": "white",
             "linecolor": "white",
             "minorgridcolor": "white",
             "startlinecolor": "#2a3f5f"
            },
            "baxis": {
             "endlinecolor": "#2a3f5f",
             "gridcolor": "white",
             "linecolor": "white",
             "minorgridcolor": "white",
             "startlinecolor": "#2a3f5f"
            },
            "type": "carpet"
           }
          ],
          "choropleth": [
           {
            "colorbar": {
             "outlinewidth": 0,
             "ticks": ""
            },
            "type": "choropleth"
           }
          ],
          "contour": [
           {
            "colorbar": {
             "outlinewidth": 0,
             "ticks": ""
            },
            "colorscale": [
             [
              0,
              "#0d0887"
             ],
             [
              0.1111111111111111,
              "#46039f"
             ],
             [
              0.2222222222222222,
              "#7201a8"
             ],
             [
              0.3333333333333333,
              "#9c179e"
             ],
             [
              0.4444444444444444,
              "#bd3786"
             ],
             [
              0.5555555555555556,
              "#d8576b"
             ],
             [
              0.6666666666666666,
              "#ed7953"
             ],
             [
              0.7777777777777778,
              "#fb9f3a"
             ],
             [
              0.8888888888888888,
              "#fdca26"
             ],
             [
              1,
              "#f0f921"
             ]
            ],
            "type": "contour"
           }
          ],
          "contourcarpet": [
           {
            "colorbar": {
             "outlinewidth": 0,
             "ticks": ""
            },
            "type": "contourcarpet"
           }
          ],
          "heatmap": [
           {
            "colorbar": {
             "outlinewidth": 0,
             "ticks": ""
            },
            "colorscale": [
             [
              0,
              "#0d0887"
             ],
             [
              0.1111111111111111,
              "#46039f"
             ],
             [
              0.2222222222222222,
              "#7201a8"
             ],
             [
              0.3333333333333333,
              "#9c179e"
             ],
             [
              0.4444444444444444,
              "#bd3786"
             ],
             [
              0.5555555555555556,
              "#d8576b"
             ],
             [
              0.6666666666666666,
              "#ed7953"
             ],
             [
              0.7777777777777778,
              "#fb9f3a"
             ],
             [
              0.8888888888888888,
              "#fdca26"
             ],
             [
              1,
              "#f0f921"
             ]
            ],
            "type": "heatmap"
           }
          ],
          "heatmapgl": [
           {
            "colorbar": {
             "outlinewidth": 0,
             "ticks": ""
            },
            "colorscale": [
             [
              0,
              "#0d0887"
             ],
             [
              0.1111111111111111,
              "#46039f"
             ],
             [
              0.2222222222222222,
              "#7201a8"
             ],
             [
              0.3333333333333333,
              "#9c179e"
             ],
             [
              0.4444444444444444,
              "#bd3786"
             ],
             [
              0.5555555555555556,
              "#d8576b"
             ],
             [
              0.6666666666666666,
              "#ed7953"
             ],
             [
              0.7777777777777778,
              "#fb9f3a"
             ],
             [
              0.8888888888888888,
              "#fdca26"
             ],
             [
              1,
              "#f0f921"
             ]
            ],
            "type": "heatmapgl"
           }
          ],
          "histogram": [
           {
            "marker": {
             "pattern": {
              "fillmode": "overlay",
              "size": 10,
              "solidity": 0.2
             }
            },
            "type": "histogram"
           }
          ],
          "histogram2d": [
           {
            "colorbar": {
             "outlinewidth": 0,
             "ticks": ""
            },
            "colorscale": [
             [
              0,
              "#0d0887"
             ],
             [
              0.1111111111111111,
              "#46039f"
             ],
             [
              0.2222222222222222,
              "#7201a8"
             ],
             [
              0.3333333333333333,
              "#9c179e"
             ],
             [
              0.4444444444444444,
              "#bd3786"
             ],
             [
              0.5555555555555556,
              "#d8576b"
             ],
             [
              0.6666666666666666,
              "#ed7953"
             ],
             [
              0.7777777777777778,
              "#fb9f3a"
             ],
             [
              0.8888888888888888,
              "#fdca26"
             ],
             [
              1,
              "#f0f921"
             ]
            ],
            "type": "histogram2d"
           }
          ],
          "histogram2dcontour": [
           {
            "colorbar": {
             "outlinewidth": 0,
             "ticks": ""
            },
            "colorscale": [
             [
              0,
              "#0d0887"
             ],
             [
              0.1111111111111111,
              "#46039f"
             ],
             [
              0.2222222222222222,
              "#7201a8"
             ],
             [
              0.3333333333333333,
              "#9c179e"
             ],
             [
              0.4444444444444444,
              "#bd3786"
             ],
             [
              0.5555555555555556,
              "#d8576b"
             ],
             [
              0.6666666666666666,
              "#ed7953"
             ],
             [
              0.7777777777777778,
              "#fb9f3a"
             ],
             [
              0.8888888888888888,
              "#fdca26"
             ],
             [
              1,
              "#f0f921"
             ]
            ],
            "type": "histogram2dcontour"
           }
          ],
          "mesh3d": [
           {
            "colorbar": {
             "outlinewidth": 0,
             "ticks": ""
            },
            "type": "mesh3d"
           }
          ],
          "parcoords": [
           {
            "line": {
             "colorbar": {
              "outlinewidth": 0,
              "ticks": ""
             }
            },
            "type": "parcoords"
           }
          ],
          "pie": [
           {
            "automargin": true,
            "type": "pie"
           }
          ],
          "scatter": [
           {
            "fillpattern": {
             "fillmode": "overlay",
             "size": 10,
             "solidity": 0.2
            },
            "type": "scatter"
           }
          ],
          "scatter3d": [
           {
            "line": {
             "colorbar": {
              "outlinewidth": 0,
              "ticks": ""
             }
            },
            "marker": {
             "colorbar": {
              "outlinewidth": 0,
              "ticks": ""
             }
            },
            "type": "scatter3d"
           }
          ],
          "scattercarpet": [
           {
            "marker": {
             "colorbar": {
              "outlinewidth": 0,
              "ticks": ""
             }
            },
            "type": "scattercarpet"
           }
          ],
          "scattergeo": [
           {
            "marker": {
             "colorbar": {
              "outlinewidth": 0,
              "ticks": ""
             }
            },
            "type": "scattergeo"
           }
          ],
          "scattergl": [
           {
            "marker": {
             "colorbar": {
              "outlinewidth": 0,
              "ticks": ""
             }
            },
            "type": "scattergl"
           }
          ],
          "scattermapbox": [
           {
            "marker": {
             "colorbar": {
              "outlinewidth": 0,
              "ticks": ""
             }
            },
            "type": "scattermapbox"
           }
          ],
          "scatterpolar": [
           {
            "marker": {
             "colorbar": {
              "outlinewidth": 0,
              "ticks": ""
             }
            },
            "type": "scatterpolar"
           }
          ],
          "scatterpolargl": [
           {
            "marker": {
             "colorbar": {
              "outlinewidth": 0,
              "ticks": ""
             }
            },
            "type": "scatterpolargl"
           }
          ],
          "scatterternary": [
           {
            "marker": {
             "colorbar": {
              "outlinewidth": 0,
              "ticks": ""
             }
            },
            "type": "scatterternary"
           }
          ],
          "surface": [
           {
            "colorbar": {
             "outlinewidth": 0,
             "ticks": ""
            },
            "colorscale": [
             [
              0,
              "#0d0887"
             ],
             [
              0.1111111111111111,
              "#46039f"
             ],
             [
              0.2222222222222222,
              "#7201a8"
             ],
             [
              0.3333333333333333,
              "#9c179e"
             ],
             [
              0.4444444444444444,
              "#bd3786"
             ],
             [
              0.5555555555555556,
              "#d8576b"
             ],
             [
              0.6666666666666666,
              "#ed7953"
             ],
             [
              0.7777777777777778,
              "#fb9f3a"
             ],
             [
              0.8888888888888888,
              "#fdca26"
             ],
             [
              1,
              "#f0f921"
             ]
            ],
            "type": "surface"
           }
          ],
          "table": [
           {
            "cells": {
             "fill": {
              "color": "#EBF0F8"
             },
             "line": {
              "color": "white"
             }
            },
            "header": {
             "fill": {
              "color": "#C8D4E3"
             },
             "line": {
              "color": "white"
             }
            },
            "type": "table"
           }
          ]
         },
         "layout": {
          "annotationdefaults": {
           "arrowcolor": "#2a3f5f",
           "arrowhead": 0,
           "arrowwidth": 1
          },
          "autotypenumbers": "strict",
          "coloraxis": {
           "colorbar": {
            "outlinewidth": 0,
            "ticks": ""
           }
          },
          "colorscale": {
           "diverging": [
            [
             0,
             "#8e0152"
            ],
            [
             0.1,
             "#c51b7d"
            ],
            [
             0.2,
             "#de77ae"
            ],
            [
             0.3,
             "#f1b6da"
            ],
            [
             0.4,
             "#fde0ef"
            ],
            [
             0.5,
             "#f7f7f7"
            ],
            [
             0.6,
             "#e6f5d0"
            ],
            [
             0.7,
             "#b8e186"
            ],
            [
             0.8,
             "#7fbc41"
            ],
            [
             0.9,
             "#4d9221"
            ],
            [
             1,
             "#276419"
            ]
           ],
           "sequential": [
            [
             0,
             "#0d0887"
            ],
            [
             0.1111111111111111,
             "#46039f"
            ],
            [
             0.2222222222222222,
             "#7201a8"
            ],
            [
             0.3333333333333333,
             "#9c179e"
            ],
            [
             0.4444444444444444,
             "#bd3786"
            ],
            [
             0.5555555555555556,
             "#d8576b"
            ],
            [
             0.6666666666666666,
             "#ed7953"
            ],
            [
             0.7777777777777778,
             "#fb9f3a"
            ],
            [
             0.8888888888888888,
             "#fdca26"
            ],
            [
             1,
             "#f0f921"
            ]
           ],
           "sequentialminus": [
            [
             0,
             "#0d0887"
            ],
            [
             0.1111111111111111,
             "#46039f"
            ],
            [
             0.2222222222222222,
             "#7201a8"
            ],
            [
             0.3333333333333333,
             "#9c179e"
            ],
            [
             0.4444444444444444,
             "#bd3786"
            ],
            [
             0.5555555555555556,
             "#d8576b"
            ],
            [
             0.6666666666666666,
             "#ed7953"
            ],
            [
             0.7777777777777778,
             "#fb9f3a"
            ],
            [
             0.8888888888888888,
             "#fdca26"
            ],
            [
             1,
             "#f0f921"
            ]
           ]
          },
          "colorway": [
           "#636efa",
           "#EF553B",
           "#00cc96",
           "#ab63fa",
           "#FFA15A",
           "#19d3f3",
           "#FF6692",
           "#B6E880",
           "#FF97FF",
           "#FECB52"
          ],
          "font": {
           "color": "#2a3f5f"
          },
          "geo": {
           "bgcolor": "white",
           "lakecolor": "white",
           "landcolor": "#E5ECF6",
           "showlakes": true,
           "showland": true,
           "subunitcolor": "white"
          },
          "hoverlabel": {
           "align": "left"
          },
          "hovermode": "closest",
          "mapbox": {
           "style": "light"
          },
          "paper_bgcolor": "white",
          "plot_bgcolor": "#E5ECF6",
          "polar": {
           "angularaxis": {
            "gridcolor": "white",
            "linecolor": "white",
            "ticks": ""
           },
           "bgcolor": "#E5ECF6",
           "radialaxis": {
            "gridcolor": "white",
            "linecolor": "white",
            "ticks": ""
           }
          },
          "scene": {
           "xaxis": {
            "backgroundcolor": "#E5ECF6",
            "gridcolor": "white",
            "gridwidth": 2,
            "linecolor": "white",
            "showbackground": true,
            "ticks": "",
            "zerolinecolor": "white"
           },
           "yaxis": {
            "backgroundcolor": "#E5ECF6",
            "gridcolor": "white",
            "gridwidth": 2,
            "linecolor": "white",
            "showbackground": true,
            "ticks": "",
            "zerolinecolor": "white"
           },
           "zaxis": {
            "backgroundcolor": "#E5ECF6",
            "gridcolor": "white",
            "gridwidth": 2,
            "linecolor": "white",
            "showbackground": true,
            "ticks": "",
            "zerolinecolor": "white"
           }
          },
          "shapedefaults": {
           "line": {
            "color": "#2a3f5f"
           }
          },
          "ternary": {
           "aaxis": {
            "gridcolor": "white",
            "linecolor": "white",
            "ticks": ""
           },
           "baxis": {
            "gridcolor": "white",
            "linecolor": "white",
            "ticks": ""
           },
           "bgcolor": "#E5ECF6",
           "caxis": {
            "gridcolor": "white",
            "linecolor": "white",
            "ticks": ""
           }
          },
          "title": {
           "x": 0.05
          },
          "xaxis": {
           "automargin": true,
           "gridcolor": "white",
           "linecolor": "white",
           "ticks": "",
           "title": {
            "standoff": 15
           },
           "zerolinecolor": "white",
           "zerolinewidth": 2
          },
          "yaxis": {
           "automargin": true,
           "gridcolor": "white",
           "linecolor": "white",
           "ticks": "",
           "title": {
            "standoff": 15
           },
           "zerolinecolor": "white",
           "zerolinewidth": 2
          }
         }
        },
        "xaxis": {
         "anchor": "y",
         "domain": [
          0,
          1
         ],
         "title": {
          "text": "Quantity"
         }
        },
        "yaxis": {
         "anchor": "x",
         "domain": [
          0,
          1
         ],
         "title": {
          "text": "Country"
         }
        }
       }
      },
      "text/html": [
       "<div>                            <div id=\"31029ed2-b3a7-45f1-b588-bed21a4e6523\" class=\"plotly-graph-div\" style=\"height:525px; width:100%;\"></div>            <script type=\"text/javascript\">                require([\"plotly\"], function(Plotly) {                    window.PLOTLYENV=window.PLOTLYENV || {};                                    if (document.getElementById(\"31029ed2-b3a7-45f1-b588-bed21a4e6523\")) {                    Plotly.newPlot(                        \"31029ed2-b3a7-45f1-b588-bed21a4e6523\",                        [{\"alignmentgroup\":\"True\",\"hovertemplate\":\"Quantity=%{x}<br>Country=%{y}<extra></extra>\",\"legendgroup\":\"\",\"marker\":{\"color\":\"#636efa\",\"pattern\":{\"shape\":\"\"}},\"name\":\"\",\"offsetgroup\":\"\",\"orientation\":\"h\",\"showlegend\":false,\"textposition\":\"auto\",\"x\":[83900,4844,260,22962,356,2762,9487,6359,670,8193,140175,10608,110637,118139,1550,2458,4046,8067,26016,386,652,958,200258,19276,3675,16017,80,5234,351,27731,36042,29980,2458,981],\"xaxis\":\"x\",\"y\":[\"Australia\",\"Austria\",\"Bahrain\",\"Belgium\",\"Brazil\",\"Canada\",\"Channel Islands\",\"Cyprus\",\"Czech Republic\",\"Denmark\",\"EIRE\",\"Finland\",\"France\",\"Germany\",\"Greece\",\"Iceland\",\"Israel\",\"Italy\",\"Japan\",\"Lebanon\",\"Lithuania\",\"Malta\",\"Netherlands\",\"Norway\",\"Poland\",\"Portugal\",\"Saudi Arabia\",\"Singapore\",\"South Africa\",\"Spain\",\"Sweden\",\"Switzerland\",\"USA\",\"United Arab Emirates\"],\"yaxis\":\"y\",\"type\":\"bar\"}],                        {\"template\":{\"data\":{\"histogram2dcontour\":[{\"type\":\"histogram2dcontour\",\"colorbar\":{\"outlinewidth\":0,\"ticks\":\"\"},\"colorscale\":[[0.0,\"#0d0887\"],[0.1111111111111111,\"#46039f\"],[0.2222222222222222,\"#7201a8\"],[0.3333333333333333,\"#9c179e\"],[0.4444444444444444,\"#bd3786\"],[0.5555555555555556,\"#d8576b\"],[0.6666666666666666,\"#ed7953\"],[0.7777777777777778,\"#fb9f3a\"],[0.8888888888888888,\"#fdca26\"],[1.0,\"#f0f921\"]]}],\"choropleth\":[{\"type\":\"choropleth\",\"colorbar\":{\"outlinewidth\":0,\"ticks\":\"\"}}],\"histogram2d\":[{\"type\":\"histogram2d\",\"colorbar\":{\"outlinewidth\":0,\"ticks\":\"\"},\"colorscale\":[[0.0,\"#0d0887\"],[0.1111111111111111,\"#46039f\"],[0.2222222222222222,\"#7201a8\"],[0.3333333333333333,\"#9c179e\"],[0.4444444444444444,\"#bd3786\"],[0.5555555555555556,\"#d8576b\"],[0.6666666666666666,\"#ed7953\"],[0.7777777777777778,\"#fb9f3a\"],[0.8888888888888888,\"#fdca26\"],[1.0,\"#f0f921\"]]}],\"heatmap\":[{\"type\":\"heatmap\",\"colorbar\":{\"outlinewidth\":0,\"ticks\":\"\"},\"colorscale\":[[0.0,\"#0d0887\"],[0.1111111111111111,\"#46039f\"],[0.2222222222222222,\"#7201a8\"],[0.3333333333333333,\"#9c179e\"],[0.4444444444444444,\"#bd3786\"],[0.5555555555555556,\"#d8576b\"],[0.6666666666666666,\"#ed7953\"],[0.7777777777777778,\"#fb9f3a\"],[0.8888888888888888,\"#fdca26\"],[1.0,\"#f0f921\"]]}],\"heatmapgl\":[{\"type\":\"heatmapgl\",\"colorbar\":{\"outlinewidth\":0,\"ticks\":\"\"},\"colorscale\":[[0.0,\"#0d0887\"],[0.1111111111111111,\"#46039f\"],[0.2222222222222222,\"#7201a8\"],[0.3333333333333333,\"#9c179e\"],[0.4444444444444444,\"#bd3786\"],[0.5555555555555556,\"#d8576b\"],[0.6666666666666666,\"#ed7953\"],[0.7777777777777778,\"#fb9f3a\"],[0.8888888888888888,\"#fdca26\"],[1.0,\"#f0f921\"]]}],\"contourcarpet\":[{\"type\":\"contourcarpet\",\"colorbar\":{\"outlinewidth\":0,\"ticks\":\"\"}}],\"contour\":[{\"type\":\"contour\",\"colorbar\":{\"outlinewidth\":0,\"ticks\":\"\"},\"colorscale\":[[0.0,\"#0d0887\"],[0.1111111111111111,\"#46039f\"],[0.2222222222222222,\"#7201a8\"],[0.3333333333333333,\"#9c179e\"],[0.4444444444444444,\"#bd3786\"],[0.5555555555555556,\"#d8576b\"],[0.6666666666666666,\"#ed7953\"],[0.7777777777777778,\"#fb9f3a\"],[0.8888888888888888,\"#fdca26\"],[1.0,\"#f0f921\"]]}],\"surface\":[{\"type\":\"surface\",\"colorbar\":{\"outlinewidth\":0,\"ticks\":\"\"},\"colorscale\":[[0.0,\"#0d0887\"],[0.1111111111111111,\"#46039f\"],[0.2222222222222222,\"#7201a8\"],[0.3333333333333333,\"#9c179e\"],[0.4444444444444444,\"#bd3786\"],[0.5555555555555556,\"#d8576b\"],[0.6666666666666666,\"#ed7953\"],[0.7777777777777778,\"#fb9f3a\"],[0.8888888888888888,\"#fdca26\"],[1.0,\"#f0f921\"]]}],\"mesh3d\":[{\"type\":\"mesh3d\",\"colorbar\":{\"outlinewidth\":0,\"ticks\":\"\"}}],\"scatter\":[{\"fillpattern\":{\"fillmode\":\"overlay\",\"size\":10,\"solidity\":0.2},\"type\":\"scatter\"}],\"parcoords\":[{\"type\":\"parcoords\",\"line\":{\"colorbar\":{\"outlinewidth\":0,\"ticks\":\"\"}}}],\"scatterpolargl\":[{\"type\":\"scatterpolargl\",\"marker\":{\"colorbar\":{\"outlinewidth\":0,\"ticks\":\"\"}}}],\"bar\":[{\"error_x\":{\"color\":\"#2a3f5f\"},\"error_y\":{\"color\":\"#2a3f5f\"},\"marker\":{\"line\":{\"color\":\"#E5ECF6\",\"width\":0.5},\"pattern\":{\"fillmode\":\"overlay\",\"size\":10,\"solidity\":0.2}},\"type\":\"bar\"}],\"scattergeo\":[{\"type\":\"scattergeo\",\"marker\":{\"colorbar\":{\"outlinewidth\":0,\"ticks\":\"\"}}}],\"scatterpolar\":[{\"type\":\"scatterpolar\",\"marker\":{\"colorbar\":{\"outlinewidth\":0,\"ticks\":\"\"}}}],\"histogram\":[{\"marker\":{\"pattern\":{\"fillmode\":\"overlay\",\"size\":10,\"solidity\":0.2}},\"type\":\"histogram\"}],\"scattergl\":[{\"type\":\"scattergl\",\"marker\":{\"colorbar\":{\"outlinewidth\":0,\"ticks\":\"\"}}}],\"scatter3d\":[{\"type\":\"scatter3d\",\"line\":{\"colorbar\":{\"outlinewidth\":0,\"ticks\":\"\"}},\"marker\":{\"colorbar\":{\"outlinewidth\":0,\"ticks\":\"\"}}}],\"scattermapbox\":[{\"type\":\"scattermapbox\",\"marker\":{\"colorbar\":{\"outlinewidth\":0,\"ticks\":\"\"}}}],\"scatterternary\":[{\"type\":\"scatterternary\",\"marker\":{\"colorbar\":{\"outlinewidth\":0,\"ticks\":\"\"}}}],\"scattercarpet\":[{\"type\":\"scattercarpet\",\"marker\":{\"colorbar\":{\"outlinewidth\":0,\"ticks\":\"\"}}}],\"carpet\":[{\"aaxis\":{\"endlinecolor\":\"#2a3f5f\",\"gridcolor\":\"white\",\"linecolor\":\"white\",\"minorgridcolor\":\"white\",\"startlinecolor\":\"#2a3f5f\"},\"baxis\":{\"endlinecolor\":\"#2a3f5f\",\"gridcolor\":\"white\",\"linecolor\":\"white\",\"minorgridcolor\":\"white\",\"startlinecolor\":\"#2a3f5f\"},\"type\":\"carpet\"}],\"table\":[{\"cells\":{\"fill\":{\"color\":\"#EBF0F8\"},\"line\":{\"color\":\"white\"}},\"header\":{\"fill\":{\"color\":\"#C8D4E3\"},\"line\":{\"color\":\"white\"}},\"type\":\"table\"}],\"barpolar\":[{\"marker\":{\"line\":{\"color\":\"#E5ECF6\",\"width\":0.5},\"pattern\":{\"fillmode\":\"overlay\",\"size\":10,\"solidity\":0.2}},\"type\":\"barpolar\"}],\"pie\":[{\"automargin\":true,\"type\":\"pie\"}]},\"layout\":{\"autotypenumbers\":\"strict\",\"colorway\":[\"#636efa\",\"#EF553B\",\"#00cc96\",\"#ab63fa\",\"#FFA15A\",\"#19d3f3\",\"#FF6692\",\"#B6E880\",\"#FF97FF\",\"#FECB52\"],\"font\":{\"color\":\"#2a3f5f\"},\"hovermode\":\"closest\",\"hoverlabel\":{\"align\":\"left\"},\"paper_bgcolor\":\"white\",\"plot_bgcolor\":\"#E5ECF6\",\"polar\":{\"bgcolor\":\"#E5ECF6\",\"angularaxis\":{\"gridcolor\":\"white\",\"linecolor\":\"white\",\"ticks\":\"\"},\"radialaxis\":{\"gridcolor\":\"white\",\"linecolor\":\"white\",\"ticks\":\"\"}},\"ternary\":{\"bgcolor\":\"#E5ECF6\",\"aaxis\":{\"gridcolor\":\"white\",\"linecolor\":\"white\",\"ticks\":\"\"},\"baxis\":{\"gridcolor\":\"white\",\"linecolor\":\"white\",\"ticks\":\"\"},\"caxis\":{\"gridcolor\":\"white\",\"linecolor\":\"white\",\"ticks\":\"\"}},\"coloraxis\":{\"colorbar\":{\"outlinewidth\":0,\"ticks\":\"\"}},\"colorscale\":{\"sequential\":[[0.0,\"#0d0887\"],[0.1111111111111111,\"#46039f\"],[0.2222222222222222,\"#7201a8\"],[0.3333333333333333,\"#9c179e\"],[0.4444444444444444,\"#bd3786\"],[0.5555555555555556,\"#d8576b\"],[0.6666666666666666,\"#ed7953\"],[0.7777777777777778,\"#fb9f3a\"],[0.8888888888888888,\"#fdca26\"],[1.0,\"#f0f921\"]],\"sequentialminus\":[[0.0,\"#0d0887\"],[0.1111111111111111,\"#46039f\"],[0.2222222222222222,\"#7201a8\"],[0.3333333333333333,\"#9c179e\"],[0.4444444444444444,\"#bd3786\"],[0.5555555555555556,\"#d8576b\"],[0.6666666666666666,\"#ed7953\"],[0.7777777777777778,\"#fb9f3a\"],[0.8888888888888888,\"#fdca26\"],[1.0,\"#f0f921\"]],\"diverging\":[[0,\"#8e0152\"],[0.1,\"#c51b7d\"],[0.2,\"#de77ae\"],[0.3,\"#f1b6da\"],[0.4,\"#fde0ef\"],[0.5,\"#f7f7f7\"],[0.6,\"#e6f5d0\"],[0.7,\"#b8e186\"],[0.8,\"#7fbc41\"],[0.9,\"#4d9221\"],[1,\"#276419\"]]},\"xaxis\":{\"gridcolor\":\"white\",\"linecolor\":\"white\",\"ticks\":\"\",\"title\":{\"standoff\":15},\"zerolinecolor\":\"white\",\"automargin\":true,\"zerolinewidth\":2},\"yaxis\":{\"gridcolor\":\"white\",\"linecolor\":\"white\",\"ticks\":\"\",\"title\":{\"standoff\":15},\"zerolinecolor\":\"white\",\"automargin\":true,\"zerolinewidth\":2},\"scene\":{\"xaxis\":{\"backgroundcolor\":\"#E5ECF6\",\"gridcolor\":\"white\",\"linecolor\":\"white\",\"showbackground\":true,\"ticks\":\"\",\"zerolinecolor\":\"white\",\"gridwidth\":2},\"yaxis\":{\"backgroundcolor\":\"#E5ECF6\",\"gridcolor\":\"white\",\"linecolor\":\"white\",\"showbackground\":true,\"ticks\":\"\",\"zerolinecolor\":\"white\",\"gridwidth\":2},\"zaxis\":{\"backgroundcolor\":\"#E5ECF6\",\"gridcolor\":\"white\",\"linecolor\":\"white\",\"showbackground\":true,\"ticks\":\"\",\"zerolinecolor\":\"white\",\"gridwidth\":2}},\"shapedefaults\":{\"line\":{\"color\":\"#2a3f5f\"}},\"annotationdefaults\":{\"arrowcolor\":\"#2a3f5f\",\"arrowhead\":0,\"arrowwidth\":1},\"geo\":{\"bgcolor\":\"white\",\"landcolor\":\"#E5ECF6\",\"subunitcolor\":\"white\",\"showland\":true,\"showlakes\":true,\"lakecolor\":\"white\"},\"title\":{\"x\":0.05},\"mapbox\":{\"style\":\"light\"}}},\"xaxis\":{\"anchor\":\"y\",\"domain\":[0.0,1.0],\"title\":{\"text\":\"Quantity\"}},\"yaxis\":{\"anchor\":\"x\",\"domain\":[0.0,1.0],\"title\":{\"text\":\"Country\"}},\"legend\":{\"tracegroupgap\":0},\"margin\":{\"t\":60},\"barmode\":\"relative\"},                        {\"responsive\": true}                    ).then(function(){\n",
       "                            \n",
       "var gd = document.getElementById('31029ed2-b3a7-45f1-b588-bed21a4e6523');\n",
       "var x = new MutationObserver(function (mutations, observer) {{\n",
       "        var display = window.getComputedStyle(gd).display;\n",
       "        if (!display || display === 'none') {{\n",
       "            console.log([gd, 'removed!']);\n",
       "            Plotly.purge(gd);\n",
       "            observer.disconnect();\n",
       "        }}\n",
       "}});\n",
       "\n",
       "// Listen for the removal of the full notebook cells\n",
       "var notebookContainer = gd.closest('#notebook-container');\n",
       "if (notebookContainer) {{\n",
       "    x.observe(notebookContainer, {childList: true});\n",
       "}}\n",
       "\n",
       "// Listen for the clearing of the current output cell\n",
       "var outputEl = gd.closest('.output');\n",
       "if (outputEl) {{\n",
       "    x.observe(outputEl, {childList: true});\n",
       "}}\n",
       "\n",
       "                        })                };                });            </script>        </div>"
      ]
     },
     "metadata": {},
     "output_type": "display_data"
    }
   ],
   "source": [
    "data.info()\n",
    "data[data['Country']!='United Kingdom'].groupby('Country').sum().plot(x='Revenue',kind='bar').show()\n",
    "data[data['Country']!='United Kingdom'].groupby('Country').sum().plot(x='Quantity',kind='bar').show()\n"
   ]
  },
  {
   "cell_type": "markdown",
   "metadata": {},
   "source": [
    "## 2. Create an interactive line chart showing quantity and revenue sold to France between January 1st and May 31st 2011."
   ]
  },
  {
   "cell_type": "code",
   "execution_count": 52,
   "metadata": {},
   "outputs": [
    {
     "data": {
      "application/vnd.plotly.v1+json": {
       "config": {
        "plotlyServerURL": "https://plot.ly"
       },
       "data": [
        {
         "hovertemplate": "variable=Revenue<br>InvoiceDate=%{x}<br>value=%{y}<extra></extra>",
         "legendgroup": "Revenue",
         "line": {
          "color": "#636efa",
          "dash": "solid"
         },
         "marker": {
          "symbol": "circle"
         },
         "mode": "lines",
         "name": "Revenue",
         "orientation": "v",
         "showlegend": true,
         "type": "scatter",
         "x": [
          "2010-12-01T08:45:00",
          "2010-12-03T09:51:00",
          "2010-12-03T13:59:00",
          "2010-12-05T11:57:00",
          "2010-12-07T10:08:00",
          "2010-12-07T10:36:00",
          "2010-12-08T10:45:00",
          "2010-12-09T10:37:00",
          "2010-12-09T11:31:00",
          "2010-12-09T12:17:00",
          "2010-12-09T14:49:00",
          "2010-12-10T10:56:00",
          "2010-12-15T16:21:00",
          "2010-12-16T11:24:00",
          "2010-12-17T12:56:00",
          "2010-12-17T14:46:00",
          "2010-12-20T11:38:00",
          "2010-12-20T14:10:00",
          "2010-12-21T14:26:00",
          "2010-12-22T12:47:00",
          "2011-01-05T12:42:00",
          "2011-01-05T14:48:00",
          "2011-01-06T14:26:00",
          "2011-01-06T16:12:00",
          "2011-01-07T12:07:00",
          "2011-01-07T13:13:00",
          "2011-01-09T12:46:00",
          "2011-01-10T13:22:00",
          "2011-01-11T07:57:00",
          "2011-01-11T11:48:00",
          "2011-01-11T13:31:00",
          "2011-01-11T15:00:00",
          "2011-01-12T09:43:00",
          "2011-01-12T14:13:00",
          "2011-01-12T15:00:00",
          "2011-01-14T09:13:00",
          "2011-01-14T09:20:00",
          "2011-01-14T10:42:00",
          "2011-01-17T15:17:00",
          "2011-01-19T11:51:00",
          "2011-01-20T10:47:00",
          "2011-01-20T10:48:00",
          "2011-01-23T15:17:00",
          "2011-01-24T15:32:00",
          "2011-01-28T09:20:00",
          "2011-01-28T10:45:00",
          "2011-01-28T13:37:00",
          "2011-01-31T09:57:00",
          "2011-01-31T15:36:00",
          "2011-02-01T14:58:00",
          "2011-02-02T09:06:00",
          "2011-02-02T15:22:00",
          "2011-02-04T11:45:00",
          "2011-02-08T13:28:00",
          "2011-02-09T10:11:00",
          "2011-02-10T15:38:00",
          "2011-02-15T14:17:00",
          "2011-02-16T11:45:00",
          "2011-02-17T10:08:00",
          "2011-02-18T10:53:00",
          "2011-02-18T15:23:00",
          "2011-02-21T08:38:00",
          "2011-02-21T14:58:00",
          "2011-02-23T16:44:00",
          "2011-02-23T16:45:00",
          "2011-02-27T11:58:00",
          "2011-02-28T11:43:00",
          "2011-02-28T11:58:00",
          "2011-02-28T14:42:00",
          "2011-02-28T14:45:00",
          "2011-03-01T10:31:00",
          "2011-03-01T12:26:00",
          "2011-03-03T12:06:00",
          "2011-03-03T12:20:00",
          "2011-03-04T09:08:00",
          "2011-03-11T12:00:00",
          "2011-03-13T14:55:00",
          "2011-03-14T11:38:00",
          "2011-03-15T16:39:00",
          "2011-03-16T14:37:00",
          "2011-03-16T15:17:00",
          "2011-03-20T15:58:00",
          "2011-03-21T12:42:00",
          "2011-03-21T12:44:00",
          "2011-03-22T11:28:00",
          "2011-03-23T12:06:00",
          "2011-03-23T13:33:00",
          "2011-03-23T13:39:00",
          "2011-03-23T14:55:00",
          "2011-03-25T10:19:00",
          "2011-03-27T13:07:00",
          "2011-03-28T10:15:00",
          "2011-03-31T10:27:00",
          "2011-03-31T10:29:00",
          "2011-03-31T13:40:00",
          "2011-04-01T09:19:00",
          "2011-04-01T11:10:00",
          "2011-04-04T11:18:00",
          "2011-04-07T13:07:00",
          "2011-04-14T14:15:00",
          "2011-04-17T11:21:00",
          "2011-04-17T15:33:00",
          "2011-04-20T09:20:00",
          "2011-04-21T08:54:00",
          "2011-04-21T10:16:00",
          "2011-04-26T15:52:00",
          "2011-04-28T11:45:00",
          "2011-05-03T08:40:00",
          "2011-05-03T09:33:00",
          "2011-05-03T09:34:00",
          "2011-05-03T12:02:00",
          "2011-05-03T12:03:00",
          "2011-05-05T09:29:00",
          "2011-05-08T16:10:00",
          "2011-05-09T09:47:00",
          "2011-05-09T15:12:00",
          "2011-05-10T12:55:00",
          "2011-05-11T13:20:00",
          "2011-05-11T15:07:00",
          "2011-05-12T11:50:00",
          "2011-05-13T09:24:00",
          "2011-05-13T13:15:00",
          "2011-05-13T15:48:00",
          "2011-05-15T13:45:00",
          "2011-05-16T09:10:00",
          "2011-05-16T12:04:00",
          "2011-05-17T09:28:00",
          "2011-05-18T09:09:00",
          "2011-05-18T10:34:00",
          "2011-05-18T12:18:00",
          "2011-05-19T12:10:00",
          "2011-05-19T12:29:00",
          "2011-05-20T11:34:00",
          "2011-05-22T13:01:00",
          "2011-05-22T14:33:00",
          "2011-05-23T09:48:00",
          "2011-05-24T09:25:00",
          "2011-05-25T10:08:00",
          "2011-05-25T12:44:00",
          "2011-05-25T12:54:00",
          "2011-05-26T14:53:00",
          "2011-05-26T17:16:00",
          "2011-05-27T13:49:00",
          "2011-05-31T13:32:00",
          "2011-06-05T11:53:00",
          "2011-06-05T13:13:00",
          "2011-06-05T15:29:00",
          "2011-06-06T12:47:00",
          "2011-06-08T08:49:00",
          "2011-06-08T09:16:00",
          "2011-06-08T09:39:00",
          "2011-06-08T10:10:00",
          "2011-06-09T17:48:00",
          "2011-06-09T17:53:00",
          "2011-06-10T10:38:00",
          "2011-06-12T10:47:00",
          "2011-06-13T09:55:00",
          "2011-06-13T11:33:00",
          "2011-06-13T11:41:00",
          "2011-06-15T09:01:00",
          "2011-06-15T10:21:00",
          "2011-06-15T10:22:00",
          "2011-06-15T12:34:00",
          "2011-06-16T15:22:00",
          "2011-06-17T15:09:00",
          "2011-06-19T13:37:00",
          "2011-06-20T14:17:00",
          "2011-06-20T14:58:00",
          "2011-06-21T14:30:00",
          "2011-06-22T09:43:00",
          "2011-06-22T11:20:00",
          "2011-06-24T13:35:00",
          "2011-06-27T10:17:00",
          "2011-06-28T13:11:00",
          "2011-07-01T11:43:00",
          "2011-07-01T12:17:00",
          "2011-07-04T11:42:00",
          "2011-07-05T15:14:00",
          "2011-07-06T13:14:00",
          "2011-07-08T11:36:00",
          "2011-07-08T12:00:00",
          "2011-07-08T12:22:00",
          "2011-07-11T11:39:00",
          "2011-07-11T15:22:00",
          "2011-07-12T08:52:00",
          "2011-07-12T09:54:00",
          "2011-07-12T11:55:00",
          "2011-07-12T16:58:00",
          "2011-07-13T11:48:00",
          "2011-07-17T14:56:00",
          "2011-07-18T12:05:00",
          "2011-07-18T14:10:00",
          "2011-07-19T09:51:00",
          "2011-07-24T11:25:00",
          "2011-07-27T13:14:00",
          "2011-07-29T13:28:00",
          "2011-08-02T09:55:00",
          "2011-08-03T12:56:00",
          "2011-08-04T10:04:00",
          "2011-08-05T08:40:00",
          "2011-08-05T12:38:00",
          "2011-08-10T12:35:00",
          "2011-08-12T15:22:00",
          "2011-08-14T11:16:00",
          "2011-08-15T12:53:00",
          "2011-08-17T08:50:00",
          "2011-08-18T11:40:00",
          "2011-08-18T15:44:00",
          "2011-08-19T10:51:00",
          "2011-08-21T10:44:00",
          "2011-08-21T14:42:00",
          "2011-08-23T12:43:00",
          "2011-08-23T14:23:00",
          "2011-08-24T10:13:00",
          "2011-08-24T12:58:00",
          "2011-08-25T09:55:00",
          "2011-08-25T12:26:00",
          "2011-08-25T13:12:00",
          "2011-08-25T15:04:00",
          "2011-08-26T15:44:00",
          "2011-08-31T11:22:00",
          "2011-08-31T12:18:00",
          "2011-08-31T12:33:00",
          "2011-09-02T09:51:00",
          "2011-09-02T13:14:00",
          "2011-09-02T13:15:00",
          "2011-09-04T14:22:00",
          "2011-09-05T13:38:00",
          "2011-09-05T15:17:00",
          "2011-09-07T10:28:00",
          "2011-09-07T13:22:00",
          "2011-09-07T15:07:00",
          "2011-09-08T10:32:00",
          "2011-09-08T10:35:00",
          "2011-09-09T08:48:00",
          "2011-09-09T10:51:00",
          "2011-09-09T11:48:00",
          "2011-09-11T12:27:00",
          "2011-09-13T10:34:00",
          "2011-09-14T14:19:00",
          "2011-09-15T10:53:00",
          "2011-09-15T13:31:00",
          "2011-09-15T14:50:00",
          "2011-09-19T09:15:00",
          "2011-09-19T12:01:00",
          "2011-09-19T12:19:00",
          "2011-09-19T12:36:00",
          "2011-09-20T10:06:00",
          "2011-09-21T10:40:00",
          "2011-09-21T12:26:00",
          "2011-09-21T14:08:00",
          "2011-09-21T14:43:00",
          "2011-09-22T10:52:00",
          "2011-09-22T11:40:00",
          "2011-09-22T16:58:00",
          "2011-09-22T17:15:00",
          "2011-09-23T12:09:00",
          "2011-09-25T10:34:00",
          "2011-09-25T13:25:00",
          "2011-09-27T12:53:00",
          "2011-09-28T11:38:00",
          "2011-09-29T10:23:00",
          "2011-09-29T15:31:00",
          "2011-09-29T16:38:00",
          "2011-09-29T16:52:00",
          "2011-09-30T12:06:00",
          "2011-09-30T12:58:00",
          "2011-09-30T13:06:00",
          "2011-10-03T13:46:00",
          "2011-10-04T09:00:00",
          "2011-10-04T15:02:00",
          "2011-10-05T09:57:00",
          "2011-10-05T14:50:00",
          "2011-10-05T15:52:00",
          "2011-10-05T15:56:00",
          "2011-10-06T17:28:00",
          "2011-10-07T10:18:00",
          "2011-10-07T10:44:00",
          "2011-10-10T10:13:00",
          "2011-10-10T13:03:00",
          "2011-10-11T14:52:00",
          "2011-10-12T11:22:00",
          "2011-10-12T12:30:00",
          "2011-10-12T12:54:00",
          "2011-10-12T14:18:00",
          "2011-10-12T14:46:00",
          "2011-10-13T08:42:00",
          "2011-10-14T14:55:00",
          "2011-10-19T13:49:00",
          "2011-10-19T16:24:00",
          "2011-10-20T14:30:00",
          "2011-10-27T09:18:00",
          "2011-10-27T10:51:00",
          "2011-10-27T10:57:00",
          "2011-10-27T13:44:00",
          "2011-10-28T07:39:00",
          "2011-10-28T13:04:00",
          "2011-10-28T18:07:00",
          "2011-10-30T15:44:00",
          "2011-10-31T10:19:00",
          "2011-10-31T10:42:00",
          "2011-11-01T12:12:00",
          "2011-11-01T12:18:00",
          "2011-11-01T13:56:00",
          "2011-11-02T14:51:00",
          "2011-11-03T09:43:00",
          "2011-11-03T10:45:00",
          "2011-11-03T13:24:00",
          "2011-11-04T13:15:00",
          "2011-11-04T13:24:00",
          "2011-11-08T12:13:00",
          "2011-11-08T12:45:00",
          "2011-11-09T09:34:00",
          "2011-11-09T13:47:00",
          "2011-11-10T10:53:00",
          "2011-11-10T11:53:00",
          "2011-11-10T11:55:00",
          "2011-11-10T13:34:00",
          "2011-11-10T14:39:00",
          "2011-11-10T15:03:00",
          "2011-11-10T16:27:00",
          "2011-11-11T10:19:00",
          "2011-11-11T12:07:00",
          "2011-11-11T13:35:00",
          "2011-11-11T13:46:00",
          "2011-11-11T16:49:00",
          "2011-11-13T15:37:00",
          "2011-11-14T08:31:00",
          "2011-11-14T13:02:00",
          "2011-11-14T13:40:00",
          "2011-11-15T08:43:00",
          "2011-11-15T10:50:00",
          "2011-11-16T11:52:00",
          "2011-11-16T11:59:00",
          "2011-11-17T08:35:00",
          "2011-11-17T11:02:00",
          "2011-11-17T11:34:00",
          "2011-11-17T18:29:00",
          "2011-11-18T09:53:00",
          "2011-11-18T12:46:00",
          "2011-11-18T15:14:00",
          "2011-11-20T12:34:00",
          "2011-11-20T12:55:00",
          "2011-11-21T11:16:00",
          "2011-11-22T11:19:00",
          "2011-11-22T13:42:00",
          "2011-11-23T13:51:00",
          "2011-11-23T14:01:00",
          "2011-11-24T09:34:00",
          "2011-11-24T15:01:00",
          "2011-11-25T10:20:00",
          "2011-11-25T11:33:00",
          "2011-11-25T15:44:00",
          "2011-11-28T13:26:00",
          "2011-11-28T15:35:00",
          "2011-11-28T15:47:00",
          "2011-11-29T11:46:00",
          "2011-11-29T15:23:00",
          "2011-11-30T08:50:00",
          "2011-11-30T12:18:00",
          "2011-11-30T14:16:00",
          "2011-11-30T15:43:00",
          "2011-11-30T16:47:00",
          "2011-12-01T16:38:00",
          "2011-12-01T17:20:00",
          "2011-12-02T09:53:00",
          "2011-12-02T10:47:00",
          "2011-12-02T13:22:00",
          "2011-12-04T13:45:00",
          "2011-12-04T16:02:00",
          "2011-12-04T16:07:00",
          "2011-12-05T16:28:00",
          "2011-12-06T08:55:00",
          "2011-12-06T10:00:00",
          "2011-12-06T10:19:00",
          "2011-12-06T16:34:00",
          "2011-12-07T08:07:00",
          "2011-12-07T15:02:00",
          "2011-12-08T11:35:00",
          "2011-12-09T12:50:00"
         ],
         "xaxis": "x",
         "y": [
          801.86,
          71.14,
          300.24,
          1364.92,
          961.52,
          361.46,
          155.55,
          195.88,
          39.599999999999994,
          759.2,
          649.0500000000001,
          927.9,
          195.89,
          4.949999999999999,
          152.27999999999997,
          162.00000000000003,
          268.6,
          994.5899999999999,
          53.28,
          110.39999999999999,
          502.07,
          763.11,
          283.77,
          425.25,
          676.16,
          298.93,
          114,
          1112.06,
          144,
          835.1999999999999,
          216.54,
          136.9,
          102.94999999999999,
          338.7,
          793.98,
          774.22,
          225.9,
          592.31,
          642.14,
          698.75,
          581.55,
          827.13,
          406.5,
          190.2,
          182.45,
          365.58,
          405.8,
          3174.43,
          363.54,
          456.84999999999997,
          454.89,
          132.5,
          1128.73,
          165.85999999999999,
          401.02,
          285.56,
          219.6,
          829.66,
          214,
          878.3,
          6.3,
          603.42,
          125.4,
          308,
          95.76,
          92.6,
          335.43,
          612.86,
          182.72,
          158.5,
          316.2,
          722.06,
          480.76000000000005,
          20.4,
          281.25,
          676.8499999999999,
          307.28999999999996,
          425.40000000000003,
          511.53999999999996,
          129.70999999999998,
          115.09,
          298.02,
          201.24,
          4.63,
          469.98,
          160.5,
          733.88,
          378,
          402.9,
          303.91,
          128.05,
          1028.3,
          1937.06,
          413.4,
          3243.13,
          138.75,
          252,
          513.55,
          312.2,
          615.2,
          509.57,
          84.65,
          469.20000000000005,
          73.5,
          579.05,
          160.54000000000002,
          191.10000000000002,
          528.88,
          620.84,
          24.9,
          162.48000000000002,
          336.24,
          200,
          984.4300000000001,
          295.5,
          205.4,
          453.09999999999997,
          1637.43,
          1381.3,
          278.53000000000003,
          459.98,
          89.25,
          397.28000000000003,
          133.4,
          550.74,
          121.88,
          739.62,
          335.01,
          332.20000000000005,
          76.32000000000001,
          561.66,
          316.85,
          956.4,
          615.21,
          169.5,
          385.96,
          357.34,
          231.12,
          390.96,
          514.74,
          196.5,
          362,
          367.09,
          404.84000000000003,
          1741.52,
          637.91,
          703.08,
          371.45,
          286.34,
          286.34,
          615.36,
          338.03999999999996,
          385.5,
          519.09,
          408,
          324.18,
          1506.1,
          218.26,
          441.26,
          447.64,
          348.94,
          364.15,
          263.94,
          456.27,
          1359.58,
          107.46000000000001,
          232.5,
          430.06,
          239.3,
          354.06,
          426.38,
          580.74,
          183.24,
          116.28,
          280.64,
          135.22,
          420.36,
          662.35,
          966.62,
          525.26,
          248.75,
          293.23999999999995,
          442.48,
          60.599999999999994,
          174.8,
          399.43,
          302.92,
          238.7,
          770.46,
          132.10000000000002,
          113.5,
          1734.58,
          81.60000000000001,
          376.93,
          186.75,
          623.9,
          85.8,
          1067.22,
          475.03,
          596,
          162.3,
          248.35,
          376.88,
          46.65,
          1089.07,
          580.08,
          417.01,
          275.78,
          558.29,
          110.55,
          364.22,
          96.3,
          779.06,
          148.26,
          244.65,
          1006.52,
          225.1,
          434.40000000000003,
          305.19,
          1022.95,
          1330.44,
          214.8,
          370.06,
          554.08,
          233.57999999999998,
          65.1,
          837.82,
          429.3,
          421.7,
          495.24,
          963.82,
          1304.7,
          967.18,
          368.31,
          344.9,
          407.2,
          1304.7,
          94.38,
          76.32000000000001,
          321.32,
          2377.9,
          240.27999999999997,
          49.980000000000004,
          334.64,
          674.59,
          321.01,
          488.81,
          377.66,
          486.8,
          324.9,
          75.67999999999999,
          124.38,
          344.24,
          546.44,
          204.6,
          386.42,
          718.54,
          553.39,
          204.6,
          171.2,
          590.75,
          522.65,
          201.01999999999998,
          202.25,
          325.76,
          1192.5,
          291.23,
          376.17,
          322.4,
          176.20000000000002,
          163.10000000000002,
          1386.19,
          247.6,
          265.51,
          33.9,
          157,
          229.75999999999996,
          427.6,
          95.4,
          277.18,
          4279.71,
          153.12,
          76.32000000000001,
          285.1,
          441.55,
          296.20000000000005,
          295.72,
          477.6,
          2503.74,
          253.22,
          948.9,
          228.22,
          436.19,
          85.92,
          227.46,
          8460.76,
          52.2,
          42.5,
          196.73999999999998,
          271.26,
          214.06,
          532.6,
          424.4,
          735.81,
          579.44,
          736.55,
          602.95,
          224.48000000000002,
          327.89,
          130.07,
          560.32,
          738.45,
          628.99,
          313.83,
          283.23,
          73.67999999999999,
          227.4,
          157.54,
          355.53,
          611.46,
          275.19,
          461.18,
          318.8,
          730.46,
          359.12,
          158.4,
          123.08,
          664.58,
          375.72,
          464.12,
          260.23,
          440.99,
          59.76000000000001,
          1497.52,
          255.85999999999999,
          1443.3,
          529.9,
          728.96,
          463.4,
          320.67999999999995,
          180.6,
          576.29,
          262.42,
          343.72,
          285.88,
          513.75,
          329.12,
          19.259999999999998,
          126.5,
          2079.37,
          364.09,
          562.5,
          135.72,
          227.1,
          419.12,
          419.12,
          571,
          642.12,
          477.21000000000004,
          163.85,
          434.96,
          1229.16,
          256.40999999999997,
          259.02,
          600.37,
          161.39999999999998,
          1188.75,
          85.1,
          325.35,
          190.24,
          408.3,
          707.48,
          339.59,
          582.63,
          59.28,
          242.44,
          640.77,
          386.85,
          111.9,
          249.45
         ],
         "yaxis": "y"
        },
        {
         "hovertemplate": "variable=Quantity<br>InvoiceDate=%{x}<br>value=%{y}<extra></extra>",
         "legendgroup": "Quantity",
         "line": {
          "color": "#EF553B",
          "dash": "solid"
         },
         "marker": {
          "symbol": "circle"
         },
         "mode": "lines",
         "name": "Quantity",
         "orientation": "v",
         "showlegend": true,
         "type": "scatter",
         "x": [
          "2010-12-01T08:45:00",
          "2010-12-03T09:51:00",
          "2010-12-03T13:59:00",
          "2010-12-05T11:57:00",
          "2010-12-07T10:08:00",
          "2010-12-07T10:36:00",
          "2010-12-08T10:45:00",
          "2010-12-09T10:37:00",
          "2010-12-09T11:31:00",
          "2010-12-09T12:17:00",
          "2010-12-09T14:49:00",
          "2010-12-10T10:56:00",
          "2010-12-15T16:21:00",
          "2010-12-16T11:24:00",
          "2010-12-17T12:56:00",
          "2010-12-17T14:46:00",
          "2010-12-20T11:38:00",
          "2010-12-20T14:10:00",
          "2010-12-21T14:26:00",
          "2010-12-22T12:47:00",
          "2011-01-05T12:42:00",
          "2011-01-05T14:48:00",
          "2011-01-06T14:26:00",
          "2011-01-06T16:12:00",
          "2011-01-07T12:07:00",
          "2011-01-07T13:13:00",
          "2011-01-09T12:46:00",
          "2011-01-10T13:22:00",
          "2011-01-11T07:57:00",
          "2011-01-11T11:48:00",
          "2011-01-11T13:31:00",
          "2011-01-11T15:00:00",
          "2011-01-12T09:43:00",
          "2011-01-12T14:13:00",
          "2011-01-12T15:00:00",
          "2011-01-14T09:13:00",
          "2011-01-14T09:20:00",
          "2011-01-14T10:42:00",
          "2011-01-17T15:17:00",
          "2011-01-19T11:51:00",
          "2011-01-20T10:47:00",
          "2011-01-20T10:48:00",
          "2011-01-23T15:17:00",
          "2011-01-24T15:32:00",
          "2011-01-28T09:20:00",
          "2011-01-28T10:45:00",
          "2011-01-28T13:37:00",
          "2011-01-31T09:57:00",
          "2011-01-31T15:36:00",
          "2011-02-01T14:58:00",
          "2011-02-02T09:06:00",
          "2011-02-02T15:22:00",
          "2011-02-04T11:45:00",
          "2011-02-08T13:28:00",
          "2011-02-09T10:11:00",
          "2011-02-10T15:38:00",
          "2011-02-15T14:17:00",
          "2011-02-16T11:45:00",
          "2011-02-17T10:08:00",
          "2011-02-18T10:53:00",
          "2011-02-18T15:23:00",
          "2011-02-21T08:38:00",
          "2011-02-21T14:58:00",
          "2011-02-23T16:44:00",
          "2011-02-23T16:45:00",
          "2011-02-27T11:58:00",
          "2011-02-28T11:43:00",
          "2011-02-28T11:58:00",
          "2011-02-28T14:42:00",
          "2011-02-28T14:45:00",
          "2011-03-01T10:31:00",
          "2011-03-01T12:26:00",
          "2011-03-03T12:06:00",
          "2011-03-03T12:20:00",
          "2011-03-04T09:08:00",
          "2011-03-11T12:00:00",
          "2011-03-13T14:55:00",
          "2011-03-14T11:38:00",
          "2011-03-15T16:39:00",
          "2011-03-16T14:37:00",
          "2011-03-16T15:17:00",
          "2011-03-20T15:58:00",
          "2011-03-21T12:42:00",
          "2011-03-21T12:44:00",
          "2011-03-22T11:28:00",
          "2011-03-23T12:06:00",
          "2011-03-23T13:33:00",
          "2011-03-23T13:39:00",
          "2011-03-23T14:55:00",
          "2011-03-25T10:19:00",
          "2011-03-27T13:07:00",
          "2011-03-28T10:15:00",
          "2011-03-31T10:27:00",
          "2011-03-31T10:29:00",
          "2011-03-31T13:40:00",
          "2011-04-01T09:19:00",
          "2011-04-01T11:10:00",
          "2011-04-04T11:18:00",
          "2011-04-07T13:07:00",
          "2011-04-14T14:15:00",
          "2011-04-17T11:21:00",
          "2011-04-17T15:33:00",
          "2011-04-20T09:20:00",
          "2011-04-21T08:54:00",
          "2011-04-21T10:16:00",
          "2011-04-26T15:52:00",
          "2011-04-28T11:45:00",
          "2011-05-03T08:40:00",
          "2011-05-03T09:33:00",
          "2011-05-03T09:34:00",
          "2011-05-03T12:02:00",
          "2011-05-03T12:03:00",
          "2011-05-05T09:29:00",
          "2011-05-08T16:10:00",
          "2011-05-09T09:47:00",
          "2011-05-09T15:12:00",
          "2011-05-10T12:55:00",
          "2011-05-11T13:20:00",
          "2011-05-11T15:07:00",
          "2011-05-12T11:50:00",
          "2011-05-13T09:24:00",
          "2011-05-13T13:15:00",
          "2011-05-13T15:48:00",
          "2011-05-15T13:45:00",
          "2011-05-16T09:10:00",
          "2011-05-16T12:04:00",
          "2011-05-17T09:28:00",
          "2011-05-18T09:09:00",
          "2011-05-18T10:34:00",
          "2011-05-18T12:18:00",
          "2011-05-19T12:10:00",
          "2011-05-19T12:29:00",
          "2011-05-20T11:34:00",
          "2011-05-22T13:01:00",
          "2011-05-22T14:33:00",
          "2011-05-23T09:48:00",
          "2011-05-24T09:25:00",
          "2011-05-25T10:08:00",
          "2011-05-25T12:44:00",
          "2011-05-25T12:54:00",
          "2011-05-26T14:53:00",
          "2011-05-26T17:16:00",
          "2011-05-27T13:49:00",
          "2011-05-31T13:32:00",
          "2011-06-05T11:53:00",
          "2011-06-05T13:13:00",
          "2011-06-05T15:29:00",
          "2011-06-06T12:47:00",
          "2011-06-08T08:49:00",
          "2011-06-08T09:16:00",
          "2011-06-08T09:39:00",
          "2011-06-08T10:10:00",
          "2011-06-09T17:48:00",
          "2011-06-09T17:53:00",
          "2011-06-10T10:38:00",
          "2011-06-12T10:47:00",
          "2011-06-13T09:55:00",
          "2011-06-13T11:33:00",
          "2011-06-13T11:41:00",
          "2011-06-15T09:01:00",
          "2011-06-15T10:21:00",
          "2011-06-15T10:22:00",
          "2011-06-15T12:34:00",
          "2011-06-16T15:22:00",
          "2011-06-17T15:09:00",
          "2011-06-19T13:37:00",
          "2011-06-20T14:17:00",
          "2011-06-20T14:58:00",
          "2011-06-21T14:30:00",
          "2011-06-22T09:43:00",
          "2011-06-22T11:20:00",
          "2011-06-24T13:35:00",
          "2011-06-27T10:17:00",
          "2011-06-28T13:11:00",
          "2011-07-01T11:43:00",
          "2011-07-01T12:17:00",
          "2011-07-04T11:42:00",
          "2011-07-05T15:14:00",
          "2011-07-06T13:14:00",
          "2011-07-08T11:36:00",
          "2011-07-08T12:00:00",
          "2011-07-08T12:22:00",
          "2011-07-11T11:39:00",
          "2011-07-11T15:22:00",
          "2011-07-12T08:52:00",
          "2011-07-12T09:54:00",
          "2011-07-12T11:55:00",
          "2011-07-12T16:58:00",
          "2011-07-13T11:48:00",
          "2011-07-17T14:56:00",
          "2011-07-18T12:05:00",
          "2011-07-18T14:10:00",
          "2011-07-19T09:51:00",
          "2011-07-24T11:25:00",
          "2011-07-27T13:14:00",
          "2011-07-29T13:28:00",
          "2011-08-02T09:55:00",
          "2011-08-03T12:56:00",
          "2011-08-04T10:04:00",
          "2011-08-05T08:40:00",
          "2011-08-05T12:38:00",
          "2011-08-10T12:35:00",
          "2011-08-12T15:22:00",
          "2011-08-14T11:16:00",
          "2011-08-15T12:53:00",
          "2011-08-17T08:50:00",
          "2011-08-18T11:40:00",
          "2011-08-18T15:44:00",
          "2011-08-19T10:51:00",
          "2011-08-21T10:44:00",
          "2011-08-21T14:42:00",
          "2011-08-23T12:43:00",
          "2011-08-23T14:23:00",
          "2011-08-24T10:13:00",
          "2011-08-24T12:58:00",
          "2011-08-25T09:55:00",
          "2011-08-25T12:26:00",
          "2011-08-25T13:12:00",
          "2011-08-25T15:04:00",
          "2011-08-26T15:44:00",
          "2011-08-31T11:22:00",
          "2011-08-31T12:18:00",
          "2011-08-31T12:33:00",
          "2011-09-02T09:51:00",
          "2011-09-02T13:14:00",
          "2011-09-02T13:15:00",
          "2011-09-04T14:22:00",
          "2011-09-05T13:38:00",
          "2011-09-05T15:17:00",
          "2011-09-07T10:28:00",
          "2011-09-07T13:22:00",
          "2011-09-07T15:07:00",
          "2011-09-08T10:32:00",
          "2011-09-08T10:35:00",
          "2011-09-09T08:48:00",
          "2011-09-09T10:51:00",
          "2011-09-09T11:48:00",
          "2011-09-11T12:27:00",
          "2011-09-13T10:34:00",
          "2011-09-14T14:19:00",
          "2011-09-15T10:53:00",
          "2011-09-15T13:31:00",
          "2011-09-15T14:50:00",
          "2011-09-19T09:15:00",
          "2011-09-19T12:01:00",
          "2011-09-19T12:19:00",
          "2011-09-19T12:36:00",
          "2011-09-20T10:06:00",
          "2011-09-21T10:40:00",
          "2011-09-21T12:26:00",
          "2011-09-21T14:08:00",
          "2011-09-21T14:43:00",
          "2011-09-22T10:52:00",
          "2011-09-22T11:40:00",
          "2011-09-22T16:58:00",
          "2011-09-22T17:15:00",
          "2011-09-23T12:09:00",
          "2011-09-25T10:34:00",
          "2011-09-25T13:25:00",
          "2011-09-27T12:53:00",
          "2011-09-28T11:38:00",
          "2011-09-29T10:23:00",
          "2011-09-29T15:31:00",
          "2011-09-29T16:38:00",
          "2011-09-29T16:52:00",
          "2011-09-30T12:06:00",
          "2011-09-30T12:58:00",
          "2011-09-30T13:06:00",
          "2011-10-03T13:46:00",
          "2011-10-04T09:00:00",
          "2011-10-04T15:02:00",
          "2011-10-05T09:57:00",
          "2011-10-05T14:50:00",
          "2011-10-05T15:52:00",
          "2011-10-05T15:56:00",
          "2011-10-06T17:28:00",
          "2011-10-07T10:18:00",
          "2011-10-07T10:44:00",
          "2011-10-10T10:13:00",
          "2011-10-10T13:03:00",
          "2011-10-11T14:52:00",
          "2011-10-12T11:22:00",
          "2011-10-12T12:30:00",
          "2011-10-12T12:54:00",
          "2011-10-12T14:18:00",
          "2011-10-12T14:46:00",
          "2011-10-13T08:42:00",
          "2011-10-14T14:55:00",
          "2011-10-19T13:49:00",
          "2011-10-19T16:24:00",
          "2011-10-20T14:30:00",
          "2011-10-27T09:18:00",
          "2011-10-27T10:51:00",
          "2011-10-27T10:57:00",
          "2011-10-27T13:44:00",
          "2011-10-28T07:39:00",
          "2011-10-28T13:04:00",
          "2011-10-28T18:07:00",
          "2011-10-30T15:44:00",
          "2011-10-31T10:19:00",
          "2011-10-31T10:42:00",
          "2011-11-01T12:12:00",
          "2011-11-01T12:18:00",
          "2011-11-01T13:56:00",
          "2011-11-02T14:51:00",
          "2011-11-03T09:43:00",
          "2011-11-03T10:45:00",
          "2011-11-03T13:24:00",
          "2011-11-04T13:15:00",
          "2011-11-04T13:24:00",
          "2011-11-08T12:13:00",
          "2011-11-08T12:45:00",
          "2011-11-09T09:34:00",
          "2011-11-09T13:47:00",
          "2011-11-10T10:53:00",
          "2011-11-10T11:53:00",
          "2011-11-10T11:55:00",
          "2011-11-10T13:34:00",
          "2011-11-10T14:39:00",
          "2011-11-10T15:03:00",
          "2011-11-10T16:27:00",
          "2011-11-11T10:19:00",
          "2011-11-11T12:07:00",
          "2011-11-11T13:35:00",
          "2011-11-11T13:46:00",
          "2011-11-11T16:49:00",
          "2011-11-13T15:37:00",
          "2011-11-14T08:31:00",
          "2011-11-14T13:02:00",
          "2011-11-14T13:40:00",
          "2011-11-15T08:43:00",
          "2011-11-15T10:50:00",
          "2011-11-16T11:52:00",
          "2011-11-16T11:59:00",
          "2011-11-17T08:35:00",
          "2011-11-17T11:02:00",
          "2011-11-17T11:34:00",
          "2011-11-17T18:29:00",
          "2011-11-18T09:53:00",
          "2011-11-18T12:46:00",
          "2011-11-18T15:14:00",
          "2011-11-20T12:34:00",
          "2011-11-20T12:55:00",
          "2011-11-21T11:16:00",
          "2011-11-22T11:19:00",
          "2011-11-22T13:42:00",
          "2011-11-23T13:51:00",
          "2011-11-23T14:01:00",
          "2011-11-24T09:34:00",
          "2011-11-24T15:01:00",
          "2011-11-25T10:20:00",
          "2011-11-25T11:33:00",
          "2011-11-25T15:44:00",
          "2011-11-28T13:26:00",
          "2011-11-28T15:35:00",
          "2011-11-28T15:47:00",
          "2011-11-29T11:46:00",
          "2011-11-29T15:23:00",
          "2011-11-30T08:50:00",
          "2011-11-30T12:18:00",
          "2011-11-30T14:16:00",
          "2011-11-30T15:43:00",
          "2011-11-30T16:47:00",
          "2011-12-01T16:38:00",
          "2011-12-01T17:20:00",
          "2011-12-02T09:53:00",
          "2011-12-02T10:47:00",
          "2011-12-02T13:22:00",
          "2011-12-04T13:45:00",
          "2011-12-04T16:02:00",
          "2011-12-04T16:07:00",
          "2011-12-05T16:28:00",
          "2011-12-06T08:55:00",
          "2011-12-06T10:00:00",
          "2011-12-06T10:19:00",
          "2011-12-06T16:34:00",
          "2011-12-07T08:07:00",
          "2011-12-07T15:02:00",
          "2011-12-08T11:35:00",
          "2011-12-09T12:50:00"
         ],
         "xaxis": "x",
         "y": [
          446,
          106,
          130,
          602,
          581,
          164,
          120,
          106,
          8,
          552,
          339,
          410,
          134,
          3,
          332,
          64,
          128,
          599,
          24,
          88,
          359,
          369,
          261,
          177,
          488,
          103,
          78,
          628,
          168,
          576,
          120,
          114,
          43,
          131,
          498,
          543,
          78,
          440,
          263,
          383,
          211,
          491,
          120,
          84,
          59,
          406,
          102,
          1617,
          202,
          197,
          159,
          206,
          611,
          214,
          298,
          452,
          96,
          772,
          114,
          748,
          15,
          256,
          77,
          264,
          96,
          70,
          213,
          310,
          72,
          54,
          245,
          329,
          314,
          24,
          123,
          323,
          183,
          184,
          314,
          97,
          62,
          422,
          85,
          5,
          198,
          136,
          713,
          242,
          130,
          261,
          59,
          842,
          946,
          132,
          2271,
          88,
          240,
          293,
          236,
          284,
          375,
          25,
          196,
          23,
          275,
          84,
          146,
          368,
          350,
          6,
          120,
          192,
          98,
          773,
          162,
          332,
          458,
          859,
          734,
          105,
          202,
          33,
          267,
          140,
          220,
          58,
          476,
          103,
          152,
          72,
          434,
          126,
          464,
          229,
          62,
          304,
          208,
          180,
          180,
          374,
          86,
          424,
          155,
          200,
          1184,
          347,
          358,
          115,
          216,
          216,
          464,
          444,
          320,
          460,
          160,
          714,
          549,
          110,
          232,
          356,
          170,
          139,
          206,
          267,
          514,
          62,
          50,
          208,
          350,
          270,
          384,
          410,
          118,
          108,
          284,
          78,
          256,
          321,
          592,
          322,
          135,
          198,
          236,
          48,
          76,
          262,
          156,
          116,
          666,
          46,
          82,
          838,
          32,
          234,
          147,
          500,
          52,
          690,
          279,
          320,
          162,
          197,
          178,
          3,
          603,
          400,
          231,
          228,
          459,
          33,
          234,
          54,
          402,
          105,
          139,
          784,
          170,
          204,
          145,
          688,
          820,
          120,
          198,
          270,
          98,
          54,
          506,
          142,
          184,
          265,
          646,
          719,
          644,
          209,
          104,
          292,
          719,
          42,
          72,
          436,
          1060,
          164,
          6,
          228,
          241,
          177,
          189,
          306,
          274,
          416,
          64,
          63,
          484,
          255,
          172,
          282,
          475,
          169,
          111,
          64,
          265,
          335,
          162,
          201,
          286,
          710,
          173,
          183,
          156,
          80,
          34,
          885,
          160,
          188,
          2,
          29,
          184,
          342,
          60,
          158,
          2801,
          162,
          72,
          98,
          218,
          100,
          122,
          232,
          566,
          165,
          524,
          136,
          297,
          48,
          76,
          5202,
          36,
          5,
          208,
          326,
          90,
          344,
          258,
          421,
          288,
          567,
          373,
          92,
          304,
          33,
          406,
          459,
          341,
          151,
          183,
          104,
          100,
          206,
          213,
          330,
          203,
          220,
          336,
          760,
          200,
          96,
          69,
          343,
          320,
          222,
          36,
          439,
          24,
          662,
          108,
          766,
          210,
          510,
          298,
          154,
          92,
          221,
          77,
          268,
          182,
          171,
          212,
          7,
          132,
          825,
          439,
          310,
          68,
          126,
          386,
          386,
          338,
          300,
          267,
          147,
          236,
          806,
          97,
          168,
          320,
          84,
          694,
          14,
          210,
          74,
          252,
          467,
          203,
          300,
          24,
          250,
          309,
          247,
          18,
          105
         ],
         "yaxis": "y"
        }
       ],
       "layout": {
        "legend": {
         "title": {
          "text": "variable"
         },
         "tracegroupgap": 0
        },
        "margin": {
         "t": 60
        },
        "template": {
         "data": {
          "bar": [
           {
            "error_x": {
             "color": "#2a3f5f"
            },
            "error_y": {
             "color": "#2a3f5f"
            },
            "marker": {
             "line": {
              "color": "#E5ECF6",
              "width": 0.5
             },
             "pattern": {
              "fillmode": "overlay",
              "size": 10,
              "solidity": 0.2
             }
            },
            "type": "bar"
           }
          ],
          "barpolar": [
           {
            "marker": {
             "line": {
              "color": "#E5ECF6",
              "width": 0.5
             },
             "pattern": {
              "fillmode": "overlay",
              "size": 10,
              "solidity": 0.2
             }
            },
            "type": "barpolar"
           }
          ],
          "carpet": [
           {
            "aaxis": {
             "endlinecolor": "#2a3f5f",
             "gridcolor": "white",
             "linecolor": "white",
             "minorgridcolor": "white",
             "startlinecolor": "#2a3f5f"
            },
            "baxis": {
             "endlinecolor": "#2a3f5f",
             "gridcolor": "white",
             "linecolor": "white",
             "minorgridcolor": "white",
             "startlinecolor": "#2a3f5f"
            },
            "type": "carpet"
           }
          ],
          "choropleth": [
           {
            "colorbar": {
             "outlinewidth": 0,
             "ticks": ""
            },
            "type": "choropleth"
           }
          ],
          "contour": [
           {
            "colorbar": {
             "outlinewidth": 0,
             "ticks": ""
            },
            "colorscale": [
             [
              0,
              "#0d0887"
             ],
             [
              0.1111111111111111,
              "#46039f"
             ],
             [
              0.2222222222222222,
              "#7201a8"
             ],
             [
              0.3333333333333333,
              "#9c179e"
             ],
             [
              0.4444444444444444,
              "#bd3786"
             ],
             [
              0.5555555555555556,
              "#d8576b"
             ],
             [
              0.6666666666666666,
              "#ed7953"
             ],
             [
              0.7777777777777778,
              "#fb9f3a"
             ],
             [
              0.8888888888888888,
              "#fdca26"
             ],
             [
              1,
              "#f0f921"
             ]
            ],
            "type": "contour"
           }
          ],
          "contourcarpet": [
           {
            "colorbar": {
             "outlinewidth": 0,
             "ticks": ""
            },
            "type": "contourcarpet"
           }
          ],
          "heatmap": [
           {
            "colorbar": {
             "outlinewidth": 0,
             "ticks": ""
            },
            "colorscale": [
             [
              0,
              "#0d0887"
             ],
             [
              0.1111111111111111,
              "#46039f"
             ],
             [
              0.2222222222222222,
              "#7201a8"
             ],
             [
              0.3333333333333333,
              "#9c179e"
             ],
             [
              0.4444444444444444,
              "#bd3786"
             ],
             [
              0.5555555555555556,
              "#d8576b"
             ],
             [
              0.6666666666666666,
              "#ed7953"
             ],
             [
              0.7777777777777778,
              "#fb9f3a"
             ],
             [
              0.8888888888888888,
              "#fdca26"
             ],
             [
              1,
              "#f0f921"
             ]
            ],
            "type": "heatmap"
           }
          ],
          "heatmapgl": [
           {
            "colorbar": {
             "outlinewidth": 0,
             "ticks": ""
            },
            "colorscale": [
             [
              0,
              "#0d0887"
             ],
             [
              0.1111111111111111,
              "#46039f"
             ],
             [
              0.2222222222222222,
              "#7201a8"
             ],
             [
              0.3333333333333333,
              "#9c179e"
             ],
             [
              0.4444444444444444,
              "#bd3786"
             ],
             [
              0.5555555555555556,
              "#d8576b"
             ],
             [
              0.6666666666666666,
              "#ed7953"
             ],
             [
              0.7777777777777778,
              "#fb9f3a"
             ],
             [
              0.8888888888888888,
              "#fdca26"
             ],
             [
              1,
              "#f0f921"
             ]
            ],
            "type": "heatmapgl"
           }
          ],
          "histogram": [
           {
            "marker": {
             "pattern": {
              "fillmode": "overlay",
              "size": 10,
              "solidity": 0.2
             }
            },
            "type": "histogram"
           }
          ],
          "histogram2d": [
           {
            "colorbar": {
             "outlinewidth": 0,
             "ticks": ""
            },
            "colorscale": [
             [
              0,
              "#0d0887"
             ],
             [
              0.1111111111111111,
              "#46039f"
             ],
             [
              0.2222222222222222,
              "#7201a8"
             ],
             [
              0.3333333333333333,
              "#9c179e"
             ],
             [
              0.4444444444444444,
              "#bd3786"
             ],
             [
              0.5555555555555556,
              "#d8576b"
             ],
             [
              0.6666666666666666,
              "#ed7953"
             ],
             [
              0.7777777777777778,
              "#fb9f3a"
             ],
             [
              0.8888888888888888,
              "#fdca26"
             ],
             [
              1,
              "#f0f921"
             ]
            ],
            "type": "histogram2d"
           }
          ],
          "histogram2dcontour": [
           {
            "colorbar": {
             "outlinewidth": 0,
             "ticks": ""
            },
            "colorscale": [
             [
              0,
              "#0d0887"
             ],
             [
              0.1111111111111111,
              "#46039f"
             ],
             [
              0.2222222222222222,
              "#7201a8"
             ],
             [
              0.3333333333333333,
              "#9c179e"
             ],
             [
              0.4444444444444444,
              "#bd3786"
             ],
             [
              0.5555555555555556,
              "#d8576b"
             ],
             [
              0.6666666666666666,
              "#ed7953"
             ],
             [
              0.7777777777777778,
              "#fb9f3a"
             ],
             [
              0.8888888888888888,
              "#fdca26"
             ],
             [
              1,
              "#f0f921"
             ]
            ],
            "type": "histogram2dcontour"
           }
          ],
          "mesh3d": [
           {
            "colorbar": {
             "outlinewidth": 0,
             "ticks": ""
            },
            "type": "mesh3d"
           }
          ],
          "parcoords": [
           {
            "line": {
             "colorbar": {
              "outlinewidth": 0,
              "ticks": ""
             }
            },
            "type": "parcoords"
           }
          ],
          "pie": [
           {
            "automargin": true,
            "type": "pie"
           }
          ],
          "scatter": [
           {
            "fillpattern": {
             "fillmode": "overlay",
             "size": 10,
             "solidity": 0.2
            },
            "type": "scatter"
           }
          ],
          "scatter3d": [
           {
            "line": {
             "colorbar": {
              "outlinewidth": 0,
              "ticks": ""
             }
            },
            "marker": {
             "colorbar": {
              "outlinewidth": 0,
              "ticks": ""
             }
            },
            "type": "scatter3d"
           }
          ],
          "scattercarpet": [
           {
            "marker": {
             "colorbar": {
              "outlinewidth": 0,
              "ticks": ""
             }
            },
            "type": "scattercarpet"
           }
          ],
          "scattergeo": [
           {
            "marker": {
             "colorbar": {
              "outlinewidth": 0,
              "ticks": ""
             }
            },
            "type": "scattergeo"
           }
          ],
          "scattergl": [
           {
            "marker": {
             "colorbar": {
              "outlinewidth": 0,
              "ticks": ""
             }
            },
            "type": "scattergl"
           }
          ],
          "scattermapbox": [
           {
            "marker": {
             "colorbar": {
              "outlinewidth": 0,
              "ticks": ""
             }
            },
            "type": "scattermapbox"
           }
          ],
          "scatterpolar": [
           {
            "marker": {
             "colorbar": {
              "outlinewidth": 0,
              "ticks": ""
             }
            },
            "type": "scatterpolar"
           }
          ],
          "scatterpolargl": [
           {
            "marker": {
             "colorbar": {
              "outlinewidth": 0,
              "ticks": ""
             }
            },
            "type": "scatterpolargl"
           }
          ],
          "scatterternary": [
           {
            "marker": {
             "colorbar": {
              "outlinewidth": 0,
              "ticks": ""
             }
            },
            "type": "scatterternary"
           }
          ],
          "surface": [
           {
            "colorbar": {
             "outlinewidth": 0,
             "ticks": ""
            },
            "colorscale": [
             [
              0,
              "#0d0887"
             ],
             [
              0.1111111111111111,
              "#46039f"
             ],
             [
              0.2222222222222222,
              "#7201a8"
             ],
             [
              0.3333333333333333,
              "#9c179e"
             ],
             [
              0.4444444444444444,
              "#bd3786"
             ],
             [
              0.5555555555555556,
              "#d8576b"
             ],
             [
              0.6666666666666666,
              "#ed7953"
             ],
             [
              0.7777777777777778,
              "#fb9f3a"
             ],
             [
              0.8888888888888888,
              "#fdca26"
             ],
             [
              1,
              "#f0f921"
             ]
            ],
            "type": "surface"
           }
          ],
          "table": [
           {
            "cells": {
             "fill": {
              "color": "#EBF0F8"
             },
             "line": {
              "color": "white"
             }
            },
            "header": {
             "fill": {
              "color": "#C8D4E3"
             },
             "line": {
              "color": "white"
             }
            },
            "type": "table"
           }
          ]
         },
         "layout": {
          "annotationdefaults": {
           "arrowcolor": "#2a3f5f",
           "arrowhead": 0,
           "arrowwidth": 1
          },
          "autotypenumbers": "strict",
          "coloraxis": {
           "colorbar": {
            "outlinewidth": 0,
            "ticks": ""
           }
          },
          "colorscale": {
           "diverging": [
            [
             0,
             "#8e0152"
            ],
            [
             0.1,
             "#c51b7d"
            ],
            [
             0.2,
             "#de77ae"
            ],
            [
             0.3,
             "#f1b6da"
            ],
            [
             0.4,
             "#fde0ef"
            ],
            [
             0.5,
             "#f7f7f7"
            ],
            [
             0.6,
             "#e6f5d0"
            ],
            [
             0.7,
             "#b8e186"
            ],
            [
             0.8,
             "#7fbc41"
            ],
            [
             0.9,
             "#4d9221"
            ],
            [
             1,
             "#276419"
            ]
           ],
           "sequential": [
            [
             0,
             "#0d0887"
            ],
            [
             0.1111111111111111,
             "#46039f"
            ],
            [
             0.2222222222222222,
             "#7201a8"
            ],
            [
             0.3333333333333333,
             "#9c179e"
            ],
            [
             0.4444444444444444,
             "#bd3786"
            ],
            [
             0.5555555555555556,
             "#d8576b"
            ],
            [
             0.6666666666666666,
             "#ed7953"
            ],
            [
             0.7777777777777778,
             "#fb9f3a"
            ],
            [
             0.8888888888888888,
             "#fdca26"
            ],
            [
             1,
             "#f0f921"
            ]
           ],
           "sequentialminus": [
            [
             0,
             "#0d0887"
            ],
            [
             0.1111111111111111,
             "#46039f"
            ],
            [
             0.2222222222222222,
             "#7201a8"
            ],
            [
             0.3333333333333333,
             "#9c179e"
            ],
            [
             0.4444444444444444,
             "#bd3786"
            ],
            [
             0.5555555555555556,
             "#d8576b"
            ],
            [
             0.6666666666666666,
             "#ed7953"
            ],
            [
             0.7777777777777778,
             "#fb9f3a"
            ],
            [
             0.8888888888888888,
             "#fdca26"
            ],
            [
             1,
             "#f0f921"
            ]
           ]
          },
          "colorway": [
           "#636efa",
           "#EF553B",
           "#00cc96",
           "#ab63fa",
           "#FFA15A",
           "#19d3f3",
           "#FF6692",
           "#B6E880",
           "#FF97FF",
           "#FECB52"
          ],
          "font": {
           "color": "#2a3f5f"
          },
          "geo": {
           "bgcolor": "white",
           "lakecolor": "white",
           "landcolor": "#E5ECF6",
           "showlakes": true,
           "showland": true,
           "subunitcolor": "white"
          },
          "hoverlabel": {
           "align": "left"
          },
          "hovermode": "closest",
          "mapbox": {
           "style": "light"
          },
          "paper_bgcolor": "white",
          "plot_bgcolor": "#E5ECF6",
          "polar": {
           "angularaxis": {
            "gridcolor": "white",
            "linecolor": "white",
            "ticks": ""
           },
           "bgcolor": "#E5ECF6",
           "radialaxis": {
            "gridcolor": "white",
            "linecolor": "white",
            "ticks": ""
           }
          },
          "scene": {
           "xaxis": {
            "backgroundcolor": "#E5ECF6",
            "gridcolor": "white",
            "gridwidth": 2,
            "linecolor": "white",
            "showbackground": true,
            "ticks": "",
            "zerolinecolor": "white"
           },
           "yaxis": {
            "backgroundcolor": "#E5ECF6",
            "gridcolor": "white",
            "gridwidth": 2,
            "linecolor": "white",
            "showbackground": true,
            "ticks": "",
            "zerolinecolor": "white"
           },
           "zaxis": {
            "backgroundcolor": "#E5ECF6",
            "gridcolor": "white",
            "gridwidth": 2,
            "linecolor": "white",
            "showbackground": true,
            "ticks": "",
            "zerolinecolor": "white"
           }
          },
          "shapedefaults": {
           "line": {
            "color": "#2a3f5f"
           }
          },
          "ternary": {
           "aaxis": {
            "gridcolor": "white",
            "linecolor": "white",
            "ticks": ""
           },
           "baxis": {
            "gridcolor": "white",
            "linecolor": "white",
            "ticks": ""
           },
           "bgcolor": "#E5ECF6",
           "caxis": {
            "gridcolor": "white",
            "linecolor": "white",
            "ticks": ""
           }
          },
          "title": {
           "x": 0.05
          },
          "xaxis": {
           "automargin": true,
           "gridcolor": "white",
           "linecolor": "white",
           "ticks": "",
           "title": {
            "standoff": 15
           },
           "zerolinecolor": "white",
           "zerolinewidth": 2
          },
          "yaxis": {
           "automargin": true,
           "gridcolor": "white",
           "linecolor": "white",
           "ticks": "",
           "title": {
            "standoff": 15
           },
           "zerolinecolor": "white",
           "zerolinewidth": 2
          }
         }
        },
        "xaxis": {
         "anchor": "y",
         "domain": [
          0,
          1
         ],
         "title": {
          "text": "InvoiceDate"
         }
        },
        "yaxis": {
         "anchor": "x",
         "domain": [
          0,
          1
         ],
         "title": {
          "text": "value"
         }
        }
       }
      },
      "text/html": [
       "<div>                            <div id=\"22fa32fe-fd95-4bfa-bd80-99d9678e7cf1\" class=\"plotly-graph-div\" style=\"height:525px; width:100%;\"></div>            <script type=\"text/javascript\">                require([\"plotly\"], function(Plotly) {                    window.PLOTLYENV=window.PLOTLYENV || {};                                    if (document.getElementById(\"22fa32fe-fd95-4bfa-bd80-99d9678e7cf1\")) {                    Plotly.newPlot(                        \"22fa32fe-fd95-4bfa-bd80-99d9678e7cf1\",                        [{\"hovertemplate\":\"variable=Revenue<br>InvoiceDate=%{x}<br>value=%{y}<extra></extra>\",\"legendgroup\":\"Revenue\",\"line\":{\"color\":\"#636efa\",\"dash\":\"solid\"},\"marker\":{\"symbol\":\"circle\"},\"mode\":\"lines\",\"name\":\"Revenue\",\"orientation\":\"v\",\"showlegend\":true,\"x\":[\"2010-12-01T08:45:00\",\"2010-12-03T09:51:00\",\"2010-12-03T13:59:00\",\"2010-12-05T11:57:00\",\"2010-12-07T10:08:00\",\"2010-12-07T10:36:00\",\"2010-12-08T10:45:00\",\"2010-12-09T10:37:00\",\"2010-12-09T11:31:00\",\"2010-12-09T12:17:00\",\"2010-12-09T14:49:00\",\"2010-12-10T10:56:00\",\"2010-12-15T16:21:00\",\"2010-12-16T11:24:00\",\"2010-12-17T12:56:00\",\"2010-12-17T14:46:00\",\"2010-12-20T11:38:00\",\"2010-12-20T14:10:00\",\"2010-12-21T14:26:00\",\"2010-12-22T12:47:00\",\"2011-01-05T12:42:00\",\"2011-01-05T14:48:00\",\"2011-01-06T14:26:00\",\"2011-01-06T16:12:00\",\"2011-01-07T12:07:00\",\"2011-01-07T13:13:00\",\"2011-01-09T12:46:00\",\"2011-01-10T13:22:00\",\"2011-01-11T07:57:00\",\"2011-01-11T11:48:00\",\"2011-01-11T13:31:00\",\"2011-01-11T15:00:00\",\"2011-01-12T09:43:00\",\"2011-01-12T14:13:00\",\"2011-01-12T15:00:00\",\"2011-01-14T09:13:00\",\"2011-01-14T09:20:00\",\"2011-01-14T10:42:00\",\"2011-01-17T15:17:00\",\"2011-01-19T11:51:00\",\"2011-01-20T10:47:00\",\"2011-01-20T10:48:00\",\"2011-01-23T15:17:00\",\"2011-01-24T15:32:00\",\"2011-01-28T09:20:00\",\"2011-01-28T10:45:00\",\"2011-01-28T13:37:00\",\"2011-01-31T09:57:00\",\"2011-01-31T15:36:00\",\"2011-02-01T14:58:00\",\"2011-02-02T09:06:00\",\"2011-02-02T15:22:00\",\"2011-02-04T11:45:00\",\"2011-02-08T13:28:00\",\"2011-02-09T10:11:00\",\"2011-02-10T15:38:00\",\"2011-02-15T14:17:00\",\"2011-02-16T11:45:00\",\"2011-02-17T10:08:00\",\"2011-02-18T10:53:00\",\"2011-02-18T15:23:00\",\"2011-02-21T08:38:00\",\"2011-02-21T14:58:00\",\"2011-02-23T16:44:00\",\"2011-02-23T16:45:00\",\"2011-02-27T11:58:00\",\"2011-02-28T11:43:00\",\"2011-02-28T11:58:00\",\"2011-02-28T14:42:00\",\"2011-02-28T14:45:00\",\"2011-03-01T10:31:00\",\"2011-03-01T12:26:00\",\"2011-03-03T12:06:00\",\"2011-03-03T12:20:00\",\"2011-03-04T09:08:00\",\"2011-03-11T12:00:00\",\"2011-03-13T14:55:00\",\"2011-03-14T11:38:00\",\"2011-03-15T16:39:00\",\"2011-03-16T14:37:00\",\"2011-03-16T15:17:00\",\"2011-03-20T15:58:00\",\"2011-03-21T12:42:00\",\"2011-03-21T12:44:00\",\"2011-03-22T11:28:00\",\"2011-03-23T12:06:00\",\"2011-03-23T13:33:00\",\"2011-03-23T13:39:00\",\"2011-03-23T14:55:00\",\"2011-03-25T10:19:00\",\"2011-03-27T13:07:00\",\"2011-03-28T10:15:00\",\"2011-03-31T10:27:00\",\"2011-03-31T10:29:00\",\"2011-03-31T13:40:00\",\"2011-04-01T09:19:00\",\"2011-04-01T11:10:00\",\"2011-04-04T11:18:00\",\"2011-04-07T13:07:00\",\"2011-04-14T14:15:00\",\"2011-04-17T11:21:00\",\"2011-04-17T15:33:00\",\"2011-04-20T09:20:00\",\"2011-04-21T08:54:00\",\"2011-04-21T10:16:00\",\"2011-04-26T15:52:00\",\"2011-04-28T11:45:00\",\"2011-05-03T08:40:00\",\"2011-05-03T09:33:00\",\"2011-05-03T09:34:00\",\"2011-05-03T12:02:00\",\"2011-05-03T12:03:00\",\"2011-05-05T09:29:00\",\"2011-05-08T16:10:00\",\"2011-05-09T09:47:00\",\"2011-05-09T15:12:00\",\"2011-05-10T12:55:00\",\"2011-05-11T13:20:00\",\"2011-05-11T15:07:00\",\"2011-05-12T11:50:00\",\"2011-05-13T09:24:00\",\"2011-05-13T13:15:00\",\"2011-05-13T15:48:00\",\"2011-05-15T13:45:00\",\"2011-05-16T09:10:00\",\"2011-05-16T12:04:00\",\"2011-05-17T09:28:00\",\"2011-05-18T09:09:00\",\"2011-05-18T10:34:00\",\"2011-05-18T12:18:00\",\"2011-05-19T12:10:00\",\"2011-05-19T12:29:00\",\"2011-05-20T11:34:00\",\"2011-05-22T13:01:00\",\"2011-05-22T14:33:00\",\"2011-05-23T09:48:00\",\"2011-05-24T09:25:00\",\"2011-05-25T10:08:00\",\"2011-05-25T12:44:00\",\"2011-05-25T12:54:00\",\"2011-05-26T14:53:00\",\"2011-05-26T17:16:00\",\"2011-05-27T13:49:00\",\"2011-05-31T13:32:00\",\"2011-06-05T11:53:00\",\"2011-06-05T13:13:00\",\"2011-06-05T15:29:00\",\"2011-06-06T12:47:00\",\"2011-06-08T08:49:00\",\"2011-06-08T09:16:00\",\"2011-06-08T09:39:00\",\"2011-06-08T10:10:00\",\"2011-06-09T17:48:00\",\"2011-06-09T17:53:00\",\"2011-06-10T10:38:00\",\"2011-06-12T10:47:00\",\"2011-06-13T09:55:00\",\"2011-06-13T11:33:00\",\"2011-06-13T11:41:00\",\"2011-06-15T09:01:00\",\"2011-06-15T10:21:00\",\"2011-06-15T10:22:00\",\"2011-06-15T12:34:00\",\"2011-06-16T15:22:00\",\"2011-06-17T15:09:00\",\"2011-06-19T13:37:00\",\"2011-06-20T14:17:00\",\"2011-06-20T14:58:00\",\"2011-06-21T14:30:00\",\"2011-06-22T09:43:00\",\"2011-06-22T11:20:00\",\"2011-06-24T13:35:00\",\"2011-06-27T10:17:00\",\"2011-06-28T13:11:00\",\"2011-07-01T11:43:00\",\"2011-07-01T12:17:00\",\"2011-07-04T11:42:00\",\"2011-07-05T15:14:00\",\"2011-07-06T13:14:00\",\"2011-07-08T11:36:00\",\"2011-07-08T12:00:00\",\"2011-07-08T12:22:00\",\"2011-07-11T11:39:00\",\"2011-07-11T15:22:00\",\"2011-07-12T08:52:00\",\"2011-07-12T09:54:00\",\"2011-07-12T11:55:00\",\"2011-07-12T16:58:00\",\"2011-07-13T11:48:00\",\"2011-07-17T14:56:00\",\"2011-07-18T12:05:00\",\"2011-07-18T14:10:00\",\"2011-07-19T09:51:00\",\"2011-07-24T11:25:00\",\"2011-07-27T13:14:00\",\"2011-07-29T13:28:00\",\"2011-08-02T09:55:00\",\"2011-08-03T12:56:00\",\"2011-08-04T10:04:00\",\"2011-08-05T08:40:00\",\"2011-08-05T12:38:00\",\"2011-08-10T12:35:00\",\"2011-08-12T15:22:00\",\"2011-08-14T11:16:00\",\"2011-08-15T12:53:00\",\"2011-08-17T08:50:00\",\"2011-08-18T11:40:00\",\"2011-08-18T15:44:00\",\"2011-08-19T10:51:00\",\"2011-08-21T10:44:00\",\"2011-08-21T14:42:00\",\"2011-08-23T12:43:00\",\"2011-08-23T14:23:00\",\"2011-08-24T10:13:00\",\"2011-08-24T12:58:00\",\"2011-08-25T09:55:00\",\"2011-08-25T12:26:00\",\"2011-08-25T13:12:00\",\"2011-08-25T15:04:00\",\"2011-08-26T15:44:00\",\"2011-08-31T11:22:00\",\"2011-08-31T12:18:00\",\"2011-08-31T12:33:00\",\"2011-09-02T09:51:00\",\"2011-09-02T13:14:00\",\"2011-09-02T13:15:00\",\"2011-09-04T14:22:00\",\"2011-09-05T13:38:00\",\"2011-09-05T15:17:00\",\"2011-09-07T10:28:00\",\"2011-09-07T13:22:00\",\"2011-09-07T15:07:00\",\"2011-09-08T10:32:00\",\"2011-09-08T10:35:00\",\"2011-09-09T08:48:00\",\"2011-09-09T10:51:00\",\"2011-09-09T11:48:00\",\"2011-09-11T12:27:00\",\"2011-09-13T10:34:00\",\"2011-09-14T14:19:00\",\"2011-09-15T10:53:00\",\"2011-09-15T13:31:00\",\"2011-09-15T14:50:00\",\"2011-09-19T09:15:00\",\"2011-09-19T12:01:00\",\"2011-09-19T12:19:00\",\"2011-09-19T12:36:00\",\"2011-09-20T10:06:00\",\"2011-09-21T10:40:00\",\"2011-09-21T12:26:00\",\"2011-09-21T14:08:00\",\"2011-09-21T14:43:00\",\"2011-09-22T10:52:00\",\"2011-09-22T11:40:00\",\"2011-09-22T16:58:00\",\"2011-09-22T17:15:00\",\"2011-09-23T12:09:00\",\"2011-09-25T10:34:00\",\"2011-09-25T13:25:00\",\"2011-09-27T12:53:00\",\"2011-09-28T11:38:00\",\"2011-09-29T10:23:00\",\"2011-09-29T15:31:00\",\"2011-09-29T16:38:00\",\"2011-09-29T16:52:00\",\"2011-09-30T12:06:00\",\"2011-09-30T12:58:00\",\"2011-09-30T13:06:00\",\"2011-10-03T13:46:00\",\"2011-10-04T09:00:00\",\"2011-10-04T15:02:00\",\"2011-10-05T09:57:00\",\"2011-10-05T14:50:00\",\"2011-10-05T15:52:00\",\"2011-10-05T15:56:00\",\"2011-10-06T17:28:00\",\"2011-10-07T10:18:00\",\"2011-10-07T10:44:00\",\"2011-10-10T10:13:00\",\"2011-10-10T13:03:00\",\"2011-10-11T14:52:00\",\"2011-10-12T11:22:00\",\"2011-10-12T12:30:00\",\"2011-10-12T12:54:00\",\"2011-10-12T14:18:00\",\"2011-10-12T14:46:00\",\"2011-10-13T08:42:00\",\"2011-10-14T14:55:00\",\"2011-10-19T13:49:00\",\"2011-10-19T16:24:00\",\"2011-10-20T14:30:00\",\"2011-10-27T09:18:00\",\"2011-10-27T10:51:00\",\"2011-10-27T10:57:00\",\"2011-10-27T13:44:00\",\"2011-10-28T07:39:00\",\"2011-10-28T13:04:00\",\"2011-10-28T18:07:00\",\"2011-10-30T15:44:00\",\"2011-10-31T10:19:00\",\"2011-10-31T10:42:00\",\"2011-11-01T12:12:00\",\"2011-11-01T12:18:00\",\"2011-11-01T13:56:00\",\"2011-11-02T14:51:00\",\"2011-11-03T09:43:00\",\"2011-11-03T10:45:00\",\"2011-11-03T13:24:00\",\"2011-11-04T13:15:00\",\"2011-11-04T13:24:00\",\"2011-11-08T12:13:00\",\"2011-11-08T12:45:00\",\"2011-11-09T09:34:00\",\"2011-11-09T13:47:00\",\"2011-11-10T10:53:00\",\"2011-11-10T11:53:00\",\"2011-11-10T11:55:00\",\"2011-11-10T13:34:00\",\"2011-11-10T14:39:00\",\"2011-11-10T15:03:00\",\"2011-11-10T16:27:00\",\"2011-11-11T10:19:00\",\"2011-11-11T12:07:00\",\"2011-11-11T13:35:00\",\"2011-11-11T13:46:00\",\"2011-11-11T16:49:00\",\"2011-11-13T15:37:00\",\"2011-11-14T08:31:00\",\"2011-11-14T13:02:00\",\"2011-11-14T13:40:00\",\"2011-11-15T08:43:00\",\"2011-11-15T10:50:00\",\"2011-11-16T11:52:00\",\"2011-11-16T11:59:00\",\"2011-11-17T08:35:00\",\"2011-11-17T11:02:00\",\"2011-11-17T11:34:00\",\"2011-11-17T18:29:00\",\"2011-11-18T09:53:00\",\"2011-11-18T12:46:00\",\"2011-11-18T15:14:00\",\"2011-11-20T12:34:00\",\"2011-11-20T12:55:00\",\"2011-11-21T11:16:00\",\"2011-11-22T11:19:00\",\"2011-11-22T13:42:00\",\"2011-11-23T13:51:00\",\"2011-11-23T14:01:00\",\"2011-11-24T09:34:00\",\"2011-11-24T15:01:00\",\"2011-11-25T10:20:00\",\"2011-11-25T11:33:00\",\"2011-11-25T15:44:00\",\"2011-11-28T13:26:00\",\"2011-11-28T15:35:00\",\"2011-11-28T15:47:00\",\"2011-11-29T11:46:00\",\"2011-11-29T15:23:00\",\"2011-11-30T08:50:00\",\"2011-11-30T12:18:00\",\"2011-11-30T14:16:00\",\"2011-11-30T15:43:00\",\"2011-11-30T16:47:00\",\"2011-12-01T16:38:00\",\"2011-12-01T17:20:00\",\"2011-12-02T09:53:00\",\"2011-12-02T10:47:00\",\"2011-12-02T13:22:00\",\"2011-12-04T13:45:00\",\"2011-12-04T16:02:00\",\"2011-12-04T16:07:00\",\"2011-12-05T16:28:00\",\"2011-12-06T08:55:00\",\"2011-12-06T10:00:00\",\"2011-12-06T10:19:00\",\"2011-12-06T16:34:00\",\"2011-12-07T08:07:00\",\"2011-12-07T15:02:00\",\"2011-12-08T11:35:00\",\"2011-12-09T12:50:00\"],\"xaxis\":\"x\",\"y\":[801.86,71.14,300.24,1364.92,961.52,361.46,155.55,195.88,39.599999999999994,759.2,649.0500000000001,927.9,195.89,4.949999999999999,152.27999999999997,162.00000000000003,268.6,994.5899999999999,53.28,110.39999999999999,502.07,763.11,283.77,425.25,676.16,298.93,114.0,1112.06,144.0,835.1999999999999,216.54,136.9,102.94999999999999,338.7,793.98,774.22,225.9,592.31,642.14,698.75,581.55,827.13,406.5,190.2,182.45,365.58,405.8,3174.43,363.54,456.84999999999997,454.89,132.5,1128.73,165.85999999999999,401.02,285.56,219.6,829.66,214.0,878.3,6.3,603.42,125.4,308.0,95.76,92.6,335.43,612.86,182.72,158.5,316.2,722.06,480.76000000000005,20.4,281.25,676.8499999999999,307.28999999999996,425.40000000000003,511.53999999999996,129.70999999999998,115.09,298.02,201.24,4.63,469.98,160.5,733.88,378.0,402.9,303.91,128.05,1028.3,1937.06,413.4,3243.13,138.75,252.0,513.55,312.2,615.2,509.57,84.65,469.20000000000005,73.5,579.05,160.54000000000002,191.10000000000002,528.88,620.84,24.9,162.48000000000002,336.24,200.0,984.4300000000001,295.5,205.4,453.09999999999997,1637.43,1381.3,278.53000000000003,459.98,89.25,397.28000000000003,133.4,550.74,121.88,739.62,335.01,332.20000000000005,76.32000000000001,561.66,316.85,956.4,615.21,169.5,385.96,357.34,231.12,390.96,514.74,196.5,362.0,367.09,404.84000000000003,1741.52,637.91,703.08,371.45,286.34,286.34,615.36,338.03999999999996,385.5,519.09,408.0,324.18,1506.1,218.26,441.26,447.64,348.94,364.15,263.94,456.27,1359.58,107.46000000000001,232.5,430.06,239.3,354.06,426.38,580.74,183.24,116.28,280.64,135.22,420.36,662.35,966.62,525.26,248.75,293.23999999999995,442.48,60.599999999999994,174.8,399.43,302.92,238.7,770.46,132.10000000000002,113.5,1734.58,81.60000000000001,376.93,186.75,623.9,85.8,1067.22,475.03,596.0,162.3,248.35,376.88,46.65,1089.07,580.08,417.01,275.78,558.29,110.55,364.22,96.3,779.06,148.26,244.65,1006.52,225.1,434.40000000000003,305.19,1022.95,1330.44,214.8,370.06,554.08,233.57999999999998,65.1,837.82,429.3,421.7,495.24,963.82,1304.7,967.18,368.31,344.9,407.2,1304.7,94.38,76.32000000000001,321.32,2377.9,240.27999999999997,49.980000000000004,334.64,674.59,321.01,488.81,377.66,486.8,324.9,75.67999999999999,124.38,344.24,546.44,204.6,386.42,718.54,553.39,204.6,171.2,590.75,522.65,201.01999999999998,202.25,325.76,1192.5,291.23,376.17,322.4,176.20000000000002,163.10000000000002,1386.19,247.6,265.51,33.9,157.0,229.75999999999996,427.6,95.4,277.18,4279.71,153.12,76.32000000000001,285.1,441.55,296.20000000000005,295.72,477.6,2503.74,253.22,948.9,228.22,436.19,85.92,227.46,8460.76,52.2,42.5,196.73999999999998,271.26,214.06,532.6,424.4,735.81,579.44,736.55,602.95,224.48000000000002,327.89,130.07,560.32,738.45,628.99,313.83,283.23,73.67999999999999,227.4,157.54,355.53,611.46,275.19,461.18,318.8,730.46,359.12,158.4,123.08,664.58,375.72,464.12,260.23,440.99,59.76000000000001,1497.52,255.85999999999999,1443.3,529.9,728.96,463.4,320.67999999999995,180.6,576.29,262.42,343.72,285.88,513.75,329.12,19.259999999999998,126.5,2079.37,364.09,562.5,135.72,227.1,419.12,419.12,571.0,642.12,477.21000000000004,163.85,434.96,1229.16,256.40999999999997,259.02,600.37,161.39999999999998,1188.75,85.1,325.35,190.24,408.3,707.48,339.59,582.63,59.28,242.44,640.77,386.85,111.9,249.45],\"yaxis\":\"y\",\"type\":\"scatter\"},{\"hovertemplate\":\"variable=Quantity<br>InvoiceDate=%{x}<br>value=%{y}<extra></extra>\",\"legendgroup\":\"Quantity\",\"line\":{\"color\":\"#EF553B\",\"dash\":\"solid\"},\"marker\":{\"symbol\":\"circle\"},\"mode\":\"lines\",\"name\":\"Quantity\",\"orientation\":\"v\",\"showlegend\":true,\"x\":[\"2010-12-01T08:45:00\",\"2010-12-03T09:51:00\",\"2010-12-03T13:59:00\",\"2010-12-05T11:57:00\",\"2010-12-07T10:08:00\",\"2010-12-07T10:36:00\",\"2010-12-08T10:45:00\",\"2010-12-09T10:37:00\",\"2010-12-09T11:31:00\",\"2010-12-09T12:17:00\",\"2010-12-09T14:49:00\",\"2010-12-10T10:56:00\",\"2010-12-15T16:21:00\",\"2010-12-16T11:24:00\",\"2010-12-17T12:56:00\",\"2010-12-17T14:46:00\",\"2010-12-20T11:38:00\",\"2010-12-20T14:10:00\",\"2010-12-21T14:26:00\",\"2010-12-22T12:47:00\",\"2011-01-05T12:42:00\",\"2011-01-05T14:48:00\",\"2011-01-06T14:26:00\",\"2011-01-06T16:12:00\",\"2011-01-07T12:07:00\",\"2011-01-07T13:13:00\",\"2011-01-09T12:46:00\",\"2011-01-10T13:22:00\",\"2011-01-11T07:57:00\",\"2011-01-11T11:48:00\",\"2011-01-11T13:31:00\",\"2011-01-11T15:00:00\",\"2011-01-12T09:43:00\",\"2011-01-12T14:13:00\",\"2011-01-12T15:00:00\",\"2011-01-14T09:13:00\",\"2011-01-14T09:20:00\",\"2011-01-14T10:42:00\",\"2011-01-17T15:17:00\",\"2011-01-19T11:51:00\",\"2011-01-20T10:47:00\",\"2011-01-20T10:48:00\",\"2011-01-23T15:17:00\",\"2011-01-24T15:32:00\",\"2011-01-28T09:20:00\",\"2011-01-28T10:45:00\",\"2011-01-28T13:37:00\",\"2011-01-31T09:57:00\",\"2011-01-31T15:36:00\",\"2011-02-01T14:58:00\",\"2011-02-02T09:06:00\",\"2011-02-02T15:22:00\",\"2011-02-04T11:45:00\",\"2011-02-08T13:28:00\",\"2011-02-09T10:11:00\",\"2011-02-10T15:38:00\",\"2011-02-15T14:17:00\",\"2011-02-16T11:45:00\",\"2011-02-17T10:08:00\",\"2011-02-18T10:53:00\",\"2011-02-18T15:23:00\",\"2011-02-21T08:38:00\",\"2011-02-21T14:58:00\",\"2011-02-23T16:44:00\",\"2011-02-23T16:45:00\",\"2011-02-27T11:58:00\",\"2011-02-28T11:43:00\",\"2011-02-28T11:58:00\",\"2011-02-28T14:42:00\",\"2011-02-28T14:45:00\",\"2011-03-01T10:31:00\",\"2011-03-01T12:26:00\",\"2011-03-03T12:06:00\",\"2011-03-03T12:20:00\",\"2011-03-04T09:08:00\",\"2011-03-11T12:00:00\",\"2011-03-13T14:55:00\",\"2011-03-14T11:38:00\",\"2011-03-15T16:39:00\",\"2011-03-16T14:37:00\",\"2011-03-16T15:17:00\",\"2011-03-20T15:58:00\",\"2011-03-21T12:42:00\",\"2011-03-21T12:44:00\",\"2011-03-22T11:28:00\",\"2011-03-23T12:06:00\",\"2011-03-23T13:33:00\",\"2011-03-23T13:39:00\",\"2011-03-23T14:55:00\",\"2011-03-25T10:19:00\",\"2011-03-27T13:07:00\",\"2011-03-28T10:15:00\",\"2011-03-31T10:27:00\",\"2011-03-31T10:29:00\",\"2011-03-31T13:40:00\",\"2011-04-01T09:19:00\",\"2011-04-01T11:10:00\",\"2011-04-04T11:18:00\",\"2011-04-07T13:07:00\",\"2011-04-14T14:15:00\",\"2011-04-17T11:21:00\",\"2011-04-17T15:33:00\",\"2011-04-20T09:20:00\",\"2011-04-21T08:54:00\",\"2011-04-21T10:16:00\",\"2011-04-26T15:52:00\",\"2011-04-28T11:45:00\",\"2011-05-03T08:40:00\",\"2011-05-03T09:33:00\",\"2011-05-03T09:34:00\",\"2011-05-03T12:02:00\",\"2011-05-03T12:03:00\",\"2011-05-05T09:29:00\",\"2011-05-08T16:10:00\",\"2011-05-09T09:47:00\",\"2011-05-09T15:12:00\",\"2011-05-10T12:55:00\",\"2011-05-11T13:20:00\",\"2011-05-11T15:07:00\",\"2011-05-12T11:50:00\",\"2011-05-13T09:24:00\",\"2011-05-13T13:15:00\",\"2011-05-13T15:48:00\",\"2011-05-15T13:45:00\",\"2011-05-16T09:10:00\",\"2011-05-16T12:04:00\",\"2011-05-17T09:28:00\",\"2011-05-18T09:09:00\",\"2011-05-18T10:34:00\",\"2011-05-18T12:18:00\",\"2011-05-19T12:10:00\",\"2011-05-19T12:29:00\",\"2011-05-20T11:34:00\",\"2011-05-22T13:01:00\",\"2011-05-22T14:33:00\",\"2011-05-23T09:48:00\",\"2011-05-24T09:25:00\",\"2011-05-25T10:08:00\",\"2011-05-25T12:44:00\",\"2011-05-25T12:54:00\",\"2011-05-26T14:53:00\",\"2011-05-26T17:16:00\",\"2011-05-27T13:49:00\",\"2011-05-31T13:32:00\",\"2011-06-05T11:53:00\",\"2011-06-05T13:13:00\",\"2011-06-05T15:29:00\",\"2011-06-06T12:47:00\",\"2011-06-08T08:49:00\",\"2011-06-08T09:16:00\",\"2011-06-08T09:39:00\",\"2011-06-08T10:10:00\",\"2011-06-09T17:48:00\",\"2011-06-09T17:53:00\",\"2011-06-10T10:38:00\",\"2011-06-12T10:47:00\",\"2011-06-13T09:55:00\",\"2011-06-13T11:33:00\",\"2011-06-13T11:41:00\",\"2011-06-15T09:01:00\",\"2011-06-15T10:21:00\",\"2011-06-15T10:22:00\",\"2011-06-15T12:34:00\",\"2011-06-16T15:22:00\",\"2011-06-17T15:09:00\",\"2011-06-19T13:37:00\",\"2011-06-20T14:17:00\",\"2011-06-20T14:58:00\",\"2011-06-21T14:30:00\",\"2011-06-22T09:43:00\",\"2011-06-22T11:20:00\",\"2011-06-24T13:35:00\",\"2011-06-27T10:17:00\",\"2011-06-28T13:11:00\",\"2011-07-01T11:43:00\",\"2011-07-01T12:17:00\",\"2011-07-04T11:42:00\",\"2011-07-05T15:14:00\",\"2011-07-06T13:14:00\",\"2011-07-08T11:36:00\",\"2011-07-08T12:00:00\",\"2011-07-08T12:22:00\",\"2011-07-11T11:39:00\",\"2011-07-11T15:22:00\",\"2011-07-12T08:52:00\",\"2011-07-12T09:54:00\",\"2011-07-12T11:55:00\",\"2011-07-12T16:58:00\",\"2011-07-13T11:48:00\",\"2011-07-17T14:56:00\",\"2011-07-18T12:05:00\",\"2011-07-18T14:10:00\",\"2011-07-19T09:51:00\",\"2011-07-24T11:25:00\",\"2011-07-27T13:14:00\",\"2011-07-29T13:28:00\",\"2011-08-02T09:55:00\",\"2011-08-03T12:56:00\",\"2011-08-04T10:04:00\",\"2011-08-05T08:40:00\",\"2011-08-05T12:38:00\",\"2011-08-10T12:35:00\",\"2011-08-12T15:22:00\",\"2011-08-14T11:16:00\",\"2011-08-15T12:53:00\",\"2011-08-17T08:50:00\",\"2011-08-18T11:40:00\",\"2011-08-18T15:44:00\",\"2011-08-19T10:51:00\",\"2011-08-21T10:44:00\",\"2011-08-21T14:42:00\",\"2011-08-23T12:43:00\",\"2011-08-23T14:23:00\",\"2011-08-24T10:13:00\",\"2011-08-24T12:58:00\",\"2011-08-25T09:55:00\",\"2011-08-25T12:26:00\",\"2011-08-25T13:12:00\",\"2011-08-25T15:04:00\",\"2011-08-26T15:44:00\",\"2011-08-31T11:22:00\",\"2011-08-31T12:18:00\",\"2011-08-31T12:33:00\",\"2011-09-02T09:51:00\",\"2011-09-02T13:14:00\",\"2011-09-02T13:15:00\",\"2011-09-04T14:22:00\",\"2011-09-05T13:38:00\",\"2011-09-05T15:17:00\",\"2011-09-07T10:28:00\",\"2011-09-07T13:22:00\",\"2011-09-07T15:07:00\",\"2011-09-08T10:32:00\",\"2011-09-08T10:35:00\",\"2011-09-09T08:48:00\",\"2011-09-09T10:51:00\",\"2011-09-09T11:48:00\",\"2011-09-11T12:27:00\",\"2011-09-13T10:34:00\",\"2011-09-14T14:19:00\",\"2011-09-15T10:53:00\",\"2011-09-15T13:31:00\",\"2011-09-15T14:50:00\",\"2011-09-19T09:15:00\",\"2011-09-19T12:01:00\",\"2011-09-19T12:19:00\",\"2011-09-19T12:36:00\",\"2011-09-20T10:06:00\",\"2011-09-21T10:40:00\",\"2011-09-21T12:26:00\",\"2011-09-21T14:08:00\",\"2011-09-21T14:43:00\",\"2011-09-22T10:52:00\",\"2011-09-22T11:40:00\",\"2011-09-22T16:58:00\",\"2011-09-22T17:15:00\",\"2011-09-23T12:09:00\",\"2011-09-25T10:34:00\",\"2011-09-25T13:25:00\",\"2011-09-27T12:53:00\",\"2011-09-28T11:38:00\",\"2011-09-29T10:23:00\",\"2011-09-29T15:31:00\",\"2011-09-29T16:38:00\",\"2011-09-29T16:52:00\",\"2011-09-30T12:06:00\",\"2011-09-30T12:58:00\",\"2011-09-30T13:06:00\",\"2011-10-03T13:46:00\",\"2011-10-04T09:00:00\",\"2011-10-04T15:02:00\",\"2011-10-05T09:57:00\",\"2011-10-05T14:50:00\",\"2011-10-05T15:52:00\",\"2011-10-05T15:56:00\",\"2011-10-06T17:28:00\",\"2011-10-07T10:18:00\",\"2011-10-07T10:44:00\",\"2011-10-10T10:13:00\",\"2011-10-10T13:03:00\",\"2011-10-11T14:52:00\",\"2011-10-12T11:22:00\",\"2011-10-12T12:30:00\",\"2011-10-12T12:54:00\",\"2011-10-12T14:18:00\",\"2011-10-12T14:46:00\",\"2011-10-13T08:42:00\",\"2011-10-14T14:55:00\",\"2011-10-19T13:49:00\",\"2011-10-19T16:24:00\",\"2011-10-20T14:30:00\",\"2011-10-27T09:18:00\",\"2011-10-27T10:51:00\",\"2011-10-27T10:57:00\",\"2011-10-27T13:44:00\",\"2011-10-28T07:39:00\",\"2011-10-28T13:04:00\",\"2011-10-28T18:07:00\",\"2011-10-30T15:44:00\",\"2011-10-31T10:19:00\",\"2011-10-31T10:42:00\",\"2011-11-01T12:12:00\",\"2011-11-01T12:18:00\",\"2011-11-01T13:56:00\",\"2011-11-02T14:51:00\",\"2011-11-03T09:43:00\",\"2011-11-03T10:45:00\",\"2011-11-03T13:24:00\",\"2011-11-04T13:15:00\",\"2011-11-04T13:24:00\",\"2011-11-08T12:13:00\",\"2011-11-08T12:45:00\",\"2011-11-09T09:34:00\",\"2011-11-09T13:47:00\",\"2011-11-10T10:53:00\",\"2011-11-10T11:53:00\",\"2011-11-10T11:55:00\",\"2011-11-10T13:34:00\",\"2011-11-10T14:39:00\",\"2011-11-10T15:03:00\",\"2011-11-10T16:27:00\",\"2011-11-11T10:19:00\",\"2011-11-11T12:07:00\",\"2011-11-11T13:35:00\",\"2011-11-11T13:46:00\",\"2011-11-11T16:49:00\",\"2011-11-13T15:37:00\",\"2011-11-14T08:31:00\",\"2011-11-14T13:02:00\",\"2011-11-14T13:40:00\",\"2011-11-15T08:43:00\",\"2011-11-15T10:50:00\",\"2011-11-16T11:52:00\",\"2011-11-16T11:59:00\",\"2011-11-17T08:35:00\",\"2011-11-17T11:02:00\",\"2011-11-17T11:34:00\",\"2011-11-17T18:29:00\",\"2011-11-18T09:53:00\",\"2011-11-18T12:46:00\",\"2011-11-18T15:14:00\",\"2011-11-20T12:34:00\",\"2011-11-20T12:55:00\",\"2011-11-21T11:16:00\",\"2011-11-22T11:19:00\",\"2011-11-22T13:42:00\",\"2011-11-23T13:51:00\",\"2011-11-23T14:01:00\",\"2011-11-24T09:34:00\",\"2011-11-24T15:01:00\",\"2011-11-25T10:20:00\",\"2011-11-25T11:33:00\",\"2011-11-25T15:44:00\",\"2011-11-28T13:26:00\",\"2011-11-28T15:35:00\",\"2011-11-28T15:47:00\",\"2011-11-29T11:46:00\",\"2011-11-29T15:23:00\",\"2011-11-30T08:50:00\",\"2011-11-30T12:18:00\",\"2011-11-30T14:16:00\",\"2011-11-30T15:43:00\",\"2011-11-30T16:47:00\",\"2011-12-01T16:38:00\",\"2011-12-01T17:20:00\",\"2011-12-02T09:53:00\",\"2011-12-02T10:47:00\",\"2011-12-02T13:22:00\",\"2011-12-04T13:45:00\",\"2011-12-04T16:02:00\",\"2011-12-04T16:07:00\",\"2011-12-05T16:28:00\",\"2011-12-06T08:55:00\",\"2011-12-06T10:00:00\",\"2011-12-06T10:19:00\",\"2011-12-06T16:34:00\",\"2011-12-07T08:07:00\",\"2011-12-07T15:02:00\",\"2011-12-08T11:35:00\",\"2011-12-09T12:50:00\"],\"xaxis\":\"x\",\"y\":[446.0,106.0,130.0,602.0,581.0,164.0,120.0,106.0,8.0,552.0,339.0,410.0,134.0,3.0,332.0,64.0,128.0,599.0,24.0,88.0,359.0,369.0,261.0,177.0,488.0,103.0,78.0,628.0,168.0,576.0,120.0,114.0,43.0,131.0,498.0,543.0,78.0,440.0,263.0,383.0,211.0,491.0,120.0,84.0,59.0,406.0,102.0,1617.0,202.0,197.0,159.0,206.0,611.0,214.0,298.0,452.0,96.0,772.0,114.0,748.0,15.0,256.0,77.0,264.0,96.0,70.0,213.0,310.0,72.0,54.0,245.0,329.0,314.0,24.0,123.0,323.0,183.0,184.0,314.0,97.0,62.0,422.0,85.0,5.0,198.0,136.0,713.0,242.0,130.0,261.0,59.0,842.0,946.0,132.0,2271.0,88.0,240.0,293.0,236.0,284.0,375.0,25.0,196.0,23.0,275.0,84.0,146.0,368.0,350.0,6.0,120.0,192.0,98.0,773.0,162.0,332.0,458.0,859.0,734.0,105.0,202.0,33.0,267.0,140.0,220.0,58.0,476.0,103.0,152.0,72.0,434.0,126.0,464.0,229.0,62.0,304.0,208.0,180.0,180.0,374.0,86.0,424.0,155.0,200.0,1184.0,347.0,358.0,115.0,216.0,216.0,464.0,444.0,320.0,460.0,160.0,714.0,549.0,110.0,232.0,356.0,170.0,139.0,206.0,267.0,514.0,62.0,50.0,208.0,350.0,270.0,384.0,410.0,118.0,108.0,284.0,78.0,256.0,321.0,592.0,322.0,135.0,198.0,236.0,48.0,76.0,262.0,156.0,116.0,666.0,46.0,82.0,838.0,32.0,234.0,147.0,500.0,52.0,690.0,279.0,320.0,162.0,197.0,178.0,3.0,603.0,400.0,231.0,228.0,459.0,33.0,234.0,54.0,402.0,105.0,139.0,784.0,170.0,204.0,145.0,688.0,820.0,120.0,198.0,270.0,98.0,54.0,506.0,142.0,184.0,265.0,646.0,719.0,644.0,209.0,104.0,292.0,719.0,42.0,72.0,436.0,1060.0,164.0,6.0,228.0,241.0,177.0,189.0,306.0,274.0,416.0,64.0,63.0,484.0,255.0,172.0,282.0,475.0,169.0,111.0,64.0,265.0,335.0,162.0,201.0,286.0,710.0,173.0,183.0,156.0,80.0,34.0,885.0,160.0,188.0,2.0,29.0,184.0,342.0,60.0,158.0,2801.0,162.0,72.0,98.0,218.0,100.0,122.0,232.0,566.0,165.0,524.0,136.0,297.0,48.0,76.0,5202.0,36.0,5.0,208.0,326.0,90.0,344.0,258.0,421.0,288.0,567.0,373.0,92.0,304.0,33.0,406.0,459.0,341.0,151.0,183.0,104.0,100.0,206.0,213.0,330.0,203.0,220.0,336.0,760.0,200.0,96.0,69.0,343.0,320.0,222.0,36.0,439.0,24.0,662.0,108.0,766.0,210.0,510.0,298.0,154.0,92.0,221.0,77.0,268.0,182.0,171.0,212.0,7.0,132.0,825.0,439.0,310.0,68.0,126.0,386.0,386.0,338.0,300.0,267.0,147.0,236.0,806.0,97.0,168.0,320.0,84.0,694.0,14.0,210.0,74.0,252.0,467.0,203.0,300.0,24.0,250.0,309.0,247.0,18.0,105.0],\"yaxis\":\"y\",\"type\":\"scatter\"}],                        {\"template\":{\"data\":{\"histogram2dcontour\":[{\"type\":\"histogram2dcontour\",\"colorbar\":{\"outlinewidth\":0,\"ticks\":\"\"},\"colorscale\":[[0.0,\"#0d0887\"],[0.1111111111111111,\"#46039f\"],[0.2222222222222222,\"#7201a8\"],[0.3333333333333333,\"#9c179e\"],[0.4444444444444444,\"#bd3786\"],[0.5555555555555556,\"#d8576b\"],[0.6666666666666666,\"#ed7953\"],[0.7777777777777778,\"#fb9f3a\"],[0.8888888888888888,\"#fdca26\"],[1.0,\"#f0f921\"]]}],\"choropleth\":[{\"type\":\"choropleth\",\"colorbar\":{\"outlinewidth\":0,\"ticks\":\"\"}}],\"histogram2d\":[{\"type\":\"histogram2d\",\"colorbar\":{\"outlinewidth\":0,\"ticks\":\"\"},\"colorscale\":[[0.0,\"#0d0887\"],[0.1111111111111111,\"#46039f\"],[0.2222222222222222,\"#7201a8\"],[0.3333333333333333,\"#9c179e\"],[0.4444444444444444,\"#bd3786\"],[0.5555555555555556,\"#d8576b\"],[0.6666666666666666,\"#ed7953\"],[0.7777777777777778,\"#fb9f3a\"],[0.8888888888888888,\"#fdca26\"],[1.0,\"#f0f921\"]]}],\"heatmap\":[{\"type\":\"heatmap\",\"colorbar\":{\"outlinewidth\":0,\"ticks\":\"\"},\"colorscale\":[[0.0,\"#0d0887\"],[0.1111111111111111,\"#46039f\"],[0.2222222222222222,\"#7201a8\"],[0.3333333333333333,\"#9c179e\"],[0.4444444444444444,\"#bd3786\"],[0.5555555555555556,\"#d8576b\"],[0.6666666666666666,\"#ed7953\"],[0.7777777777777778,\"#fb9f3a\"],[0.8888888888888888,\"#fdca26\"],[1.0,\"#f0f921\"]]}],\"heatmapgl\":[{\"type\":\"heatmapgl\",\"colorbar\":{\"outlinewidth\":0,\"ticks\":\"\"},\"colorscale\":[[0.0,\"#0d0887\"],[0.1111111111111111,\"#46039f\"],[0.2222222222222222,\"#7201a8\"],[0.3333333333333333,\"#9c179e\"],[0.4444444444444444,\"#bd3786\"],[0.5555555555555556,\"#d8576b\"],[0.6666666666666666,\"#ed7953\"],[0.7777777777777778,\"#fb9f3a\"],[0.8888888888888888,\"#fdca26\"],[1.0,\"#f0f921\"]]}],\"contourcarpet\":[{\"type\":\"contourcarpet\",\"colorbar\":{\"outlinewidth\":0,\"ticks\":\"\"}}],\"contour\":[{\"type\":\"contour\",\"colorbar\":{\"outlinewidth\":0,\"ticks\":\"\"},\"colorscale\":[[0.0,\"#0d0887\"],[0.1111111111111111,\"#46039f\"],[0.2222222222222222,\"#7201a8\"],[0.3333333333333333,\"#9c179e\"],[0.4444444444444444,\"#bd3786\"],[0.5555555555555556,\"#d8576b\"],[0.6666666666666666,\"#ed7953\"],[0.7777777777777778,\"#fb9f3a\"],[0.8888888888888888,\"#fdca26\"],[1.0,\"#f0f921\"]]}],\"surface\":[{\"type\":\"surface\",\"colorbar\":{\"outlinewidth\":0,\"ticks\":\"\"},\"colorscale\":[[0.0,\"#0d0887\"],[0.1111111111111111,\"#46039f\"],[0.2222222222222222,\"#7201a8\"],[0.3333333333333333,\"#9c179e\"],[0.4444444444444444,\"#bd3786\"],[0.5555555555555556,\"#d8576b\"],[0.6666666666666666,\"#ed7953\"],[0.7777777777777778,\"#fb9f3a\"],[0.8888888888888888,\"#fdca26\"],[1.0,\"#f0f921\"]]}],\"mesh3d\":[{\"type\":\"mesh3d\",\"colorbar\":{\"outlinewidth\":0,\"ticks\":\"\"}}],\"scatter\":[{\"fillpattern\":{\"fillmode\":\"overlay\",\"size\":10,\"solidity\":0.2},\"type\":\"scatter\"}],\"parcoords\":[{\"type\":\"parcoords\",\"line\":{\"colorbar\":{\"outlinewidth\":0,\"ticks\":\"\"}}}],\"scatterpolargl\":[{\"type\":\"scatterpolargl\",\"marker\":{\"colorbar\":{\"outlinewidth\":0,\"ticks\":\"\"}}}],\"bar\":[{\"error_x\":{\"color\":\"#2a3f5f\"},\"error_y\":{\"color\":\"#2a3f5f\"},\"marker\":{\"line\":{\"color\":\"#E5ECF6\",\"width\":0.5},\"pattern\":{\"fillmode\":\"overlay\",\"size\":10,\"solidity\":0.2}},\"type\":\"bar\"}],\"scattergeo\":[{\"type\":\"scattergeo\",\"marker\":{\"colorbar\":{\"outlinewidth\":0,\"ticks\":\"\"}}}],\"scatterpolar\":[{\"type\":\"scatterpolar\",\"marker\":{\"colorbar\":{\"outlinewidth\":0,\"ticks\":\"\"}}}],\"histogram\":[{\"marker\":{\"pattern\":{\"fillmode\":\"overlay\",\"size\":10,\"solidity\":0.2}},\"type\":\"histogram\"}],\"scattergl\":[{\"type\":\"scattergl\",\"marker\":{\"colorbar\":{\"outlinewidth\":0,\"ticks\":\"\"}}}],\"scatter3d\":[{\"type\":\"scatter3d\",\"line\":{\"colorbar\":{\"outlinewidth\":0,\"ticks\":\"\"}},\"marker\":{\"colorbar\":{\"outlinewidth\":0,\"ticks\":\"\"}}}],\"scattermapbox\":[{\"type\":\"scattermapbox\",\"marker\":{\"colorbar\":{\"outlinewidth\":0,\"ticks\":\"\"}}}],\"scatterternary\":[{\"type\":\"scatterternary\",\"marker\":{\"colorbar\":{\"outlinewidth\":0,\"ticks\":\"\"}}}],\"scattercarpet\":[{\"type\":\"scattercarpet\",\"marker\":{\"colorbar\":{\"outlinewidth\":0,\"ticks\":\"\"}}}],\"carpet\":[{\"aaxis\":{\"endlinecolor\":\"#2a3f5f\",\"gridcolor\":\"white\",\"linecolor\":\"white\",\"minorgridcolor\":\"white\",\"startlinecolor\":\"#2a3f5f\"},\"baxis\":{\"endlinecolor\":\"#2a3f5f\",\"gridcolor\":\"white\",\"linecolor\":\"white\",\"minorgridcolor\":\"white\",\"startlinecolor\":\"#2a3f5f\"},\"type\":\"carpet\"}],\"table\":[{\"cells\":{\"fill\":{\"color\":\"#EBF0F8\"},\"line\":{\"color\":\"white\"}},\"header\":{\"fill\":{\"color\":\"#C8D4E3\"},\"line\":{\"color\":\"white\"}},\"type\":\"table\"}],\"barpolar\":[{\"marker\":{\"line\":{\"color\":\"#E5ECF6\",\"width\":0.5},\"pattern\":{\"fillmode\":\"overlay\",\"size\":10,\"solidity\":0.2}},\"type\":\"barpolar\"}],\"pie\":[{\"automargin\":true,\"type\":\"pie\"}]},\"layout\":{\"autotypenumbers\":\"strict\",\"colorway\":[\"#636efa\",\"#EF553B\",\"#00cc96\",\"#ab63fa\",\"#FFA15A\",\"#19d3f3\",\"#FF6692\",\"#B6E880\",\"#FF97FF\",\"#FECB52\"],\"font\":{\"color\":\"#2a3f5f\"},\"hovermode\":\"closest\",\"hoverlabel\":{\"align\":\"left\"},\"paper_bgcolor\":\"white\",\"plot_bgcolor\":\"#E5ECF6\",\"polar\":{\"bgcolor\":\"#E5ECF6\",\"angularaxis\":{\"gridcolor\":\"white\",\"linecolor\":\"white\",\"ticks\":\"\"},\"radialaxis\":{\"gridcolor\":\"white\",\"linecolor\":\"white\",\"ticks\":\"\"}},\"ternary\":{\"bgcolor\":\"#E5ECF6\",\"aaxis\":{\"gridcolor\":\"white\",\"linecolor\":\"white\",\"ticks\":\"\"},\"baxis\":{\"gridcolor\":\"white\",\"linecolor\":\"white\",\"ticks\":\"\"},\"caxis\":{\"gridcolor\":\"white\",\"linecolor\":\"white\",\"ticks\":\"\"}},\"coloraxis\":{\"colorbar\":{\"outlinewidth\":0,\"ticks\":\"\"}},\"colorscale\":{\"sequential\":[[0.0,\"#0d0887\"],[0.1111111111111111,\"#46039f\"],[0.2222222222222222,\"#7201a8\"],[0.3333333333333333,\"#9c179e\"],[0.4444444444444444,\"#bd3786\"],[0.5555555555555556,\"#d8576b\"],[0.6666666666666666,\"#ed7953\"],[0.7777777777777778,\"#fb9f3a\"],[0.8888888888888888,\"#fdca26\"],[1.0,\"#f0f921\"]],\"sequentialminus\":[[0.0,\"#0d0887\"],[0.1111111111111111,\"#46039f\"],[0.2222222222222222,\"#7201a8\"],[0.3333333333333333,\"#9c179e\"],[0.4444444444444444,\"#bd3786\"],[0.5555555555555556,\"#d8576b\"],[0.6666666666666666,\"#ed7953\"],[0.7777777777777778,\"#fb9f3a\"],[0.8888888888888888,\"#fdca26\"],[1.0,\"#f0f921\"]],\"diverging\":[[0,\"#8e0152\"],[0.1,\"#c51b7d\"],[0.2,\"#de77ae\"],[0.3,\"#f1b6da\"],[0.4,\"#fde0ef\"],[0.5,\"#f7f7f7\"],[0.6,\"#e6f5d0\"],[0.7,\"#b8e186\"],[0.8,\"#7fbc41\"],[0.9,\"#4d9221\"],[1,\"#276419\"]]},\"xaxis\":{\"gridcolor\":\"white\",\"linecolor\":\"white\",\"ticks\":\"\",\"title\":{\"standoff\":15},\"zerolinecolor\":\"white\",\"automargin\":true,\"zerolinewidth\":2},\"yaxis\":{\"gridcolor\":\"white\",\"linecolor\":\"white\",\"ticks\":\"\",\"title\":{\"standoff\":15},\"zerolinecolor\":\"white\",\"automargin\":true,\"zerolinewidth\":2},\"scene\":{\"xaxis\":{\"backgroundcolor\":\"#E5ECF6\",\"gridcolor\":\"white\",\"linecolor\":\"white\",\"showbackground\":true,\"ticks\":\"\",\"zerolinecolor\":\"white\",\"gridwidth\":2},\"yaxis\":{\"backgroundcolor\":\"#E5ECF6\",\"gridcolor\":\"white\",\"linecolor\":\"white\",\"showbackground\":true,\"ticks\":\"\",\"zerolinecolor\":\"white\",\"gridwidth\":2},\"zaxis\":{\"backgroundcolor\":\"#E5ECF6\",\"gridcolor\":\"white\",\"linecolor\":\"white\",\"showbackground\":true,\"ticks\":\"\",\"zerolinecolor\":\"white\",\"gridwidth\":2}},\"shapedefaults\":{\"line\":{\"color\":\"#2a3f5f\"}},\"annotationdefaults\":{\"arrowcolor\":\"#2a3f5f\",\"arrowhead\":0,\"arrowwidth\":1},\"geo\":{\"bgcolor\":\"white\",\"landcolor\":\"#E5ECF6\",\"subunitcolor\":\"white\",\"showland\":true,\"showlakes\":true,\"lakecolor\":\"white\"},\"title\":{\"x\":0.05},\"mapbox\":{\"style\":\"light\"}}},\"xaxis\":{\"anchor\":\"y\",\"domain\":[0.0,1.0],\"title\":{\"text\":\"InvoiceDate\"}},\"yaxis\":{\"anchor\":\"x\",\"domain\":[0.0,1.0],\"title\":{\"text\":\"value\"}},\"legend\":{\"title\":{\"text\":\"variable\"},\"tracegroupgap\":0},\"margin\":{\"t\":60}},                        {\"responsive\": true}                    ).then(function(){\n",
       "                            \n",
       "var gd = document.getElementById('22fa32fe-fd95-4bfa-bd80-99d9678e7cf1');\n",
       "var x = new MutationObserver(function (mutations, observer) {{\n",
       "        var display = window.getComputedStyle(gd).display;\n",
       "        if (!display || display === 'none') {{\n",
       "            console.log([gd, 'removed!']);\n",
       "            Plotly.purge(gd);\n",
       "            observer.disconnect();\n",
       "        }}\n",
       "}});\n",
       "\n",
       "// Listen for the removal of the full notebook cells\n",
       "var notebookContainer = gd.closest('#notebook-container');\n",
       "if (notebookContainer) {{\n",
       "    x.observe(notebookContainer, {childList: true});\n",
       "}}\n",
       "\n",
       "// Listen for the clearing of the current output cell\n",
       "var outputEl = gd.closest('.output');\n",
       "if (outputEl) {{\n",
       "    x.observe(outputEl, {childList: true});\n",
       "}}\n",
       "\n",
       "                        })                };                });            </script>        </div>"
      ]
     },
     "metadata": {},
     "output_type": "display_data"
    }
   ],
   "source": [
    "data[data['Country']=='France'].groupby('InvoiceDate').sum().plot(y=['Revenue','Quantity'],kind='line').show()"
   ]
  },
  {
   "cell_type": "markdown",
   "metadata": {},
   "source": [
    "## 3. Create an interactive scatter plot showing the relationship between average quantity (x-axis) and average unit price (y-axis) for the product PARTY BUNTING with the plot points color-coded by country (categories)."
   ]
  },
  {
   "cell_type": "code",
   "execution_count": 60,
   "metadata": {},
   "outputs": [
    {
     "data": {
      "application/vnd.plotly.v1+json": {
       "config": {
        "plotlyServerURL": "https://plot.ly"
       },
       "data": [
        {
         "hovertemplate": "Country=United Kingdom<br>Quantity=%{x}<br>UnitPrice=%{y}<extra></extra>",
         "legendgroup": "United Kingdom",
         "marker": {
          "color": "#636efa",
          "symbol": "circle"
         },
         "mode": "markers",
         "name": "United Kingdom",
         "showlegend": true,
         "type": "scattergl",
         "x": [
          5,
          2,
          1,
          5,
          1,
          5,
          50,
          5,
          1,
          50,
          5,
          5,
          3,
          5,
          5,
          10,
          1,
          1,
          3,
          60,
          5,
          50,
          3,
          15,
          5,
          4,
          1,
          6,
          3,
          6,
          15,
          3,
          5,
          5,
          4,
          5,
          10,
          1,
          4,
          5,
          5,
          10,
          11,
          2,
          5,
          5,
          5,
          6,
          1,
          50,
          1,
          1,
          3,
          50,
          5,
          5,
          5,
          2,
          10,
          100,
          2,
          5,
          5,
          6,
          4,
          50,
          1,
          6,
          12,
          1,
          5,
          1,
          6,
          2,
          3,
          4,
          4,
          30,
          5,
          2,
          100,
          8,
          3,
          1,
          4,
          5,
          1,
          4,
          20,
          1,
          100,
          4,
          12,
          5,
          2,
          8,
          5,
          4,
          6,
          4,
          50,
          4,
          4,
          4,
          4,
          4,
          12,
          4,
          8,
          1,
          20,
          5,
          2,
          4,
          4,
          4,
          4,
          4,
          5,
          5,
          4,
          12,
          5,
          50,
          16,
          4,
          4,
          2,
          1,
          2,
          6,
          4,
          4,
          1,
          8,
          2,
          8,
          2,
          3,
          4,
          2,
          4,
          12,
          4,
          4,
          4,
          4,
          50,
          1,
          2,
          4,
          4,
          1,
          50,
          8,
          12,
          1,
          1,
          4,
          8,
          4,
          24,
          4,
          12,
          4,
          20,
          5,
          2,
          12,
          2,
          4,
          2,
          150,
          4,
          2,
          4,
          4,
          8,
          4,
          4,
          50,
          4,
          6,
          60,
          2,
          50,
          4,
          4,
          4,
          6,
          6,
          4,
          4,
          24,
          4,
          24,
          3,
          1,
          1,
          1,
          2,
          10,
          100,
          8,
          4,
          4,
          8,
          2,
          1,
          2,
          4,
          6,
          2,
          5,
          1,
          36,
          8,
          4,
          12,
          1,
          4,
          4,
          8,
          4,
          50,
          12,
          8,
          2,
          4,
          4,
          50,
          2,
          5,
          50,
          4,
          1,
          12,
          2,
          2,
          1,
          6,
          6,
          4,
          12,
          12,
          1,
          2,
          2,
          2,
          2,
          8,
          4,
          2,
          5,
          8,
          1,
          1,
          12,
          3,
          8,
          4,
          4,
          7,
          3,
          4,
          50,
          50,
          4,
          2,
          8,
          4,
          4,
          4,
          4,
          4,
          4,
          16,
          100,
          16,
          5,
          3,
          5,
          8,
          3,
          2,
          2,
          4,
          4,
          12,
          4,
          4,
          50,
          4,
          4,
          8,
          4,
          50,
          4,
          1,
          4,
          50,
          2,
          4,
          4,
          4,
          12,
          2,
          4,
          4,
          4,
          4,
          12,
          4,
          16,
          4,
          4,
          15,
          12,
          8,
          50,
          8,
          4,
          7,
          5,
          4,
          4,
          4,
          12,
          3,
          4,
          12,
          4,
          8,
          50,
          6,
          2,
          4,
          3,
          2,
          4,
          9,
          1,
          4,
          4,
          4,
          5,
          60,
          8,
          8,
          4,
          60,
          4,
          4,
          50,
          12,
          8,
          4,
          4,
          12,
          1,
          4,
          4,
          50,
          4,
          100,
          8,
          4,
          6,
          4,
          4,
          4,
          5,
          4,
          4,
          18,
          10,
          4,
          4,
          3,
          4,
          1,
          2,
          4,
          1,
          3,
          2,
          12,
          8,
          50,
          8,
          4,
          8,
          4,
          4,
          3,
          6,
          6,
          4,
          4,
          50,
          4,
          50,
          8,
          12,
          8,
          3,
          3,
          8,
          1,
          8,
          100,
          6,
          60,
          3,
          1,
          1,
          4,
          10,
          20,
          4,
          100,
          12,
          2,
          4,
          4,
          2,
          1,
          8,
          4,
          24,
          4,
          50,
          25,
          4,
          12,
          8,
          2,
          150,
          12,
          4,
          5,
          3,
          1,
          4,
          4,
          1,
          8,
          4,
          50,
          8,
          4,
          50,
          12,
          4,
          16,
          4,
          4,
          1,
          3,
          12,
          5,
          50,
          150,
          2,
          1,
          1,
          1,
          16,
          8,
          4,
          12,
          4,
          8,
          8,
          2,
          1,
          4,
          4,
          6,
          1,
          5,
          4,
          4,
          16,
          10,
          50,
          4,
          4,
          4,
          1,
          1,
          60,
          4,
          4,
          4,
          3,
          12,
          8,
          50,
          2,
          8,
          4,
          4,
          8,
          4,
          4,
          4,
          4,
          4,
          4,
          36,
          4,
          4,
          2,
          4,
          8,
          4,
          12,
          8,
          8,
          1,
          4,
          4,
          4,
          8,
          12,
          8,
          50,
          8,
          4,
          8,
          50,
          4,
          24,
          8,
          24,
          1,
          12,
          4,
          1,
          3,
          2,
          4,
          3,
          20,
          1,
          20,
          2,
          3,
          2,
          12,
          100,
          4,
          50,
          2,
          4,
          4,
          12,
          8,
          5,
          50,
          12,
          4,
          8,
          4,
          150,
          8,
          4,
          8,
          8,
          4,
          8,
          4,
          8,
          3,
          3,
          10,
          8,
          4,
          50,
          50,
          4,
          3,
          50,
          4,
          3,
          1,
          8,
          50,
          4,
          50,
          5,
          6,
          2,
          6,
          14,
          12,
          8,
          12,
          3,
          1,
          100,
          4,
          3,
          4,
          4,
          8,
          4,
          4,
          2,
          4,
          4,
          2,
          1,
          8,
          4,
          4,
          4,
          8,
          1,
          4,
          6,
          4,
          4,
          8,
          4,
          2,
          12,
          8,
          4,
          4,
          1,
          4,
          4,
          3,
          2,
          8,
          8,
          4,
          2,
          60,
          50,
          1,
          6,
          4,
          50,
          12,
          1,
          1,
          16,
          5,
          3,
          12,
          4,
          1,
          4,
          4,
          8,
          8,
          2,
          3,
          12,
          6,
          8,
          10,
          5,
          6,
          5,
          2,
          2,
          2,
          4,
          8,
          3,
          8,
          8,
          4,
          50,
          4,
          4,
          4,
          3,
          16,
          50,
          1,
          4,
          9,
          8,
          20,
          4,
          8,
          4,
          8,
          4,
          4,
          12,
          50,
          1,
          8,
          1,
          4,
          2,
          24,
          6,
          8,
          5,
          12,
          5,
          1,
          8,
          4,
          2,
          1,
          8,
          150,
          4,
          24,
          4,
          100,
          8,
          2,
          8,
          3,
          4,
          50,
          16,
          1,
          2,
          12,
          8,
          4,
          4,
          4,
          12,
          8,
          4,
          1,
          4,
          2,
          1,
          4,
          8,
          20,
          50,
          8,
          1,
          1,
          8,
          3,
          1,
          16,
          4,
          2,
          4,
          4,
          1,
          10,
          8,
          4,
          8,
          1,
          4,
          4,
          8,
          4,
          8,
          8,
          8,
          4,
          1,
          11,
          12,
          8,
          4,
          5,
          4,
          50,
          8,
          8,
          4,
          6,
          50,
          1,
          8,
          12,
          8,
          10,
          50,
          8,
          2,
          12,
          12,
          4,
          4,
          200,
          12,
          3,
          50,
          2,
          12,
          4,
          4,
          4,
          4,
          4,
          12,
          150,
          4,
          4,
          8,
          2,
          50,
          50,
          2,
          12,
          8,
          12,
          8,
          4,
          4,
          4,
          8,
          4,
          4,
          8,
          8,
          5,
          8,
          4,
          8,
          3,
          1,
          8,
          4,
          1,
          4,
          8,
          2,
          50,
          8,
          1,
          3,
          2,
          4,
          4,
          4,
          12,
          2,
          50,
          12,
          2,
          4,
          8,
          24,
          16,
          10,
          8,
          24,
          60,
          1,
          2,
          4,
          5,
          24,
          60,
          150,
          4,
          24,
          4,
          100,
          4,
          50,
          8,
          4,
          2,
          2,
          6,
          8,
          4,
          4,
          4,
          12,
          8,
          4,
          8,
          4,
          8,
          4,
          12,
          2,
          3,
          8,
          50,
          12,
          2,
          20,
          16,
          12,
          4,
          50,
          3,
          4,
          8,
          8,
          4,
          4,
          4,
          4,
          2,
          4,
          4,
          4,
          1,
          16,
          4,
          1,
          6,
          12,
          2,
          12,
          8,
          4,
          1,
          12,
          8,
          12,
          3,
          8,
          8,
          8,
          50,
          2,
          3,
          150,
          2,
          8,
          5,
          3,
          3,
          4,
          2,
          4,
          2,
          16,
          4,
          8,
          20,
          4,
          12,
          6,
          2,
          2,
          8,
          16,
          50,
          4,
          4,
          2,
          4,
          8,
          4,
          4,
          4,
          4,
          8,
          4,
          8,
          8,
          1,
          7,
          4,
          4,
          20,
          4,
          7,
          16,
          50,
          12,
          4,
          6,
          12,
          10,
          4,
          1,
          8,
          4,
          16,
          2,
          12,
          8,
          12,
          2,
          8,
          3,
          8,
          2,
          12,
          4,
          4,
          3,
          4,
          4,
          6,
          2,
          6,
          8,
          4,
          50,
          3,
          4,
          4,
          50,
          4,
          2,
          4,
          2,
          6,
          4,
          4,
          100,
          4,
          1,
          8,
          4,
          12,
          8,
          4,
          1,
          1,
          4,
          24,
          2,
          12,
          18,
          4,
          8,
          6,
          8,
          8,
          4,
          4,
          5,
          2,
          2,
          2,
          8,
          4,
          8,
          4,
          12,
          6,
          4,
          3,
          4,
          8,
          50,
          4,
          4,
          4,
          4,
          4,
          1,
          2,
          20,
          2,
          2,
          1,
          2,
          10,
          4,
          2,
          2,
          4,
          2,
          4,
          50,
          8,
          3,
          4,
          8,
          4,
          1,
          8,
          4,
          4,
          4,
          2,
          150,
          4,
          7,
          1,
          2,
          2,
          3,
          7,
          4,
          4,
          4,
          4,
          4,
          4,
          10,
          7,
          4,
          4,
          12,
          4,
          5,
          1,
          3,
          2,
          4,
          8,
          4,
          2,
          1,
          4,
          4,
          4,
          4,
          7,
          15,
          4,
          4,
          4,
          50,
          4,
          8,
          4,
          1,
          4,
          4,
          3,
          4,
          4,
          4,
          4,
          4,
          5,
          8,
          4,
          5,
          2,
          4,
          2,
          2,
          4,
          3,
          4,
          4,
          8,
          4,
          8,
          4,
          4,
          4,
          4,
          4,
          4,
          3,
          4,
          4,
          8,
          8,
          1,
          4,
          4,
          4,
          3,
          8,
          18,
          3,
          2,
          4,
          8,
          4,
          4,
          4,
          4,
          4,
          4,
          1,
          16,
          4,
          5,
          3,
          6,
          6,
          2,
          1,
          2,
          8,
          100,
          4,
          5,
          4,
          2,
          2,
          4,
          1,
          8,
          3,
          12,
          1,
          3,
          1,
          1,
          12,
          4,
          8,
          4,
          2,
          1,
          4,
          10,
          2,
          12,
          4,
          5,
          12,
          8,
          4,
          1,
          4,
          8,
          4,
          24,
          2,
          5,
          2,
          4,
          1,
          4,
          1,
          3,
          4,
          4,
          2,
          3,
          1,
          3,
          12,
          4,
          8,
          2,
          8,
          3,
          4,
          1,
          24,
          12,
          2,
          4,
          3,
          2,
          1,
          3,
          3,
          50,
          1,
          4,
          3,
          1,
          4,
          12,
          4,
          2,
          4,
          2,
          4,
          16,
          150,
          150,
          1,
          6,
          12,
          8,
          4,
          1,
          50,
          4,
          1,
          4,
          4,
          4,
          2,
          6,
          3,
          1,
          4,
          4,
          6,
          4,
          4,
          7,
          10,
          8,
          6,
          3,
          1,
          12,
          2,
          4,
          3,
          5,
          8,
          1
         ],
         "xaxis": "x",
         "y": [
          4.65,
          4.65,
          4.65,
          4.65,
          4.65,
          4.65,
          3.75,
          4.65,
          4.65,
          3.75,
          4.65,
          4.65,
          4.65,
          4.65,
          4.65,
          4.65,
          4.65,
          4.65,
          4.65,
          3.75,
          4.65,
          3.75,
          4.65,
          4.65,
          4.65,
          4.65,
          4.65,
          4.65,
          4.65,
          4.65,
          4.65,
          4.65,
          4.65,
          4.65,
          4.65,
          4.65,
          4.65,
          4.65,
          4.65,
          4.65,
          4.65,
          4.65,
          4.65,
          4.65,
          4.65,
          4.65,
          4.65,
          4.65,
          4.65,
          3.75,
          4.65,
          4.65,
          4.65,
          3.75,
          4.65,
          4.65,
          4.65,
          4.65,
          4.65,
          3.75,
          4.65,
          4.65,
          4.65,
          4.65,
          4.65,
          4.15,
          4.95,
          4.95,
          4.95,
          4.95,
          4.95,
          4.95,
          4.95,
          4.95,
          4.95,
          4.95,
          4.95,
          4.95,
          4.65,
          4.95,
          3.75,
          4.95,
          4.95,
          4.95,
          4.95,
          4.95,
          4.95,
          4.95,
          4.95,
          4.95,
          4.15,
          4.95,
          4.95,
          4.95,
          4.95,
          4.95,
          4.95,
          4.95,
          4.95,
          4.95,
          4.15,
          4.95,
          4.95,
          4.95,
          4.95,
          4.95,
          4.95,
          4.95,
          4.95,
          4.95,
          4.95,
          4.95,
          4.95,
          4.95,
          4.95,
          4.95,
          4.95,
          4.95,
          4.95,
          4.95,
          4.95,
          4.95,
          4.95,
          4.15,
          4.95,
          4.95,
          4.95,
          4.95,
          4.95,
          4.95,
          4.95,
          4.95,
          4.95,
          4.95,
          4.95,
          4.95,
          4.95,
          4.95,
          4.95,
          4.95,
          4.95,
          4.95,
          4.95,
          4.95,
          4.95,
          4.95,
          4.95,
          4.15,
          4.95,
          4.95,
          4.95,
          4.95,
          4.95,
          3.75,
          4.95,
          4.95,
          4.95,
          4.95,
          4.95,
          4.95,
          4.95,
          4.95,
          4.95,
          4.95,
          4.95,
          4.95,
          4.95,
          4.95,
          4.95,
          4.95,
          4.95,
          4.95,
          4.15,
          4.95,
          4.95,
          4.95,
          4.95,
          4.95,
          4.95,
          4.95,
          4.15,
          4.95,
          4.95,
          4.15,
          4.95,
          4.15,
          4.95,
          4.95,
          4.95,
          4.95,
          4.95,
          4.95,
          4.95,
          4.95,
          4.95,
          4.95,
          4.95,
          4.95,
          4.95,
          4.95,
          4.95,
          4.95,
          4.15,
          4.95,
          4.95,
          4.95,
          4.95,
          4.95,
          4.95,
          4.95,
          4.95,
          4.95,
          4.95,
          4.95,
          4.95,
          4.95,
          4.95,
          4.95,
          4.95,
          4.95,
          4.95,
          4.95,
          4.95,
          4.95,
          4.15,
          4.95,
          4.95,
          4.95,
          4.95,
          4.95,
          4.15,
          4.95,
          4.95,
          4.15,
          4.95,
          4.95,
          4.95,
          4.95,
          4.95,
          4.95,
          4.95,
          4.95,
          4.95,
          4.95,
          4.95,
          4.95,
          4.95,
          4.95,
          4.95,
          4.95,
          4.95,
          4.95,
          4.95,
          4.95,
          4.95,
          4.95,
          4.95,
          4.95,
          4.95,
          4.95,
          4.95,
          4.95,
          4.95,
          4.95,
          4.95,
          4.15,
          4.15,
          4.95,
          4.95,
          4.95,
          4.95,
          4.95,
          4.95,
          4.95,
          4.95,
          4.95,
          4.95,
          3.75,
          4.95,
          4.95,
          4.95,
          4.95,
          4.95,
          4.95,
          4.95,
          4.95,
          4.95,
          4.95,
          4.95,
          4.95,
          4.95,
          4.15,
          4.95,
          4.95,
          4.95,
          4.95,
          4.15,
          4.95,
          4.95,
          4.95,
          4.15,
          4.95,
          4.95,
          4.95,
          4.95,
          4.95,
          4.95,
          4.95,
          4.95,
          4.95,
          4.95,
          4.95,
          4.95,
          4.95,
          4.95,
          4.95,
          4.95,
          4.95,
          4.95,
          4.15,
          4.95,
          4.95,
          4.95,
          4.95,
          4.95,
          4.95,
          4.95,
          4.95,
          4.95,
          4.95,
          4.95,
          4.95,
          4.95,
          4.15,
          4.95,
          4.95,
          4.95,
          4.95,
          4.95,
          4.95,
          4.95,
          4.95,
          4.95,
          4.95,
          4.95,
          4.95,
          4.15,
          4.95,
          4.95,
          4.95,
          4.15,
          4.95,
          4.95,
          4.15,
          4.95,
          4.95,
          4.95,
          4.95,
          4.95,
          4.95,
          4.95,
          4.95,
          4.15,
          4.95,
          4.15,
          4.95,
          4.95,
          4.95,
          4.95,
          4.95,
          4.95,
          4.95,
          4.95,
          4.95,
          4.95,
          4.95,
          4.95,
          4.95,
          4.95,
          4.95,
          4.95,
          4.95,
          4.95,
          4.95,
          4.95,
          4.95,
          4.95,
          4.95,
          4.15,
          4.95,
          4.95,
          4.95,
          4.95,
          4.95,
          4.95,
          4.95,
          4.95,
          4.95,
          4.95,
          4.15,
          4.95,
          3.75,
          4.95,
          4.95,
          4.95,
          4.95,
          4.95,
          4.95,
          4.95,
          4.95,
          4.15,
          4.95,
          4.15,
          4.95,
          4.95,
          4.95,
          4.95,
          4.95,
          4.95,
          4.95,
          4.15,
          4.95,
          4.95,
          4.95,
          4.95,
          4.95,
          4.95,
          4.95,
          4.95,
          4.95,
          4.95,
          4.15,
          4.95,
          4.95,
          4.95,
          4.95,
          4.95,
          4.15,
          4.95,
          4.95,
          4.95,
          4.95,
          4.95,
          4.95,
          4.95,
          4.95,
          4.95,
          4.95,
          4.15,
          4.95,
          4.95,
          4.15,
          4.95,
          4.95,
          4.95,
          4.95,
          4.95,
          4.95,
          4.95,
          4.95,
          4.95,
          4.15,
          4.15,
          4.95,
          4.95,
          4.95,
          4.95,
          4.95,
          4.95,
          4.95,
          4.95,
          4.95,
          4.95,
          4.95,
          4.95,
          4.95,
          4.95,
          4.95,
          4.95,
          4.95,
          4.95,
          4.95,
          4.95,
          4.95,
          4.95,
          4.15,
          4.95,
          4.95,
          4.95,
          4.95,
          4.95,
          4.15,
          4.95,
          4.95,
          4.95,
          4.95,
          4.95,
          4.95,
          4.15,
          4.95,
          4.95,
          4.95,
          4.95,
          4.95,
          4.95,
          4.95,
          4.95,
          4.95,
          4.95,
          4.95,
          4.95,
          4.95,
          4.95,
          4.95,
          4.95,
          4.95,
          4.95,
          4.95,
          4.95,
          4.95,
          4.95,
          4.95,
          4.95,
          4.95,
          4.95,
          4.95,
          4.95,
          4.15,
          4.95,
          4.95,
          4.95,
          4.15,
          4.95,
          4.95,
          4.95,
          4.95,
          4.95,
          4.95,
          4.95,
          4.95,
          4.95,
          4.95,
          4.95,
          4.95,
          4.95,
          4.95,
          4.95,
          4.95,
          4.95,
          4.95,
          4.95,
          4.15,
          4.95,
          4.15,
          4.95,
          4.95,
          4.95,
          4.95,
          4.95,
          4.95,
          4.15,
          4.95,
          4.95,
          4.95,
          4.95,
          4.15,
          4.95,
          4.95,
          4.95,
          4.95,
          4.95,
          4.95,
          4.95,
          4.95,
          4.95,
          4.95,
          4.95,
          4.95,
          4.95,
          4.15,
          4.15,
          4.95,
          4.95,
          4.15,
          4.95,
          4.95,
          4.95,
          4.95,
          4.15,
          4.95,
          4.15,
          4.95,
          4.95,
          4.95,
          4.95,
          4.95,
          4.95,
          4.95,
          4.95,
          4.95,
          4.95,
          4.15,
          4.95,
          4.95,
          4.95,
          4.95,
          4.95,
          4.95,
          4.95,
          4.95,
          4.95,
          4.95,
          4.95,
          4.95,
          4.95,
          4.95,
          4.95,
          4.95,
          4.95,
          4.95,
          4.95,
          4.95,
          4.95,
          4.95,
          4.95,
          4.95,
          4.95,
          4.95,
          4.95,
          4.95,
          4.95,
          4.95,
          4.95,
          4.95,
          4.95,
          4.95,
          4.95,
          4.95,
          4.95,
          4.95,
          4.15,
          4.15,
          4.95,
          4.95,
          4.95,
          4.15,
          4.95,
          4.95,
          4.95,
          4.95,
          4.95,
          4.95,
          4.95,
          4.95,
          4.95,
          4.95,
          4.95,
          4.95,
          4.95,
          4.95,
          4.95,
          4.95,
          4.95,
          4.95,
          4.95,
          4.95,
          4.95,
          4.95,
          4.95,
          4.95,
          4.95,
          4.95,
          4.95,
          4.95,
          4.95,
          4.95,
          4.95,
          4.15,
          4.95,
          4.95,
          4.95,
          4.95,
          4.95,
          4.15,
          4.95,
          4.95,
          4.95,
          4.95,
          4.95,
          4.95,
          4.95,
          4.95,
          4.95,
          4.95,
          4.95,
          4.95,
          4.15,
          4.95,
          4.95,
          4.95,
          4.95,
          4.95,
          4.95,
          4.95,
          4.95,
          4.95,
          4.95,
          4.95,
          4.95,
          4.95,
          4.95,
          4.95,
          4.95,
          4.95,
          4.15,
          4.95,
          4.95,
          4.95,
          3.75,
          4.95,
          4.95,
          4.95,
          4.95,
          4.95,
          4.15,
          4.95,
          4.95,
          4.95,
          4.95,
          4.95,
          4.95,
          4.95,
          4.95,
          4.95,
          4.95,
          4.95,
          4.95,
          4.95,
          4.95,
          4.95,
          4.95,
          4.95,
          4.95,
          4.15,
          4.95,
          4.95,
          4.95,
          4.95,
          4.95,
          4.95,
          4.95,
          4.95,
          4.95,
          4.95,
          4.95,
          4.95,
          4.95,
          4.95,
          4.95,
          4.95,
          4.95,
          4.95,
          4.95,
          4.95,
          4.95,
          4.95,
          4.95,
          4.95,
          4.95,
          4.95,
          4.95,
          4.95,
          4.95,
          4.95,
          4.95,
          4.95,
          4.15,
          4.95,
          4.95,
          4.95,
          4.95,
          4.15,
          4.95,
          4.95,
          4.95,
          4.95,
          4.95,
          4.15,
          4.95,
          4.95,
          4.95,
          4.95,
          4.95,
          4.95,
          4.15,
          4.95,
          4.95,
          4.15,
          4.95,
          4.95,
          4.95,
          4.95,
          4.95,
          4.95,
          4.95,
          4.95,
          4.15,
          4.95,
          4.95,
          4.95,
          4.95,
          4.15,
          4.15,
          4.95,
          4.95,
          4.95,
          4.95,
          4.95,
          4.95,
          4.95,
          4.95,
          4.95,
          4.95,
          4.95,
          4.95,
          4.95,
          4.95,
          4.95,
          4.95,
          4.95,
          4.95,
          4.95,
          4.95,
          4.95,
          4.95,
          4.95,
          4.95,
          4.95,
          4.15,
          4.95,
          4.95,
          4.95,
          4.95,
          4.95,
          4.95,
          4.95,
          4.95,
          4.95,
          4.15,
          4.95,
          4.95,
          4.95,
          4.95,
          4.95,
          4.95,
          4.95,
          4.95,
          4.95,
          4.15,
          4.95,
          4.95,
          4.95,
          4.95,
          4.95,
          4.15,
          4.15,
          4.95,
          4.95,
          4.95,
          4.3,
          4.95,
          4.15,
          4.95,
          4.95,
          4.95,
          4.95,
          4.95,
          4.95,
          4.95,
          4.95,
          4.95,
          4.95,
          4.95,
          4.95,
          4.95,
          4.95,
          4.95,
          4.95,
          4.95,
          4.95,
          4.95,
          4.95,
          4.15,
          4.95,
          4.95,
          4.95,
          4.95,
          4.95,
          4.95,
          4.15,
          4.95,
          4.95,
          4.95,
          4.95,
          4.95,
          4.95,
          4.95,
          4.95,
          4.95,
          4.95,
          4.95,
          4.95,
          4.95,
          4.95,
          4.95,
          4.95,
          4.95,
          4.95,
          4.95,
          4.95,
          4.95,
          4.95,
          4.95,
          4.95,
          4.95,
          4.95,
          4.95,
          4.95,
          4.95,
          4.95,
          4.15,
          4.95,
          4.95,
          4.15,
          4.95,
          4.95,
          4.95,
          4.95,
          4.95,
          4.95,
          4.95,
          4.95,
          4.95,
          4.95,
          4.95,
          4.95,
          4.95,
          4.95,
          4.95,
          4.95,
          4.95,
          4.95,
          4.95,
          4.95,
          4.15,
          4.95,
          4.95,
          4.95,
          4.95,
          4.95,
          4.95,
          4.95,
          4.95,
          4.95,
          4.95,
          4.95,
          4.95,
          4.95,
          4.95,
          4.95,
          4.95,
          4.95,
          4.95,
          4.95,
          4.95,
          4.95,
          4.15,
          4.95,
          4.95,
          4.95,
          4.95,
          4.95,
          4.95,
          4.95,
          4.95,
          4.95,
          4.95,
          4.95,
          4.95,
          4.95,
          4.95,
          4.95,
          4.95,
          4.95,
          4.95,
          4.95,
          4.95,
          4.95,
          4.95,
          4.95,
          4.95,
          4.95,
          4.95,
          4.95,
          4.95,
          4.95,
          4.95,
          4.15,
          4.95,
          4.95,
          4.95,
          4.15,
          4.95,
          4.95,
          4.95,
          4.95,
          4.95,
          4.95,
          4.95,
          4.15,
          4.95,
          4.95,
          4.95,
          4.95,
          4.95,
          4.95,
          4.95,
          4.95,
          4.95,
          4.95,
          4.95,
          4.95,
          4.95,
          4.95,
          4.95,
          4.95,
          4.95,
          4.95,
          4.95,
          4.95,
          4.95,
          4.95,
          4.95,
          4.95,
          4.95,
          4.95,
          4.95,
          4.95,
          4.95,
          4.95,
          4.95,
          4.95,
          4.95,
          4.95,
          4.95,
          4.15,
          4.95,
          4.95,
          4.95,
          4.95,
          4.95,
          4.95,
          4.95,
          4.95,
          4.95,
          4.95,
          4.95,
          4.95,
          4.95,
          4.95,
          4.95,
          4.95,
          4.95,
          4.95,
          4.95,
          4.15,
          4.95,
          4.95,
          4.95,
          4.95,
          4.95,
          4.95,
          4.95,
          4.95,
          4.95,
          4.95,
          4.95,
          4.15,
          4.95,
          4.95,
          4.95,
          4.95,
          4.95,
          4.95,
          4.95,
          4.95,
          4.95,
          4.95,
          4.95,
          4.95,
          4.95,
          4.15,
          4.95,
          4.95,
          4.95,
          4.95,
          4.95,
          4.95,
          4.95,
          4.95,
          4.95,
          4.95,
          4.95,
          4.95,
          4.95,
          4.95,
          4.95,
          4.95,
          4.95,
          4.95,
          4.95,
          4.95,
          4.95,
          4.95,
          4.95,
          4.15,
          4.95,
          4.95,
          4.95,
          4.95,
          4.95,
          4.95,
          4.95,
          4.95,
          4.95,
          4.95,
          4.95,
          4.95,
          4.95,
          4.95,
          4.95,
          4.95,
          4.95,
          4.95,
          4.95,
          4.95,
          4.95,
          10.79,
          4.95,
          4.95,
          4.95,
          4.95,
          4.95,
          4.95,
          4.95,
          4.95,
          4.95,
          4.95,
          4.95,
          4.95,
          4.95,
          4.95,
          4.95,
          4.95,
          4.95,
          4.95,
          4.95,
          4.95,
          4.95,
          4.95,
          4.95,
          4.95,
          4.95,
          4.95,
          4.95,
          4.95,
          4.95,
          4.95,
          4.95,
          4.95,
          4.95,
          4.95,
          4.95,
          4.95,
          4.95,
          4.95,
          4.95,
          4.95,
          4.95,
          4.95,
          4.95,
          4.95,
          4.3,
          4.95,
          4.95,
          4.95,
          4.95,
          4.95,
          4.95,
          4.95,
          4.95,
          4.95,
          4.95,
          4.95,
          4.95,
          4.95,
          4.95,
          4.95,
          4.95,
          4.95,
          4.95,
          4.95,
          4.95,
          4.95,
          4.95,
          4.95,
          4.95,
          4.95,
          4.95,
          4.95,
          4.95,
          4.95,
          4.95,
          4.95,
          4.95,
          4.95,
          4.95,
          4.95,
          4.15,
          4.95,
          4.95,
          4.95,
          4.95,
          4.95,
          4.95,
          4.95,
          4.95,
          4.95,
          4.95,
          4.95,
          4.95,
          4.95,
          4.95,
          4.95,
          4.95,
          4.95,
          4.95,
          4.95,
          4.95,
          4.95,
          4.95,
          4.95,
          4.95,
          4.95,
          4.95,
          4.95,
          4.95,
          4.95,
          4.15,
          4.95,
          4.95,
          4.95,
          4.95,
          4.95,
          4.95,
          4.95,
          4.95,
          4.95,
          4.95,
          4.95,
          4.95,
          4.15,
          4.15,
          4.95,
          10.79,
          4.95,
          4.95,
          4.95,
          4.95,
          4.15,
          4.95,
          4.95,
          4.95,
          4.95,
          4.95,
          4.95,
          4.95,
          10.79,
          4.95,
          4.95,
          4.95,
          4.95,
          4.95,
          4.95,
          4.95,
          4.95,
          4.95,
          4.95,
          4.95,
          4.95,
          4.95,
          4.95,
          4.95,
          4.95,
          4.95,
          4.95,
          4.95
         ],
         "yaxis": "y"
        },
        {
         "hovertemplate": "Country=France<br>Quantity=%{x}<br>UnitPrice=%{y}<extra></extra>",
         "legendgroup": "France",
         "marker": {
          "color": "#EF553B",
          "symbol": "circle"
         },
         "mode": "markers",
         "name": "France",
         "showlegend": true,
         "type": "scattergl",
         "x": [
          5,
          5,
          10,
          12,
          2,
          12,
          4,
          4,
          4,
          4,
          12,
          8,
          4,
          4,
          4,
          4,
          4,
          4,
          4,
          4,
          4,
          8
         ],
         "xaxis": "x",
         "y": [
          4.65,
          4.65,
          4.95,
          4.95,
          4.95,
          4.95,
          4.95,
          4.95,
          4.95,
          4.95,
          4.95,
          4.95,
          4.95,
          4.95,
          4.95,
          4.95,
          4.95,
          4.95,
          4.95,
          4.95,
          4.95,
          4.95
         ],
         "yaxis": "y"
        },
        {
         "hovertemplate": "Country=Spain<br>Quantity=%{x}<br>UnitPrice=%{y}<extra></extra>",
         "legendgroup": "Spain",
         "marker": {
          "color": "#00cc96",
          "symbol": "circle"
         },
         "mode": "markers",
         "name": "Spain",
         "showlegend": true,
         "type": "scattergl",
         "x": [
          1,
          5,
          5,
          8,
          4,
          3,
          4,
          8
         ],
         "xaxis": "x",
         "y": [
          4.65,
          4.65,
          4.65,
          4.95,
          4.95,
          4.95,
          4.95,
          4.95
         ],
         "yaxis": "y"
        },
        {
         "hovertemplate": "Country=Japan<br>Quantity=%{x}<br>UnitPrice=%{y}<extra></extra>",
         "legendgroup": "Japan",
         "marker": {
          "color": "#ab63fa",
          "symbol": "circle"
         },
         "mode": "markers",
         "name": "Japan",
         "showlegend": true,
         "type": "scattergl",
         "x": [
          20,
          100,
          50
         ],
         "xaxis": "x",
         "y": [
          4.65,
          3.75,
          4.15
         ],
         "yaxis": "y"
        },
        {
         "hovertemplate": "Country=Cyprus<br>Quantity=%{x}<br>UnitPrice=%{y}<extra></extra>",
         "legendgroup": "Cyprus",
         "marker": {
          "color": "#FFA15A",
          "symbol": "circle"
         },
         "mode": "markers",
         "name": "Cyprus",
         "showlegend": true,
         "type": "scattergl",
         "x": [
          1,
          5,
          1
         ],
         "xaxis": "x",
         "y": [
          4.65,
          4.65,
          4.95
         ],
         "yaxis": "y"
        },
        {
         "hovertemplate": "Country=Australia<br>Quantity=%{x}<br>UnitPrice=%{y}<extra></extra>",
         "legendgroup": "Australia",
         "marker": {
          "color": "#19d3f3",
          "symbol": "circle"
         },
         "mode": "markers",
         "name": "Australia",
         "showlegend": true,
         "type": "scattergl",
         "x": [
          5,
          4,
          12,
          100,
          24,
          8,
          100,
          12
         ],
         "xaxis": "x",
         "y": [
          4.65,
          4.95,
          4.95,
          4.15,
          4.95,
          4.95,
          4.15,
          4.95
         ],
         "yaxis": "y"
        },
        {
         "hovertemplate": "Country=Germany<br>Quantity=%{x}<br>UnitPrice=%{y}<extra></extra>",
         "legendgroup": "Germany",
         "marker": {
          "color": "#FF6692",
          "symbol": "circle"
         },
         "mode": "markers",
         "name": "Germany",
         "showlegend": true,
         "type": "scattergl",
         "x": [
          10,
          4,
          4,
          8,
          8
         ],
         "xaxis": "x",
         "y": [
          4.65,
          4.95,
          4.95,
          4.95,
          4.95
         ],
         "yaxis": "y"
        },
        {
         "hovertemplate": "Country=Lebanon<br>Quantity=%{x}<br>UnitPrice=%{y}<extra></extra>",
         "legendgroup": "Lebanon",
         "marker": {
          "color": "#B6E880",
          "symbol": "circle"
         },
         "mode": "markers",
         "name": "Lebanon",
         "showlegend": true,
         "type": "scattergl",
         "x": [
          15
         ],
         "xaxis": "x",
         "y": [
          4.65
         ],
         "yaxis": "y"
        },
        {
         "hovertemplate": "Country=Finland<br>Quantity=%{x}<br>UnitPrice=%{y}<extra></extra>",
         "legendgroup": "Finland",
         "marker": {
          "color": "#FF97FF",
          "symbol": "circle"
         },
         "mode": "markers",
         "name": "Finland",
         "showlegend": true,
         "type": "scattergl",
         "x": [
          4,
          8
         ],
         "xaxis": "x",
         "y": [
          4.95,
          4.95
         ],
         "yaxis": "y"
        },
        {
         "hovertemplate": "Country=Switzerland<br>Quantity=%{x}<br>UnitPrice=%{y}<extra></extra>",
         "legendgroup": "Switzerland",
         "marker": {
          "color": "#FECB52",
          "symbol": "circle"
         },
         "mode": "markers",
         "name": "Switzerland",
         "showlegend": true,
         "type": "scattergl",
         "x": [
          8,
          4,
          12,
          50,
          12
         ],
         "xaxis": "x",
         "y": [
          4.95,
          4.95,
          4.95,
          4.15,
          4.95
         ],
         "yaxis": "y"
        },
        {
         "hovertemplate": "Country=EIRE<br>Quantity=%{x}<br>UnitPrice=%{y}<extra></extra>",
         "legendgroup": "EIRE",
         "marker": {
          "color": "#636efa",
          "symbol": "circle"
         },
         "mode": "markers",
         "name": "EIRE",
         "showlegend": true,
         "type": "scattergl",
         "x": [
          4,
          50,
          4,
          8,
          50,
          4,
          72,
          4,
          72,
          4,
          3,
          4,
          4,
          4,
          8,
          4,
          4,
          96,
          4
         ],
         "xaxis": "x",
         "y": [
          4.95,
          4.15,
          4.95,
          4.95,
          4.15,
          4.95,
          4.15,
          4.95,
          4.15,
          4.95,
          4.95,
          4.95,
          4.95,
          4.95,
          4.95,
          4.95,
          4.95,
          4.15,
          4.95
         ],
         "yaxis": "y"
        },
        {
         "hovertemplate": "Country=Belgium<br>Quantity=%{x}<br>UnitPrice=%{y}<extra></extra>",
         "legendgroup": "Belgium",
         "marker": {
          "color": "#EF553B",
          "symbol": "circle"
         },
         "mode": "markers",
         "name": "Belgium",
         "showlegend": true,
         "type": "scattergl",
         "x": [
          4,
          4
         ],
         "xaxis": "x",
         "y": [
          4.95,
          4.95
         ],
         "yaxis": "y"
        },
        {
         "hovertemplate": "Country=Austria<br>Quantity=%{x}<br>UnitPrice=%{y}<extra></extra>",
         "legendgroup": "Austria",
         "marker": {
          "color": "#00cc96",
          "symbol": "circle"
         },
         "mode": "markers",
         "name": "Austria",
         "showlegend": true,
         "type": "scattergl",
         "x": [
          8
         ],
         "xaxis": "x",
         "y": [
          4.95
         ],
         "yaxis": "y"
        },
        {
         "hovertemplate": "Country=Channel Islands<br>Quantity=%{x}<br>UnitPrice=%{y}<extra></extra>",
         "legendgroup": "Channel Islands",
         "marker": {
          "color": "#ab63fa",
          "symbol": "circle"
         },
         "mode": "markers",
         "name": "Channel Islands",
         "showlegend": true,
         "type": "scattergl",
         "x": [
          12,
          4,
          24
         ],
         "xaxis": "x",
         "y": [
          4.95,
          4.95,
          4.95
         ],
         "yaxis": "y"
        },
        {
         "hovertemplate": "Country=Denmark<br>Quantity=%{x}<br>UnitPrice=%{y}<extra></extra>",
         "legendgroup": "Denmark",
         "marker": {
          "color": "#FFA15A",
          "symbol": "circle"
         },
         "mode": "markers",
         "name": "Denmark",
         "showlegend": true,
         "type": "scattergl",
         "x": [
          12
         ],
         "xaxis": "x",
         "y": [
          4.95
         ],
         "yaxis": "y"
        },
        {
         "hovertemplate": "Country=Singapore<br>Quantity=%{x}<br>UnitPrice=%{y}<extra></extra>",
         "legendgroup": "Singapore",
         "marker": {
          "color": "#19d3f3",
          "symbol": "circle"
         },
         "mode": "markers",
         "name": "Singapore",
         "showlegend": true,
         "type": "scattergl",
         "x": [
          8
         ],
         "xaxis": "x",
         "y": [
          4.95
         ],
         "yaxis": "y"
        },
        {
         "hovertemplate": "Country=Netherlands<br>Quantity=%{x}<br>UnitPrice=%{y}<extra></extra>",
         "legendgroup": "Netherlands",
         "marker": {
          "color": "#FF6692",
          "symbol": "circle"
         },
         "mode": "markers",
         "name": "Netherlands",
         "showlegend": true,
         "type": "scattergl",
         "x": [
          50
         ],
         "xaxis": "x",
         "y": [
          4.15
         ],
         "yaxis": "y"
        },
        {
         "hovertemplate": "Country=Norway<br>Quantity=%{x}<br>UnitPrice=%{y}<extra></extra>",
         "legendgroup": "Norway",
         "marker": {
          "color": "#B6E880",
          "symbol": "circle"
         },
         "mode": "markers",
         "name": "Norway",
         "showlegend": true,
         "type": "scattergl",
         "x": [
          4,
          8
         ],
         "xaxis": "x",
         "y": [
          4.95,
          4.95
         ],
         "yaxis": "y"
        },
        {
         "hovertemplate": "Country=Israel<br>Quantity=%{x}<br>UnitPrice=%{y}<extra></extra>",
         "legendgroup": "Israel",
         "marker": {
          "color": "#FF97FF",
          "symbol": "circle"
         },
         "mode": "markers",
         "name": "Israel",
         "showlegend": true,
         "type": "scattergl",
         "x": [
          1
         ],
         "xaxis": "x",
         "y": [
          4.95
         ],
         "yaxis": "y"
        },
        {
         "hovertemplate": "Country=South Africa<br>Quantity=%{x}<br>UnitPrice=%{y}<extra></extra>",
         "legendgroup": "South Africa",
         "marker": {
          "color": "#FECB52",
          "symbol": "circle"
         },
         "mode": "markers",
         "name": "South Africa",
         "showlegend": true,
         "type": "scattergl",
         "x": [
          4
         ],
         "xaxis": "x",
         "y": [
          4.95
         ],
         "yaxis": "y"
        }
       ],
       "layout": {
        "legend": {
         "title": {
          "text": "Country"
         },
         "tracegroupgap": 0
        },
        "margin": {
         "t": 60
        },
        "template": {
         "data": {
          "bar": [
           {
            "error_x": {
             "color": "#2a3f5f"
            },
            "error_y": {
             "color": "#2a3f5f"
            },
            "marker": {
             "line": {
              "color": "#E5ECF6",
              "width": 0.5
             },
             "pattern": {
              "fillmode": "overlay",
              "size": 10,
              "solidity": 0.2
             }
            },
            "type": "bar"
           }
          ],
          "barpolar": [
           {
            "marker": {
             "line": {
              "color": "#E5ECF6",
              "width": 0.5
             },
             "pattern": {
              "fillmode": "overlay",
              "size": 10,
              "solidity": 0.2
             }
            },
            "type": "barpolar"
           }
          ],
          "carpet": [
           {
            "aaxis": {
             "endlinecolor": "#2a3f5f",
             "gridcolor": "white",
             "linecolor": "white",
             "minorgridcolor": "white",
             "startlinecolor": "#2a3f5f"
            },
            "baxis": {
             "endlinecolor": "#2a3f5f",
             "gridcolor": "white",
             "linecolor": "white",
             "minorgridcolor": "white",
             "startlinecolor": "#2a3f5f"
            },
            "type": "carpet"
           }
          ],
          "choropleth": [
           {
            "colorbar": {
             "outlinewidth": 0,
             "ticks": ""
            },
            "type": "choropleth"
           }
          ],
          "contour": [
           {
            "colorbar": {
             "outlinewidth": 0,
             "ticks": ""
            },
            "colorscale": [
             [
              0,
              "#0d0887"
             ],
             [
              0.1111111111111111,
              "#46039f"
             ],
             [
              0.2222222222222222,
              "#7201a8"
             ],
             [
              0.3333333333333333,
              "#9c179e"
             ],
             [
              0.4444444444444444,
              "#bd3786"
             ],
             [
              0.5555555555555556,
              "#d8576b"
             ],
             [
              0.6666666666666666,
              "#ed7953"
             ],
             [
              0.7777777777777778,
              "#fb9f3a"
             ],
             [
              0.8888888888888888,
              "#fdca26"
             ],
             [
              1,
              "#f0f921"
             ]
            ],
            "type": "contour"
           }
          ],
          "contourcarpet": [
           {
            "colorbar": {
             "outlinewidth": 0,
             "ticks": ""
            },
            "type": "contourcarpet"
           }
          ],
          "heatmap": [
           {
            "colorbar": {
             "outlinewidth": 0,
             "ticks": ""
            },
            "colorscale": [
             [
              0,
              "#0d0887"
             ],
             [
              0.1111111111111111,
              "#46039f"
             ],
             [
              0.2222222222222222,
              "#7201a8"
             ],
             [
              0.3333333333333333,
              "#9c179e"
             ],
             [
              0.4444444444444444,
              "#bd3786"
             ],
             [
              0.5555555555555556,
              "#d8576b"
             ],
             [
              0.6666666666666666,
              "#ed7953"
             ],
             [
              0.7777777777777778,
              "#fb9f3a"
             ],
             [
              0.8888888888888888,
              "#fdca26"
             ],
             [
              1,
              "#f0f921"
             ]
            ],
            "type": "heatmap"
           }
          ],
          "heatmapgl": [
           {
            "colorbar": {
             "outlinewidth": 0,
             "ticks": ""
            },
            "colorscale": [
             [
              0,
              "#0d0887"
             ],
             [
              0.1111111111111111,
              "#46039f"
             ],
             [
              0.2222222222222222,
              "#7201a8"
             ],
             [
              0.3333333333333333,
              "#9c179e"
             ],
             [
              0.4444444444444444,
              "#bd3786"
             ],
             [
              0.5555555555555556,
              "#d8576b"
             ],
             [
              0.6666666666666666,
              "#ed7953"
             ],
             [
              0.7777777777777778,
              "#fb9f3a"
             ],
             [
              0.8888888888888888,
              "#fdca26"
             ],
             [
              1,
              "#f0f921"
             ]
            ],
            "type": "heatmapgl"
           }
          ],
          "histogram": [
           {
            "marker": {
             "pattern": {
              "fillmode": "overlay",
              "size": 10,
              "solidity": 0.2
             }
            },
            "type": "histogram"
           }
          ],
          "histogram2d": [
           {
            "colorbar": {
             "outlinewidth": 0,
             "ticks": ""
            },
            "colorscale": [
             [
              0,
              "#0d0887"
             ],
             [
              0.1111111111111111,
              "#46039f"
             ],
             [
              0.2222222222222222,
              "#7201a8"
             ],
             [
              0.3333333333333333,
              "#9c179e"
             ],
             [
              0.4444444444444444,
              "#bd3786"
             ],
             [
              0.5555555555555556,
              "#d8576b"
             ],
             [
              0.6666666666666666,
              "#ed7953"
             ],
             [
              0.7777777777777778,
              "#fb9f3a"
             ],
             [
              0.8888888888888888,
              "#fdca26"
             ],
             [
              1,
              "#f0f921"
             ]
            ],
            "type": "histogram2d"
           }
          ],
          "histogram2dcontour": [
           {
            "colorbar": {
             "outlinewidth": 0,
             "ticks": ""
            },
            "colorscale": [
             [
              0,
              "#0d0887"
             ],
             [
              0.1111111111111111,
              "#46039f"
             ],
             [
              0.2222222222222222,
              "#7201a8"
             ],
             [
              0.3333333333333333,
              "#9c179e"
             ],
             [
              0.4444444444444444,
              "#bd3786"
             ],
             [
              0.5555555555555556,
              "#d8576b"
             ],
             [
              0.6666666666666666,
              "#ed7953"
             ],
             [
              0.7777777777777778,
              "#fb9f3a"
             ],
             [
              0.8888888888888888,
              "#fdca26"
             ],
             [
              1,
              "#f0f921"
             ]
            ],
            "type": "histogram2dcontour"
           }
          ],
          "mesh3d": [
           {
            "colorbar": {
             "outlinewidth": 0,
             "ticks": ""
            },
            "type": "mesh3d"
           }
          ],
          "parcoords": [
           {
            "line": {
             "colorbar": {
              "outlinewidth": 0,
              "ticks": ""
             }
            },
            "type": "parcoords"
           }
          ],
          "pie": [
           {
            "automargin": true,
            "type": "pie"
           }
          ],
          "scatter": [
           {
            "fillpattern": {
             "fillmode": "overlay",
             "size": 10,
             "solidity": 0.2
            },
            "type": "scatter"
           }
          ],
          "scatter3d": [
           {
            "line": {
             "colorbar": {
              "outlinewidth": 0,
              "ticks": ""
             }
            },
            "marker": {
             "colorbar": {
              "outlinewidth": 0,
              "ticks": ""
             }
            },
            "type": "scatter3d"
           }
          ],
          "scattercarpet": [
           {
            "marker": {
             "colorbar": {
              "outlinewidth": 0,
              "ticks": ""
             }
            },
            "type": "scattercarpet"
           }
          ],
          "scattergeo": [
           {
            "marker": {
             "colorbar": {
              "outlinewidth": 0,
              "ticks": ""
             }
            },
            "type": "scattergeo"
           }
          ],
          "scattergl": [
           {
            "marker": {
             "colorbar": {
              "outlinewidth": 0,
              "ticks": ""
             }
            },
            "type": "scattergl"
           }
          ],
          "scattermapbox": [
           {
            "marker": {
             "colorbar": {
              "outlinewidth": 0,
              "ticks": ""
             }
            },
            "type": "scattermapbox"
           }
          ],
          "scatterpolar": [
           {
            "marker": {
             "colorbar": {
              "outlinewidth": 0,
              "ticks": ""
             }
            },
            "type": "scatterpolar"
           }
          ],
          "scatterpolargl": [
           {
            "marker": {
             "colorbar": {
              "outlinewidth": 0,
              "ticks": ""
             }
            },
            "type": "scatterpolargl"
           }
          ],
          "scatterternary": [
           {
            "marker": {
             "colorbar": {
              "outlinewidth": 0,
              "ticks": ""
             }
            },
            "type": "scatterternary"
           }
          ],
          "surface": [
           {
            "colorbar": {
             "outlinewidth": 0,
             "ticks": ""
            },
            "colorscale": [
             [
              0,
              "#0d0887"
             ],
             [
              0.1111111111111111,
              "#46039f"
             ],
             [
              0.2222222222222222,
              "#7201a8"
             ],
             [
              0.3333333333333333,
              "#9c179e"
             ],
             [
              0.4444444444444444,
              "#bd3786"
             ],
             [
              0.5555555555555556,
              "#d8576b"
             ],
             [
              0.6666666666666666,
              "#ed7953"
             ],
             [
              0.7777777777777778,
              "#fb9f3a"
             ],
             [
              0.8888888888888888,
              "#fdca26"
             ],
             [
              1,
              "#f0f921"
             ]
            ],
            "type": "surface"
           }
          ],
          "table": [
           {
            "cells": {
             "fill": {
              "color": "#EBF0F8"
             },
             "line": {
              "color": "white"
             }
            },
            "header": {
             "fill": {
              "color": "#C8D4E3"
             },
             "line": {
              "color": "white"
             }
            },
            "type": "table"
           }
          ]
         },
         "layout": {
          "annotationdefaults": {
           "arrowcolor": "#2a3f5f",
           "arrowhead": 0,
           "arrowwidth": 1
          },
          "autotypenumbers": "strict",
          "coloraxis": {
           "colorbar": {
            "outlinewidth": 0,
            "ticks": ""
           }
          },
          "colorscale": {
           "diverging": [
            [
             0,
             "#8e0152"
            ],
            [
             0.1,
             "#c51b7d"
            ],
            [
             0.2,
             "#de77ae"
            ],
            [
             0.3,
             "#f1b6da"
            ],
            [
             0.4,
             "#fde0ef"
            ],
            [
             0.5,
             "#f7f7f7"
            ],
            [
             0.6,
             "#e6f5d0"
            ],
            [
             0.7,
             "#b8e186"
            ],
            [
             0.8,
             "#7fbc41"
            ],
            [
             0.9,
             "#4d9221"
            ],
            [
             1,
             "#276419"
            ]
           ],
           "sequential": [
            [
             0,
             "#0d0887"
            ],
            [
             0.1111111111111111,
             "#46039f"
            ],
            [
             0.2222222222222222,
             "#7201a8"
            ],
            [
             0.3333333333333333,
             "#9c179e"
            ],
            [
             0.4444444444444444,
             "#bd3786"
            ],
            [
             0.5555555555555556,
             "#d8576b"
            ],
            [
             0.6666666666666666,
             "#ed7953"
            ],
            [
             0.7777777777777778,
             "#fb9f3a"
            ],
            [
             0.8888888888888888,
             "#fdca26"
            ],
            [
             1,
             "#f0f921"
            ]
           ],
           "sequentialminus": [
            [
             0,
             "#0d0887"
            ],
            [
             0.1111111111111111,
             "#46039f"
            ],
            [
             0.2222222222222222,
             "#7201a8"
            ],
            [
             0.3333333333333333,
             "#9c179e"
            ],
            [
             0.4444444444444444,
             "#bd3786"
            ],
            [
             0.5555555555555556,
             "#d8576b"
            ],
            [
             0.6666666666666666,
             "#ed7953"
            ],
            [
             0.7777777777777778,
             "#fb9f3a"
            ],
            [
             0.8888888888888888,
             "#fdca26"
            ],
            [
             1,
             "#f0f921"
            ]
           ]
          },
          "colorway": [
           "#636efa",
           "#EF553B",
           "#00cc96",
           "#ab63fa",
           "#FFA15A",
           "#19d3f3",
           "#FF6692",
           "#B6E880",
           "#FF97FF",
           "#FECB52"
          ],
          "font": {
           "color": "#2a3f5f"
          },
          "geo": {
           "bgcolor": "white",
           "lakecolor": "white",
           "landcolor": "#E5ECF6",
           "showlakes": true,
           "showland": true,
           "subunitcolor": "white"
          },
          "hoverlabel": {
           "align": "left"
          },
          "hovermode": "closest",
          "mapbox": {
           "style": "light"
          },
          "paper_bgcolor": "white",
          "plot_bgcolor": "#E5ECF6",
          "polar": {
           "angularaxis": {
            "gridcolor": "white",
            "linecolor": "white",
            "ticks": ""
           },
           "bgcolor": "#E5ECF6",
           "radialaxis": {
            "gridcolor": "white",
            "linecolor": "white",
            "ticks": ""
           }
          },
          "scene": {
           "xaxis": {
            "backgroundcolor": "#E5ECF6",
            "gridcolor": "white",
            "gridwidth": 2,
            "linecolor": "white",
            "showbackground": true,
            "ticks": "",
            "zerolinecolor": "white"
           },
           "yaxis": {
            "backgroundcolor": "#E5ECF6",
            "gridcolor": "white",
            "gridwidth": 2,
            "linecolor": "white",
            "showbackground": true,
            "ticks": "",
            "zerolinecolor": "white"
           },
           "zaxis": {
            "backgroundcolor": "#E5ECF6",
            "gridcolor": "white",
            "gridwidth": 2,
            "linecolor": "white",
            "showbackground": true,
            "ticks": "",
            "zerolinecolor": "white"
           }
          },
          "shapedefaults": {
           "line": {
            "color": "#2a3f5f"
           }
          },
          "ternary": {
           "aaxis": {
            "gridcolor": "white",
            "linecolor": "white",
            "ticks": ""
           },
           "baxis": {
            "gridcolor": "white",
            "linecolor": "white",
            "ticks": ""
           },
           "bgcolor": "#E5ECF6",
           "caxis": {
            "gridcolor": "white",
            "linecolor": "white",
            "ticks": ""
           }
          },
          "title": {
           "x": 0.05
          },
          "xaxis": {
           "automargin": true,
           "gridcolor": "white",
           "linecolor": "white",
           "ticks": "",
           "title": {
            "standoff": 15
           },
           "zerolinecolor": "white",
           "zerolinewidth": 2
          },
          "yaxis": {
           "automargin": true,
           "gridcolor": "white",
           "linecolor": "white",
           "ticks": "",
           "title": {
            "standoff": 15
           },
           "zerolinecolor": "white",
           "zerolinewidth": 2
          }
         }
        },
        "xaxis": {
         "anchor": "y",
         "domain": [
          0,
          1
         ],
         "title": {
          "text": "Quantity"
         }
        },
        "yaxis": {
         "anchor": "x",
         "domain": [
          0,
          1
         ],
         "title": {
          "text": "UnitPrice"
         }
        }
       }
      },
      "text/html": [
       "<div>                            <div id=\"a81e1428-f42d-470e-8f03-b2c18168abb6\" class=\"plotly-graph-div\" style=\"height:525px; width:100%;\"></div>            <script type=\"text/javascript\">                require([\"plotly\"], function(Plotly) {                    window.PLOTLYENV=window.PLOTLYENV || {};                                    if (document.getElementById(\"a81e1428-f42d-470e-8f03-b2c18168abb6\")) {                    Plotly.newPlot(                        \"a81e1428-f42d-470e-8f03-b2c18168abb6\",                        [{\"hovertemplate\":\"Country=United Kingdom<br>Quantity=%{x}<br>UnitPrice=%{y}<extra></extra>\",\"legendgroup\":\"United Kingdom\",\"marker\":{\"color\":\"#636efa\",\"symbol\":\"circle\"},\"mode\":\"markers\",\"name\":\"United Kingdom\",\"showlegend\":true,\"x\":[5,2,1,5,1,5,50,5,1,50,5,5,3,5,5,10,1,1,3,60,5,50,3,15,5,4,1,6,3,6,15,3,5,5,4,5,10,1,4,5,5,10,11,2,5,5,5,6,1,50,1,1,3,50,5,5,5,2,10,100,2,5,5,6,4,50,1,6,12,1,5,1,6,2,3,4,4,30,5,2,100,8,3,1,4,5,1,4,20,1,100,4,12,5,2,8,5,4,6,4,50,4,4,4,4,4,12,4,8,1,20,5,2,4,4,4,4,4,5,5,4,12,5,50,16,4,4,2,1,2,6,4,4,1,8,2,8,2,3,4,2,4,12,4,4,4,4,50,1,2,4,4,1,50,8,12,1,1,4,8,4,24,4,12,4,20,5,2,12,2,4,2,150,4,2,4,4,8,4,4,50,4,6,60,2,50,4,4,4,6,6,4,4,24,4,24,3,1,1,1,2,10,100,8,4,4,8,2,1,2,4,6,2,5,1,36,8,4,12,1,4,4,8,4,50,12,8,2,4,4,50,2,5,50,4,1,12,2,2,1,6,6,4,12,12,1,2,2,2,2,8,4,2,5,8,1,1,12,3,8,4,4,7,3,4,50,50,4,2,8,4,4,4,4,4,4,16,100,16,5,3,5,8,3,2,2,4,4,12,4,4,50,4,4,8,4,50,4,1,4,50,2,4,4,4,12,2,4,4,4,4,12,4,16,4,4,15,12,8,50,8,4,7,5,4,4,4,12,3,4,12,4,8,50,6,2,4,3,2,4,9,1,4,4,4,5,60,8,8,4,60,4,4,50,12,8,4,4,12,1,4,4,50,4,100,8,4,6,4,4,4,5,4,4,18,10,4,4,3,4,1,2,4,1,3,2,12,8,50,8,4,8,4,4,3,6,6,4,4,50,4,50,8,12,8,3,3,8,1,8,100,6,60,3,1,1,4,10,20,4,100,12,2,4,4,2,1,8,4,24,4,50,25,4,12,8,2,150,12,4,5,3,1,4,4,1,8,4,50,8,4,50,12,4,16,4,4,1,3,12,5,50,150,2,1,1,1,16,8,4,12,4,8,8,2,1,4,4,6,1,5,4,4,16,10,50,4,4,4,1,1,60,4,4,4,3,12,8,50,2,8,4,4,8,4,4,4,4,4,4,36,4,4,2,4,8,4,12,8,8,1,4,4,4,8,12,8,50,8,4,8,50,4,24,8,24,1,12,4,1,3,2,4,3,20,1,20,2,3,2,12,100,4,50,2,4,4,12,8,5,50,12,4,8,4,150,8,4,8,8,4,8,4,8,3,3,10,8,4,50,50,4,3,50,4,3,1,8,50,4,50,5,6,2,6,14,12,8,12,3,1,100,4,3,4,4,8,4,4,2,4,4,2,1,8,4,4,4,8,1,4,6,4,4,8,4,2,12,8,4,4,1,4,4,3,2,8,8,4,2,60,50,1,6,4,50,12,1,1,16,5,3,12,4,1,4,4,8,8,2,3,12,6,8,10,5,6,5,2,2,2,4,8,3,8,8,4,50,4,4,4,3,16,50,1,4,9,8,20,4,8,4,8,4,4,12,50,1,8,1,4,2,24,6,8,5,12,5,1,8,4,2,1,8,150,4,24,4,100,8,2,8,3,4,50,16,1,2,12,8,4,4,4,12,8,4,1,4,2,1,4,8,20,50,8,1,1,8,3,1,16,4,2,4,4,1,10,8,4,8,1,4,4,8,4,8,8,8,4,1,11,12,8,4,5,4,50,8,8,4,6,50,1,8,12,8,10,50,8,2,12,12,4,4,200,12,3,50,2,12,4,4,4,4,4,12,150,4,4,8,2,50,50,2,12,8,12,8,4,4,4,8,4,4,8,8,5,8,4,8,3,1,8,4,1,4,8,2,50,8,1,3,2,4,4,4,12,2,50,12,2,4,8,24,16,10,8,24,60,1,2,4,5,24,60,150,4,24,4,100,4,50,8,4,2,2,6,8,4,4,4,12,8,4,8,4,8,4,12,2,3,8,50,12,2,20,16,12,4,50,3,4,8,8,4,4,4,4,2,4,4,4,1,16,4,1,6,12,2,12,8,4,1,12,8,12,3,8,8,8,50,2,3,150,2,8,5,3,3,4,2,4,2,16,4,8,20,4,12,6,2,2,8,16,50,4,4,2,4,8,4,4,4,4,8,4,8,8,1,7,4,4,20,4,7,16,50,12,4,6,12,10,4,1,8,4,16,2,12,8,12,2,8,3,8,2,12,4,4,3,4,4,6,2,6,8,4,50,3,4,4,50,4,2,4,2,6,4,4,100,4,1,8,4,12,8,4,1,1,4,24,2,12,18,4,8,6,8,8,4,4,5,2,2,2,8,4,8,4,12,6,4,3,4,8,50,4,4,4,4,4,1,2,20,2,2,1,2,10,4,2,2,4,2,4,50,8,3,4,8,4,1,8,4,4,4,2,150,4,7,1,2,2,3,7,4,4,4,4,4,4,10,7,4,4,12,4,5,1,3,2,4,8,4,2,1,4,4,4,4,7,15,4,4,4,50,4,8,4,1,4,4,3,4,4,4,4,4,5,8,4,5,2,4,2,2,4,3,4,4,8,4,8,4,4,4,4,4,4,3,4,4,8,8,1,4,4,4,3,8,18,3,2,4,8,4,4,4,4,4,4,1,16,4,5,3,6,6,2,1,2,8,100,4,5,4,2,2,4,1,8,3,12,1,3,1,1,12,4,8,4,2,1,4,10,2,12,4,5,12,8,4,1,4,8,4,24,2,5,2,4,1,4,1,3,4,4,2,3,1,3,12,4,8,2,8,3,4,1,24,12,2,4,3,2,1,3,3,50,1,4,3,1,4,12,4,2,4,2,4,16,150,150,1,6,12,8,4,1,50,4,1,4,4,4,2,6,3,1,4,4,6,4,4,7,10,8,6,3,1,12,2,4,3,5,8,1],\"xaxis\":\"x\",\"y\":[4.65,4.65,4.65,4.65,4.65,4.65,3.75,4.65,4.65,3.75,4.65,4.65,4.65,4.65,4.65,4.65,4.65,4.65,4.65,3.75,4.65,3.75,4.65,4.65,4.65,4.65,4.65,4.65,4.65,4.65,4.65,4.65,4.65,4.65,4.65,4.65,4.65,4.65,4.65,4.65,4.65,4.65,4.65,4.65,4.65,4.65,4.65,4.65,4.65,3.75,4.65,4.65,4.65,3.75,4.65,4.65,4.65,4.65,4.65,3.75,4.65,4.65,4.65,4.65,4.65,4.15,4.95,4.95,4.95,4.95,4.95,4.95,4.95,4.95,4.95,4.95,4.95,4.95,4.65,4.95,3.75,4.95,4.95,4.95,4.95,4.95,4.95,4.95,4.95,4.95,4.15,4.95,4.95,4.95,4.95,4.95,4.95,4.95,4.95,4.95,4.15,4.95,4.95,4.95,4.95,4.95,4.95,4.95,4.95,4.95,4.95,4.95,4.95,4.95,4.95,4.95,4.95,4.95,4.95,4.95,4.95,4.95,4.95,4.15,4.95,4.95,4.95,4.95,4.95,4.95,4.95,4.95,4.95,4.95,4.95,4.95,4.95,4.95,4.95,4.95,4.95,4.95,4.95,4.95,4.95,4.95,4.95,4.15,4.95,4.95,4.95,4.95,4.95,3.75,4.95,4.95,4.95,4.95,4.95,4.95,4.95,4.95,4.95,4.95,4.95,4.95,4.95,4.95,4.95,4.95,4.95,4.95,4.15,4.95,4.95,4.95,4.95,4.95,4.95,4.95,4.15,4.95,4.95,4.15,4.95,4.15,4.95,4.95,4.95,4.95,4.95,4.95,4.95,4.95,4.95,4.95,4.95,4.95,4.95,4.95,4.95,4.95,4.15,4.95,4.95,4.95,4.95,4.95,4.95,4.95,4.95,4.95,4.95,4.95,4.95,4.95,4.95,4.95,4.95,4.95,4.95,4.95,4.95,4.95,4.15,4.95,4.95,4.95,4.95,4.95,4.15,4.95,4.95,4.15,4.95,4.95,4.95,4.95,4.95,4.95,4.95,4.95,4.95,4.95,4.95,4.95,4.95,4.95,4.95,4.95,4.95,4.95,4.95,4.95,4.95,4.95,4.95,4.95,4.95,4.95,4.95,4.95,4.95,4.95,4.95,4.15,4.15,4.95,4.95,4.95,4.95,4.95,4.95,4.95,4.95,4.95,4.95,3.75,4.95,4.95,4.95,4.95,4.95,4.95,4.95,4.95,4.95,4.95,4.95,4.95,4.95,4.15,4.95,4.95,4.95,4.95,4.15,4.95,4.95,4.95,4.15,4.95,4.95,4.95,4.95,4.95,4.95,4.95,4.95,4.95,4.95,4.95,4.95,4.95,4.95,4.95,4.95,4.95,4.95,4.15,4.95,4.95,4.95,4.95,4.95,4.95,4.95,4.95,4.95,4.95,4.95,4.95,4.95,4.15,4.95,4.95,4.95,4.95,4.95,4.95,4.95,4.95,4.95,4.95,4.95,4.95,4.15,4.95,4.95,4.95,4.15,4.95,4.95,4.15,4.95,4.95,4.95,4.95,4.95,4.95,4.95,4.95,4.15,4.95,4.15,4.95,4.95,4.95,4.95,4.95,4.95,4.95,4.95,4.95,4.95,4.95,4.95,4.95,4.95,4.95,4.95,4.95,4.95,4.95,4.95,4.95,4.95,4.95,4.15,4.95,4.95,4.95,4.95,4.95,4.95,4.95,4.95,4.95,4.95,4.15,4.95,3.75,4.95,4.95,4.95,4.95,4.95,4.95,4.95,4.95,4.15,4.95,4.15,4.95,4.95,4.95,4.95,4.95,4.95,4.95,4.15,4.95,4.95,4.95,4.95,4.95,4.95,4.95,4.95,4.95,4.95,4.15,4.95,4.95,4.95,4.95,4.95,4.15,4.95,4.95,4.95,4.95,4.95,4.95,4.95,4.95,4.95,4.95,4.15,4.95,4.95,4.15,4.95,4.95,4.95,4.95,4.95,4.95,4.95,4.95,4.95,4.15,4.15,4.95,4.95,4.95,4.95,4.95,4.95,4.95,4.95,4.95,4.95,4.95,4.95,4.95,4.95,4.95,4.95,4.95,4.95,4.95,4.95,4.95,4.95,4.15,4.95,4.95,4.95,4.95,4.95,4.15,4.95,4.95,4.95,4.95,4.95,4.95,4.15,4.95,4.95,4.95,4.95,4.95,4.95,4.95,4.95,4.95,4.95,4.95,4.95,4.95,4.95,4.95,4.95,4.95,4.95,4.95,4.95,4.95,4.95,4.95,4.95,4.95,4.95,4.95,4.95,4.15,4.95,4.95,4.95,4.15,4.95,4.95,4.95,4.95,4.95,4.95,4.95,4.95,4.95,4.95,4.95,4.95,4.95,4.95,4.95,4.95,4.95,4.95,4.95,4.15,4.95,4.15,4.95,4.95,4.95,4.95,4.95,4.95,4.15,4.95,4.95,4.95,4.95,4.15,4.95,4.95,4.95,4.95,4.95,4.95,4.95,4.95,4.95,4.95,4.95,4.95,4.95,4.15,4.15,4.95,4.95,4.15,4.95,4.95,4.95,4.95,4.15,4.95,4.15,4.95,4.95,4.95,4.95,4.95,4.95,4.95,4.95,4.95,4.95,4.15,4.95,4.95,4.95,4.95,4.95,4.95,4.95,4.95,4.95,4.95,4.95,4.95,4.95,4.95,4.95,4.95,4.95,4.95,4.95,4.95,4.95,4.95,4.95,4.95,4.95,4.95,4.95,4.95,4.95,4.95,4.95,4.95,4.95,4.95,4.95,4.95,4.95,4.95,4.15,4.15,4.95,4.95,4.95,4.15,4.95,4.95,4.95,4.95,4.95,4.95,4.95,4.95,4.95,4.95,4.95,4.95,4.95,4.95,4.95,4.95,4.95,4.95,4.95,4.95,4.95,4.95,4.95,4.95,4.95,4.95,4.95,4.95,4.95,4.95,4.95,4.15,4.95,4.95,4.95,4.95,4.95,4.15,4.95,4.95,4.95,4.95,4.95,4.95,4.95,4.95,4.95,4.95,4.95,4.95,4.15,4.95,4.95,4.95,4.95,4.95,4.95,4.95,4.95,4.95,4.95,4.95,4.95,4.95,4.95,4.95,4.95,4.95,4.15,4.95,4.95,4.95,3.75,4.95,4.95,4.95,4.95,4.95,4.15,4.95,4.95,4.95,4.95,4.95,4.95,4.95,4.95,4.95,4.95,4.95,4.95,4.95,4.95,4.95,4.95,4.95,4.95,4.15,4.95,4.95,4.95,4.95,4.95,4.95,4.95,4.95,4.95,4.95,4.95,4.95,4.95,4.95,4.95,4.95,4.95,4.95,4.95,4.95,4.95,4.95,4.95,4.95,4.95,4.95,4.95,4.95,4.95,4.95,4.95,4.95,4.15,4.95,4.95,4.95,4.95,4.15,4.95,4.95,4.95,4.95,4.95,4.15,4.95,4.95,4.95,4.95,4.95,4.95,4.15,4.95,4.95,4.15,4.95,4.95,4.95,4.95,4.95,4.95,4.95,4.95,4.15,4.95,4.95,4.95,4.95,4.15,4.15,4.95,4.95,4.95,4.95,4.95,4.95,4.95,4.95,4.95,4.95,4.95,4.95,4.95,4.95,4.95,4.95,4.95,4.95,4.95,4.95,4.95,4.95,4.95,4.95,4.95,4.15,4.95,4.95,4.95,4.95,4.95,4.95,4.95,4.95,4.95,4.15,4.95,4.95,4.95,4.95,4.95,4.95,4.95,4.95,4.95,4.15,4.95,4.95,4.95,4.95,4.95,4.15,4.15,4.95,4.95,4.95,4.3,4.95,4.15,4.95,4.95,4.95,4.95,4.95,4.95,4.95,4.95,4.95,4.95,4.95,4.95,4.95,4.95,4.95,4.95,4.95,4.95,4.95,4.95,4.15,4.95,4.95,4.95,4.95,4.95,4.95,4.15,4.95,4.95,4.95,4.95,4.95,4.95,4.95,4.95,4.95,4.95,4.95,4.95,4.95,4.95,4.95,4.95,4.95,4.95,4.95,4.95,4.95,4.95,4.95,4.95,4.95,4.95,4.95,4.95,4.95,4.95,4.15,4.95,4.95,4.15,4.95,4.95,4.95,4.95,4.95,4.95,4.95,4.95,4.95,4.95,4.95,4.95,4.95,4.95,4.95,4.95,4.95,4.95,4.95,4.95,4.15,4.95,4.95,4.95,4.95,4.95,4.95,4.95,4.95,4.95,4.95,4.95,4.95,4.95,4.95,4.95,4.95,4.95,4.95,4.95,4.95,4.95,4.15,4.95,4.95,4.95,4.95,4.95,4.95,4.95,4.95,4.95,4.95,4.95,4.95,4.95,4.95,4.95,4.95,4.95,4.95,4.95,4.95,4.95,4.95,4.95,4.95,4.95,4.95,4.95,4.95,4.95,4.95,4.15,4.95,4.95,4.95,4.15,4.95,4.95,4.95,4.95,4.95,4.95,4.95,4.15,4.95,4.95,4.95,4.95,4.95,4.95,4.95,4.95,4.95,4.95,4.95,4.95,4.95,4.95,4.95,4.95,4.95,4.95,4.95,4.95,4.95,4.95,4.95,4.95,4.95,4.95,4.95,4.95,4.95,4.95,4.95,4.95,4.95,4.95,4.95,4.15,4.95,4.95,4.95,4.95,4.95,4.95,4.95,4.95,4.95,4.95,4.95,4.95,4.95,4.95,4.95,4.95,4.95,4.95,4.95,4.15,4.95,4.95,4.95,4.95,4.95,4.95,4.95,4.95,4.95,4.95,4.95,4.15,4.95,4.95,4.95,4.95,4.95,4.95,4.95,4.95,4.95,4.95,4.95,4.95,4.95,4.15,4.95,4.95,4.95,4.95,4.95,4.95,4.95,4.95,4.95,4.95,4.95,4.95,4.95,4.95,4.95,4.95,4.95,4.95,4.95,4.95,4.95,4.95,4.95,4.15,4.95,4.95,4.95,4.95,4.95,4.95,4.95,4.95,4.95,4.95,4.95,4.95,4.95,4.95,4.95,4.95,4.95,4.95,4.95,4.95,4.95,10.79,4.95,4.95,4.95,4.95,4.95,4.95,4.95,4.95,4.95,4.95,4.95,4.95,4.95,4.95,4.95,4.95,4.95,4.95,4.95,4.95,4.95,4.95,4.95,4.95,4.95,4.95,4.95,4.95,4.95,4.95,4.95,4.95,4.95,4.95,4.95,4.95,4.95,4.95,4.95,4.95,4.95,4.95,4.95,4.95,4.3,4.95,4.95,4.95,4.95,4.95,4.95,4.95,4.95,4.95,4.95,4.95,4.95,4.95,4.95,4.95,4.95,4.95,4.95,4.95,4.95,4.95,4.95,4.95,4.95,4.95,4.95,4.95,4.95,4.95,4.95,4.95,4.95,4.95,4.95,4.95,4.15,4.95,4.95,4.95,4.95,4.95,4.95,4.95,4.95,4.95,4.95,4.95,4.95,4.95,4.95,4.95,4.95,4.95,4.95,4.95,4.95,4.95,4.95,4.95,4.95,4.95,4.95,4.95,4.95,4.95,4.15,4.95,4.95,4.95,4.95,4.95,4.95,4.95,4.95,4.95,4.95,4.95,4.95,4.15,4.15,4.95,10.79,4.95,4.95,4.95,4.95,4.15,4.95,4.95,4.95,4.95,4.95,4.95,4.95,10.79,4.95,4.95,4.95,4.95,4.95,4.95,4.95,4.95,4.95,4.95,4.95,4.95,4.95,4.95,4.95,4.95,4.95,4.95,4.95],\"yaxis\":\"y\",\"type\":\"scattergl\"},{\"hovertemplate\":\"Country=France<br>Quantity=%{x}<br>UnitPrice=%{y}<extra></extra>\",\"legendgroup\":\"France\",\"marker\":{\"color\":\"#EF553B\",\"symbol\":\"circle\"},\"mode\":\"markers\",\"name\":\"France\",\"showlegend\":true,\"x\":[5,5,10,12,2,12,4,4,4,4,12,8,4,4,4,4,4,4,4,4,4,8],\"xaxis\":\"x\",\"y\":[4.65,4.65,4.95,4.95,4.95,4.95,4.95,4.95,4.95,4.95,4.95,4.95,4.95,4.95,4.95,4.95,4.95,4.95,4.95,4.95,4.95,4.95],\"yaxis\":\"y\",\"type\":\"scattergl\"},{\"hovertemplate\":\"Country=Spain<br>Quantity=%{x}<br>UnitPrice=%{y}<extra></extra>\",\"legendgroup\":\"Spain\",\"marker\":{\"color\":\"#00cc96\",\"symbol\":\"circle\"},\"mode\":\"markers\",\"name\":\"Spain\",\"showlegend\":true,\"x\":[1,5,5,8,4,3,4,8],\"xaxis\":\"x\",\"y\":[4.65,4.65,4.65,4.95,4.95,4.95,4.95,4.95],\"yaxis\":\"y\",\"type\":\"scattergl\"},{\"hovertemplate\":\"Country=Japan<br>Quantity=%{x}<br>UnitPrice=%{y}<extra></extra>\",\"legendgroup\":\"Japan\",\"marker\":{\"color\":\"#ab63fa\",\"symbol\":\"circle\"},\"mode\":\"markers\",\"name\":\"Japan\",\"showlegend\":true,\"x\":[20,100,50],\"xaxis\":\"x\",\"y\":[4.65,3.75,4.15],\"yaxis\":\"y\",\"type\":\"scattergl\"},{\"hovertemplate\":\"Country=Cyprus<br>Quantity=%{x}<br>UnitPrice=%{y}<extra></extra>\",\"legendgroup\":\"Cyprus\",\"marker\":{\"color\":\"#FFA15A\",\"symbol\":\"circle\"},\"mode\":\"markers\",\"name\":\"Cyprus\",\"showlegend\":true,\"x\":[1,5,1],\"xaxis\":\"x\",\"y\":[4.65,4.65,4.95],\"yaxis\":\"y\",\"type\":\"scattergl\"},{\"hovertemplate\":\"Country=Australia<br>Quantity=%{x}<br>UnitPrice=%{y}<extra></extra>\",\"legendgroup\":\"Australia\",\"marker\":{\"color\":\"#19d3f3\",\"symbol\":\"circle\"},\"mode\":\"markers\",\"name\":\"Australia\",\"showlegend\":true,\"x\":[5,4,12,100,24,8,100,12],\"xaxis\":\"x\",\"y\":[4.65,4.95,4.95,4.15,4.95,4.95,4.15,4.95],\"yaxis\":\"y\",\"type\":\"scattergl\"},{\"hovertemplate\":\"Country=Germany<br>Quantity=%{x}<br>UnitPrice=%{y}<extra></extra>\",\"legendgroup\":\"Germany\",\"marker\":{\"color\":\"#FF6692\",\"symbol\":\"circle\"},\"mode\":\"markers\",\"name\":\"Germany\",\"showlegend\":true,\"x\":[10,4,4,8,8],\"xaxis\":\"x\",\"y\":[4.65,4.95,4.95,4.95,4.95],\"yaxis\":\"y\",\"type\":\"scattergl\"},{\"hovertemplate\":\"Country=Lebanon<br>Quantity=%{x}<br>UnitPrice=%{y}<extra></extra>\",\"legendgroup\":\"Lebanon\",\"marker\":{\"color\":\"#B6E880\",\"symbol\":\"circle\"},\"mode\":\"markers\",\"name\":\"Lebanon\",\"showlegend\":true,\"x\":[15],\"xaxis\":\"x\",\"y\":[4.65],\"yaxis\":\"y\",\"type\":\"scattergl\"},{\"hovertemplate\":\"Country=Finland<br>Quantity=%{x}<br>UnitPrice=%{y}<extra></extra>\",\"legendgroup\":\"Finland\",\"marker\":{\"color\":\"#FF97FF\",\"symbol\":\"circle\"},\"mode\":\"markers\",\"name\":\"Finland\",\"showlegend\":true,\"x\":[4,8],\"xaxis\":\"x\",\"y\":[4.95,4.95],\"yaxis\":\"y\",\"type\":\"scattergl\"},{\"hovertemplate\":\"Country=Switzerland<br>Quantity=%{x}<br>UnitPrice=%{y}<extra></extra>\",\"legendgroup\":\"Switzerland\",\"marker\":{\"color\":\"#FECB52\",\"symbol\":\"circle\"},\"mode\":\"markers\",\"name\":\"Switzerland\",\"showlegend\":true,\"x\":[8,4,12,50,12],\"xaxis\":\"x\",\"y\":[4.95,4.95,4.95,4.15,4.95],\"yaxis\":\"y\",\"type\":\"scattergl\"},{\"hovertemplate\":\"Country=EIRE<br>Quantity=%{x}<br>UnitPrice=%{y}<extra></extra>\",\"legendgroup\":\"EIRE\",\"marker\":{\"color\":\"#636efa\",\"symbol\":\"circle\"},\"mode\":\"markers\",\"name\":\"EIRE\",\"showlegend\":true,\"x\":[4,50,4,8,50,4,72,4,72,4,3,4,4,4,8,4,4,96,4],\"xaxis\":\"x\",\"y\":[4.95,4.15,4.95,4.95,4.15,4.95,4.15,4.95,4.15,4.95,4.95,4.95,4.95,4.95,4.95,4.95,4.95,4.15,4.95],\"yaxis\":\"y\",\"type\":\"scattergl\"},{\"hovertemplate\":\"Country=Belgium<br>Quantity=%{x}<br>UnitPrice=%{y}<extra></extra>\",\"legendgroup\":\"Belgium\",\"marker\":{\"color\":\"#EF553B\",\"symbol\":\"circle\"},\"mode\":\"markers\",\"name\":\"Belgium\",\"showlegend\":true,\"x\":[4,4],\"xaxis\":\"x\",\"y\":[4.95,4.95],\"yaxis\":\"y\",\"type\":\"scattergl\"},{\"hovertemplate\":\"Country=Austria<br>Quantity=%{x}<br>UnitPrice=%{y}<extra></extra>\",\"legendgroup\":\"Austria\",\"marker\":{\"color\":\"#00cc96\",\"symbol\":\"circle\"},\"mode\":\"markers\",\"name\":\"Austria\",\"showlegend\":true,\"x\":[8],\"xaxis\":\"x\",\"y\":[4.95],\"yaxis\":\"y\",\"type\":\"scattergl\"},{\"hovertemplate\":\"Country=Channel Islands<br>Quantity=%{x}<br>UnitPrice=%{y}<extra></extra>\",\"legendgroup\":\"Channel Islands\",\"marker\":{\"color\":\"#ab63fa\",\"symbol\":\"circle\"},\"mode\":\"markers\",\"name\":\"Channel Islands\",\"showlegend\":true,\"x\":[12,4,24],\"xaxis\":\"x\",\"y\":[4.95,4.95,4.95],\"yaxis\":\"y\",\"type\":\"scattergl\"},{\"hovertemplate\":\"Country=Denmark<br>Quantity=%{x}<br>UnitPrice=%{y}<extra></extra>\",\"legendgroup\":\"Denmark\",\"marker\":{\"color\":\"#FFA15A\",\"symbol\":\"circle\"},\"mode\":\"markers\",\"name\":\"Denmark\",\"showlegend\":true,\"x\":[12],\"xaxis\":\"x\",\"y\":[4.95],\"yaxis\":\"y\",\"type\":\"scattergl\"},{\"hovertemplate\":\"Country=Singapore<br>Quantity=%{x}<br>UnitPrice=%{y}<extra></extra>\",\"legendgroup\":\"Singapore\",\"marker\":{\"color\":\"#19d3f3\",\"symbol\":\"circle\"},\"mode\":\"markers\",\"name\":\"Singapore\",\"showlegend\":true,\"x\":[8],\"xaxis\":\"x\",\"y\":[4.95],\"yaxis\":\"y\",\"type\":\"scattergl\"},{\"hovertemplate\":\"Country=Netherlands<br>Quantity=%{x}<br>UnitPrice=%{y}<extra></extra>\",\"legendgroup\":\"Netherlands\",\"marker\":{\"color\":\"#FF6692\",\"symbol\":\"circle\"},\"mode\":\"markers\",\"name\":\"Netherlands\",\"showlegend\":true,\"x\":[50],\"xaxis\":\"x\",\"y\":[4.15],\"yaxis\":\"y\",\"type\":\"scattergl\"},{\"hovertemplate\":\"Country=Norway<br>Quantity=%{x}<br>UnitPrice=%{y}<extra></extra>\",\"legendgroup\":\"Norway\",\"marker\":{\"color\":\"#B6E880\",\"symbol\":\"circle\"},\"mode\":\"markers\",\"name\":\"Norway\",\"showlegend\":true,\"x\":[4,8],\"xaxis\":\"x\",\"y\":[4.95,4.95],\"yaxis\":\"y\",\"type\":\"scattergl\"},{\"hovertemplate\":\"Country=Israel<br>Quantity=%{x}<br>UnitPrice=%{y}<extra></extra>\",\"legendgroup\":\"Israel\",\"marker\":{\"color\":\"#FF97FF\",\"symbol\":\"circle\"},\"mode\":\"markers\",\"name\":\"Israel\",\"showlegend\":true,\"x\":[1],\"xaxis\":\"x\",\"y\":[4.95],\"yaxis\":\"y\",\"type\":\"scattergl\"},{\"hovertemplate\":\"Country=South Africa<br>Quantity=%{x}<br>UnitPrice=%{y}<extra></extra>\",\"legendgroup\":\"South Africa\",\"marker\":{\"color\":\"#FECB52\",\"symbol\":\"circle\"},\"mode\":\"markers\",\"name\":\"South Africa\",\"showlegend\":true,\"x\":[4],\"xaxis\":\"x\",\"y\":[4.95],\"yaxis\":\"y\",\"type\":\"scattergl\"}],                        {\"template\":{\"data\":{\"histogram2dcontour\":[{\"type\":\"histogram2dcontour\",\"colorbar\":{\"outlinewidth\":0,\"ticks\":\"\"},\"colorscale\":[[0.0,\"#0d0887\"],[0.1111111111111111,\"#46039f\"],[0.2222222222222222,\"#7201a8\"],[0.3333333333333333,\"#9c179e\"],[0.4444444444444444,\"#bd3786\"],[0.5555555555555556,\"#d8576b\"],[0.6666666666666666,\"#ed7953\"],[0.7777777777777778,\"#fb9f3a\"],[0.8888888888888888,\"#fdca26\"],[1.0,\"#f0f921\"]]}],\"choropleth\":[{\"type\":\"choropleth\",\"colorbar\":{\"outlinewidth\":0,\"ticks\":\"\"}}],\"histogram2d\":[{\"type\":\"histogram2d\",\"colorbar\":{\"outlinewidth\":0,\"ticks\":\"\"},\"colorscale\":[[0.0,\"#0d0887\"],[0.1111111111111111,\"#46039f\"],[0.2222222222222222,\"#7201a8\"],[0.3333333333333333,\"#9c179e\"],[0.4444444444444444,\"#bd3786\"],[0.5555555555555556,\"#d8576b\"],[0.6666666666666666,\"#ed7953\"],[0.7777777777777778,\"#fb9f3a\"],[0.8888888888888888,\"#fdca26\"],[1.0,\"#f0f921\"]]}],\"heatmap\":[{\"type\":\"heatmap\",\"colorbar\":{\"outlinewidth\":0,\"ticks\":\"\"},\"colorscale\":[[0.0,\"#0d0887\"],[0.1111111111111111,\"#46039f\"],[0.2222222222222222,\"#7201a8\"],[0.3333333333333333,\"#9c179e\"],[0.4444444444444444,\"#bd3786\"],[0.5555555555555556,\"#d8576b\"],[0.6666666666666666,\"#ed7953\"],[0.7777777777777778,\"#fb9f3a\"],[0.8888888888888888,\"#fdca26\"],[1.0,\"#f0f921\"]]}],\"heatmapgl\":[{\"type\":\"heatmapgl\",\"colorbar\":{\"outlinewidth\":0,\"ticks\":\"\"},\"colorscale\":[[0.0,\"#0d0887\"],[0.1111111111111111,\"#46039f\"],[0.2222222222222222,\"#7201a8\"],[0.3333333333333333,\"#9c179e\"],[0.4444444444444444,\"#bd3786\"],[0.5555555555555556,\"#d8576b\"],[0.6666666666666666,\"#ed7953\"],[0.7777777777777778,\"#fb9f3a\"],[0.8888888888888888,\"#fdca26\"],[1.0,\"#f0f921\"]]}],\"contourcarpet\":[{\"type\":\"contourcarpet\",\"colorbar\":{\"outlinewidth\":0,\"ticks\":\"\"}}],\"contour\":[{\"type\":\"contour\",\"colorbar\":{\"outlinewidth\":0,\"ticks\":\"\"},\"colorscale\":[[0.0,\"#0d0887\"],[0.1111111111111111,\"#46039f\"],[0.2222222222222222,\"#7201a8\"],[0.3333333333333333,\"#9c179e\"],[0.4444444444444444,\"#bd3786\"],[0.5555555555555556,\"#d8576b\"],[0.6666666666666666,\"#ed7953\"],[0.7777777777777778,\"#fb9f3a\"],[0.8888888888888888,\"#fdca26\"],[1.0,\"#f0f921\"]]}],\"surface\":[{\"type\":\"surface\",\"colorbar\":{\"outlinewidth\":0,\"ticks\":\"\"},\"colorscale\":[[0.0,\"#0d0887\"],[0.1111111111111111,\"#46039f\"],[0.2222222222222222,\"#7201a8\"],[0.3333333333333333,\"#9c179e\"],[0.4444444444444444,\"#bd3786\"],[0.5555555555555556,\"#d8576b\"],[0.6666666666666666,\"#ed7953\"],[0.7777777777777778,\"#fb9f3a\"],[0.8888888888888888,\"#fdca26\"],[1.0,\"#f0f921\"]]}],\"mesh3d\":[{\"type\":\"mesh3d\",\"colorbar\":{\"outlinewidth\":0,\"ticks\":\"\"}}],\"scatter\":[{\"fillpattern\":{\"fillmode\":\"overlay\",\"size\":10,\"solidity\":0.2},\"type\":\"scatter\"}],\"parcoords\":[{\"type\":\"parcoords\",\"line\":{\"colorbar\":{\"outlinewidth\":0,\"ticks\":\"\"}}}],\"scatterpolargl\":[{\"type\":\"scatterpolargl\",\"marker\":{\"colorbar\":{\"outlinewidth\":0,\"ticks\":\"\"}}}],\"bar\":[{\"error_x\":{\"color\":\"#2a3f5f\"},\"error_y\":{\"color\":\"#2a3f5f\"},\"marker\":{\"line\":{\"color\":\"#E5ECF6\",\"width\":0.5},\"pattern\":{\"fillmode\":\"overlay\",\"size\":10,\"solidity\":0.2}},\"type\":\"bar\"}],\"scattergeo\":[{\"type\":\"scattergeo\",\"marker\":{\"colorbar\":{\"outlinewidth\":0,\"ticks\":\"\"}}}],\"scatterpolar\":[{\"type\":\"scatterpolar\",\"marker\":{\"colorbar\":{\"outlinewidth\":0,\"ticks\":\"\"}}}],\"histogram\":[{\"marker\":{\"pattern\":{\"fillmode\":\"overlay\",\"size\":10,\"solidity\":0.2}},\"type\":\"histogram\"}],\"scattergl\":[{\"type\":\"scattergl\",\"marker\":{\"colorbar\":{\"outlinewidth\":0,\"ticks\":\"\"}}}],\"scatter3d\":[{\"type\":\"scatter3d\",\"line\":{\"colorbar\":{\"outlinewidth\":0,\"ticks\":\"\"}},\"marker\":{\"colorbar\":{\"outlinewidth\":0,\"ticks\":\"\"}}}],\"scattermapbox\":[{\"type\":\"scattermapbox\",\"marker\":{\"colorbar\":{\"outlinewidth\":0,\"ticks\":\"\"}}}],\"scatterternary\":[{\"type\":\"scatterternary\",\"marker\":{\"colorbar\":{\"outlinewidth\":0,\"ticks\":\"\"}}}],\"scattercarpet\":[{\"type\":\"scattercarpet\",\"marker\":{\"colorbar\":{\"outlinewidth\":0,\"ticks\":\"\"}}}],\"carpet\":[{\"aaxis\":{\"endlinecolor\":\"#2a3f5f\",\"gridcolor\":\"white\",\"linecolor\":\"white\",\"minorgridcolor\":\"white\",\"startlinecolor\":\"#2a3f5f\"},\"baxis\":{\"endlinecolor\":\"#2a3f5f\",\"gridcolor\":\"white\",\"linecolor\":\"white\",\"minorgridcolor\":\"white\",\"startlinecolor\":\"#2a3f5f\"},\"type\":\"carpet\"}],\"table\":[{\"cells\":{\"fill\":{\"color\":\"#EBF0F8\"},\"line\":{\"color\":\"white\"}},\"header\":{\"fill\":{\"color\":\"#C8D4E3\"},\"line\":{\"color\":\"white\"}},\"type\":\"table\"}],\"barpolar\":[{\"marker\":{\"line\":{\"color\":\"#E5ECF6\",\"width\":0.5},\"pattern\":{\"fillmode\":\"overlay\",\"size\":10,\"solidity\":0.2}},\"type\":\"barpolar\"}],\"pie\":[{\"automargin\":true,\"type\":\"pie\"}]},\"layout\":{\"autotypenumbers\":\"strict\",\"colorway\":[\"#636efa\",\"#EF553B\",\"#00cc96\",\"#ab63fa\",\"#FFA15A\",\"#19d3f3\",\"#FF6692\",\"#B6E880\",\"#FF97FF\",\"#FECB52\"],\"font\":{\"color\":\"#2a3f5f\"},\"hovermode\":\"closest\",\"hoverlabel\":{\"align\":\"left\"},\"paper_bgcolor\":\"white\",\"plot_bgcolor\":\"#E5ECF6\",\"polar\":{\"bgcolor\":\"#E5ECF6\",\"angularaxis\":{\"gridcolor\":\"white\",\"linecolor\":\"white\",\"ticks\":\"\"},\"radialaxis\":{\"gridcolor\":\"white\",\"linecolor\":\"white\",\"ticks\":\"\"}},\"ternary\":{\"bgcolor\":\"#E5ECF6\",\"aaxis\":{\"gridcolor\":\"white\",\"linecolor\":\"white\",\"ticks\":\"\"},\"baxis\":{\"gridcolor\":\"white\",\"linecolor\":\"white\",\"ticks\":\"\"},\"caxis\":{\"gridcolor\":\"white\",\"linecolor\":\"white\",\"ticks\":\"\"}},\"coloraxis\":{\"colorbar\":{\"outlinewidth\":0,\"ticks\":\"\"}},\"colorscale\":{\"sequential\":[[0.0,\"#0d0887\"],[0.1111111111111111,\"#46039f\"],[0.2222222222222222,\"#7201a8\"],[0.3333333333333333,\"#9c179e\"],[0.4444444444444444,\"#bd3786\"],[0.5555555555555556,\"#d8576b\"],[0.6666666666666666,\"#ed7953\"],[0.7777777777777778,\"#fb9f3a\"],[0.8888888888888888,\"#fdca26\"],[1.0,\"#f0f921\"]],\"sequentialminus\":[[0.0,\"#0d0887\"],[0.1111111111111111,\"#46039f\"],[0.2222222222222222,\"#7201a8\"],[0.3333333333333333,\"#9c179e\"],[0.4444444444444444,\"#bd3786\"],[0.5555555555555556,\"#d8576b\"],[0.6666666666666666,\"#ed7953\"],[0.7777777777777778,\"#fb9f3a\"],[0.8888888888888888,\"#fdca26\"],[1.0,\"#f0f921\"]],\"diverging\":[[0,\"#8e0152\"],[0.1,\"#c51b7d\"],[0.2,\"#de77ae\"],[0.3,\"#f1b6da\"],[0.4,\"#fde0ef\"],[0.5,\"#f7f7f7\"],[0.6,\"#e6f5d0\"],[0.7,\"#b8e186\"],[0.8,\"#7fbc41\"],[0.9,\"#4d9221\"],[1,\"#276419\"]]},\"xaxis\":{\"gridcolor\":\"white\",\"linecolor\":\"white\",\"ticks\":\"\",\"title\":{\"standoff\":15},\"zerolinecolor\":\"white\",\"automargin\":true,\"zerolinewidth\":2},\"yaxis\":{\"gridcolor\":\"white\",\"linecolor\":\"white\",\"ticks\":\"\",\"title\":{\"standoff\":15},\"zerolinecolor\":\"white\",\"automargin\":true,\"zerolinewidth\":2},\"scene\":{\"xaxis\":{\"backgroundcolor\":\"#E5ECF6\",\"gridcolor\":\"white\",\"linecolor\":\"white\",\"showbackground\":true,\"ticks\":\"\",\"zerolinecolor\":\"white\",\"gridwidth\":2},\"yaxis\":{\"backgroundcolor\":\"#E5ECF6\",\"gridcolor\":\"white\",\"linecolor\":\"white\",\"showbackground\":true,\"ticks\":\"\",\"zerolinecolor\":\"white\",\"gridwidth\":2},\"zaxis\":{\"backgroundcolor\":\"#E5ECF6\",\"gridcolor\":\"white\",\"linecolor\":\"white\",\"showbackground\":true,\"ticks\":\"\",\"zerolinecolor\":\"white\",\"gridwidth\":2}},\"shapedefaults\":{\"line\":{\"color\":\"#2a3f5f\"}},\"annotationdefaults\":{\"arrowcolor\":\"#2a3f5f\",\"arrowhead\":0,\"arrowwidth\":1},\"geo\":{\"bgcolor\":\"white\",\"landcolor\":\"#E5ECF6\",\"subunitcolor\":\"white\",\"showland\":true,\"showlakes\":true,\"lakecolor\":\"white\"},\"title\":{\"x\":0.05},\"mapbox\":{\"style\":\"light\"}}},\"xaxis\":{\"anchor\":\"y\",\"domain\":[0.0,1.0],\"title\":{\"text\":\"Quantity\"}},\"yaxis\":{\"anchor\":\"x\",\"domain\":[0.0,1.0],\"title\":{\"text\":\"UnitPrice\"}},\"legend\":{\"title\":{\"text\":\"Country\"},\"tracegroupgap\":0},\"margin\":{\"t\":60}},                        {\"responsive\": true}                    ).then(function(){\n",
       "                            \n",
       "var gd = document.getElementById('a81e1428-f42d-470e-8f03-b2c18168abb6');\n",
       "var x = new MutationObserver(function (mutations, observer) {{\n",
       "        var display = window.getComputedStyle(gd).display;\n",
       "        if (!display || display === 'none') {{\n",
       "            console.log([gd, 'removed!']);\n",
       "            Plotly.purge(gd);\n",
       "            observer.disconnect();\n",
       "        }}\n",
       "}});\n",
       "\n",
       "// Listen for the removal of the full notebook cells\n",
       "var notebookContainer = gd.closest('#notebook-container');\n",
       "if (notebookContainer) {{\n",
       "    x.observe(notebookContainer, {childList: true});\n",
       "}}\n",
       "\n",
       "// Listen for the clearing of the current output cell\n",
       "var outputEl = gd.closest('.output');\n",
       "if (outputEl) {{\n",
       "    x.observe(outputEl, {childList: true});\n",
       "}}\n",
       "\n",
       "                        })                };                });            </script>        </div>"
      ]
     },
     "metadata": {},
     "output_type": "display_data"
    }
   ],
   "source": [
    "data[data['Description']=='PARTY BUNTING'].plot(x='Quantity', y='UnitPrice',kind='scatter', color='Country').show()"
   ]
  },
  {
   "cell_type": "markdown",
   "metadata": {},
   "source": [
    "## 4. Create a set of interactive histograms showing the distributions of quantity per invoice for the following countries: EIRE, Germany, France, and Netherlands."
   ]
  },
  {
   "cell_type": "code",
   "execution_count": null,
   "metadata": {},
   "outputs": [],
   "source": []
  },
  {
   "cell_type": "markdown",
   "metadata": {},
   "source": [
    "## 5. Create an interactive scatter plot that plots number of invoices (x-axis) vs. number of customers (y-axis) and the plot points represent individual products. Add two sliders that control the x and y axis ranges."
   ]
  },
  {
   "cell_type": "code",
   "execution_count": null,
   "metadata": {},
   "outputs": [],
   "source": []
  },
  {
   "cell_type": "code",
   "execution_count": null,
   "metadata": {},
   "outputs": [],
   "source": []
  }
 ],
 "metadata": {
  "kernelspec": {
   "display_name": "Python 3",
   "language": "python",
   "name": "python3"
  },
  "language_info": {
   "codemirror_mode": {
    "name": "ipython",
    "version": 3
   },
   "file_extension": ".py",
   "mimetype": "text/x-python",
   "name": "python",
   "nbconvert_exporter": "python",
   "pygments_lexer": "ipython3",
   "version": "3.9.7"
  },
  "varInspector": {
   "cols": {
    "lenName": 16,
    "lenType": 16,
    "lenVar": 40
   },
   "kernels_config": {
    "python": {
     "delete_cmd_postfix": "",
     "delete_cmd_prefix": "del ",
     "library": "var_list.py",
     "varRefreshCmd": "print(var_dic_list())"
    },
    "r": {
     "delete_cmd_postfix": ") ",
     "delete_cmd_prefix": "rm(",
     "library": "var_list.r",
     "varRefreshCmd": "cat(var_dic_list()) "
    }
   },
   "types_to_exclude": [
    "module",
    "function",
    "builtin_function_or_method",
    "instance",
    "_Feature"
   ],
   "window_display": false
  }
 },
 "nbformat": 4,
 "nbformat_minor": 2
}
